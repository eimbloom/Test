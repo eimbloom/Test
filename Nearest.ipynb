{
 "cells": [
  {
   "cell_type": "code",
   "execution_count": 1,
   "id": "40f0d006",
   "metadata": {},
   "outputs": [],
   "source": [
    "import pandas as pd\n",
    "%matplotlib inline\n",
    "#GRO import\n",
    "GRO = pd.read_excel('https://recovery.smithschool.ox.ac.uk/wp-content/uploads/2021/05/20210524-Global-Recovery-Observatory-publicv2.xlsx', sheet_name=\"COVID-19 Measures\",\n",
    "                  na_values=[\"..\"], usecols={'Country', 'Total Value, USD (billions)', 'Clean archetype?', 'Recovery?'})\n",
    "index = GRO[GRO['Recovery?'] != 1].index\n",
    "rec = GRO.drop(index, inplace=False)\n",
    "rec = rec.groupby([\"Country\"], as_index=False).sum()\n",
    "rec = rec.drop(columns=['Recovery?', 'Clean archetype?'])\n",
    "\n",
    "index2 = GRO[GRO['Clean archetype?'] != 1].index\n",
    "greenrec = GRO.drop(index2, inplace=False)\n",
    "index = greenrec[greenrec['Recovery?'] != 1].index\n",
    "greenrec.drop(index, inplace=True)\n",
    "greenrec = greenrec.groupby([\"Country\"], as_index=False).sum()\n",
    "greenrec = greenrec.drop(columns=['Recovery?', 'Clean archetype?'])"
   ]
  },
  {
   "cell_type": "code",
   "execution_count": 2,
   "id": "9756e2d5",
   "metadata": {},
   "outputs": [
    {
     "data": {
      "text/html": [
       "<div>\n",
       "<style scoped>\n",
       "    .dataframe tbody tr th:only-of-type {\n",
       "        vertical-align: middle;\n",
       "    }\n",
       "\n",
       "    .dataframe tbody tr th {\n",
       "        vertical-align: top;\n",
       "    }\n",
       "\n",
       "    .dataframe thead th {\n",
       "        text-align: right;\n",
       "    }\n",
       "</style>\n",
       "<table border=\"1\" class=\"dataframe\">\n",
       "  <thead>\n",
       "    <tr style=\"text-align: right;\">\n",
       "      <th></th>\n",
       "      <th>Country</th>\n",
       "      <th>Green recovery spending</th>\n",
       "      <th>Percent</th>\n",
       "    </tr>\n",
       "  </thead>\n",
       "  <tbody>\n",
       "    <tr>\n",
       "      <th>0</th>\n",
       "      <td>Argentina</td>\n",
       "      <td>0.00</td>\n",
       "      <td>0.00</td>\n",
       "    </tr>\n",
       "    <tr>\n",
       "      <th>1</th>\n",
       "      <td>Australia</td>\n",
       "      <td>2.30</td>\n",
       "      <td>1.76</td>\n",
       "    </tr>\n",
       "    <tr>\n",
       "      <th>2</th>\n",
       "      <td>Austria</td>\n",
       "      <td>0.38</td>\n",
       "      <td>23.75</td>\n",
       "    </tr>\n",
       "    <tr>\n",
       "      <th>3</th>\n",
       "      <td>Bangladesh</td>\n",
       "      <td>0.55</td>\n",
       "      <td>87.30</td>\n",
       "    </tr>\n",
       "    <tr>\n",
       "      <th>4</th>\n",
       "      <td>Brazil</td>\n",
       "      <td>0.28</td>\n",
       "      <td>51.85</td>\n",
       "    </tr>\n",
       "    <tr>\n",
       "      <th>5</th>\n",
       "      <td>Burkina Faso</td>\n",
       "      <td>0.00</td>\n",
       "      <td>NaN</td>\n",
       "    </tr>\n",
       "    <tr>\n",
       "      <th>6</th>\n",
       "      <td>Canada</td>\n",
       "      <td>21.67</td>\n",
       "      <td>55.99</td>\n",
       "    </tr>\n",
       "    <tr>\n",
       "      <th>7</th>\n",
       "      <td>Chile</td>\n",
       "      <td>0.45</td>\n",
       "      <td>14.38</td>\n",
       "    </tr>\n",
       "    <tr>\n",
       "      <th>8</th>\n",
       "      <td>China</td>\n",
       "      <td>51.88</td>\n",
       "      <td>12.14</td>\n",
       "    </tr>\n",
       "    <tr>\n",
       "      <th>9</th>\n",
       "      <td>Colombia</td>\n",
       "      <td>0.15</td>\n",
       "      <td>46.88</td>\n",
       "    </tr>\n",
       "    <tr>\n",
       "      <th>10</th>\n",
       "      <td>Cuba</td>\n",
       "      <td>0.00</td>\n",
       "      <td>NaN</td>\n",
       "    </tr>\n",
       "    <tr>\n",
       "      <th>11</th>\n",
       "      <td>Denmark</td>\n",
       "      <td>8.24</td>\n",
       "      <td>62.00</td>\n",
       "    </tr>\n",
       "    <tr>\n",
       "      <th>12</th>\n",
       "      <td>Dominican Republic</td>\n",
       "      <td>0.00</td>\n",
       "      <td>0.00</td>\n",
       "    </tr>\n",
       "    <tr>\n",
       "      <th>13</th>\n",
       "      <td>EIB</td>\n",
       "      <td>238.24</td>\n",
       "      <td>75.48</td>\n",
       "    </tr>\n",
       "    <tr>\n",
       "      <th>14</th>\n",
       "      <td>European Union</td>\n",
       "      <td>78.71</td>\n",
       "      <td>9.92</td>\n",
       "    </tr>\n",
       "    <tr>\n",
       "      <th>15</th>\n",
       "      <td>Finland</td>\n",
       "      <td>2.79</td>\n",
       "      <td>58.00</td>\n",
       "    </tr>\n",
       "    <tr>\n",
       "      <th>16</th>\n",
       "      <td>France</td>\n",
       "      <td>40.01</td>\n",
       "      <td>35.56</td>\n",
       "    </tr>\n",
       "    <tr>\n",
       "      <th>17</th>\n",
       "      <td>Germany</td>\n",
       "      <td>47.43</td>\n",
       "      <td>47.33</td>\n",
       "    </tr>\n",
       "    <tr>\n",
       "      <th>18</th>\n",
       "      <td>Ghana</td>\n",
       "      <td>0.00</td>\n",
       "      <td>0.00</td>\n",
       "    </tr>\n",
       "    <tr>\n",
       "      <th>19</th>\n",
       "      <td>Honduras</td>\n",
       "      <td>0.00</td>\n",
       "      <td>0.00</td>\n",
       "    </tr>\n",
       "    <tr>\n",
       "      <th>20</th>\n",
       "      <td>India</td>\n",
       "      <td>0.82</td>\n",
       "      <td>5.10</td>\n",
       "    </tr>\n",
       "    <tr>\n",
       "      <th>21</th>\n",
       "      <td>Iraq</td>\n",
       "      <td>0.00</td>\n",
       "      <td>0.00</td>\n",
       "    </tr>\n",
       "    <tr>\n",
       "      <th>22</th>\n",
       "      <td>Ireland</td>\n",
       "      <td>0.36</td>\n",
       "      <td>6.30</td>\n",
       "    </tr>\n",
       "    <tr>\n",
       "      <th>23</th>\n",
       "      <td>Israel</td>\n",
       "      <td>0.62</td>\n",
       "      <td>28.57</td>\n",
       "    </tr>\n",
       "    <tr>\n",
       "      <th>24</th>\n",
       "      <td>Italy</td>\n",
       "      <td>0.90</td>\n",
       "      <td>1.53</td>\n",
       "    </tr>\n",
       "    <tr>\n",
       "      <th>25</th>\n",
       "      <td>Jamaica</td>\n",
       "      <td>0.05</td>\n",
       "      <td>100.00</td>\n",
       "    </tr>\n",
       "    <tr>\n",
       "      <th>26</th>\n",
       "      <td>Japan</td>\n",
       "      <td>23.67</td>\n",
       "      <td>12.28</td>\n",
       "    </tr>\n",
       "    <tr>\n",
       "      <th>27</th>\n",
       "      <td>Kenya</td>\n",
       "      <td>0.04</td>\n",
       "      <td>22.22</td>\n",
       "    </tr>\n",
       "    <tr>\n",
       "      <th>28</th>\n",
       "      <td>Mauritius</td>\n",
       "      <td>0.01</td>\n",
       "      <td>100.00</td>\n",
       "    </tr>\n",
       "    <tr>\n",
       "      <th>29</th>\n",
       "      <td>Mexico</td>\n",
       "      <td>0.00</td>\n",
       "      <td>0.00</td>\n",
       "    </tr>\n",
       "    <tr>\n",
       "      <th>30</th>\n",
       "      <td>Netherlands</td>\n",
       "      <td>0.18</td>\n",
       "      <td>0.66</td>\n",
       "    </tr>\n",
       "    <tr>\n",
       "      <th>31</th>\n",
       "      <td>Norway</td>\n",
       "      <td>4.42</td>\n",
       "      <td>53.51</td>\n",
       "    </tr>\n",
       "    <tr>\n",
       "      <th>32</th>\n",
       "      <td>Pakistan</td>\n",
       "      <td>0.13</td>\n",
       "      <td>4.63</td>\n",
       "    </tr>\n",
       "    <tr>\n",
       "      <th>33</th>\n",
       "      <td>Panama</td>\n",
       "      <td>0.18</td>\n",
       "      <td>50.00</td>\n",
       "    </tr>\n",
       "    <tr>\n",
       "      <th>34</th>\n",
       "      <td>Peru</td>\n",
       "      <td>0.00</td>\n",
       "      <td>0.00</td>\n",
       "    </tr>\n",
       "    <tr>\n",
       "      <th>35</th>\n",
       "      <td>Philippines</td>\n",
       "      <td>0.00</td>\n",
       "      <td>0.00</td>\n",
       "    </tr>\n",
       "    <tr>\n",
       "      <th>36</th>\n",
       "      <td>Poland</td>\n",
       "      <td>5.24</td>\n",
       "      <td>30.77</td>\n",
       "    </tr>\n",
       "    <tr>\n",
       "      <th>37</th>\n",
       "      <td>Senegal</td>\n",
       "      <td>0.10</td>\n",
       "      <td>18.87</td>\n",
       "    </tr>\n",
       "    <tr>\n",
       "      <th>38</th>\n",
       "      <td>South Korea</td>\n",
       "      <td>53.30</td>\n",
       "      <td>26.80</td>\n",
       "    </tr>\n",
       "    <tr>\n",
       "      <th>39</th>\n",
       "      <td>Spain</td>\n",
       "      <td>51.19</td>\n",
       "      <td>23.30</td>\n",
       "    </tr>\n",
       "    <tr>\n",
       "      <th>40</th>\n",
       "      <td>Sweden</td>\n",
       "      <td>1.10</td>\n",
       "      <td>41.67</td>\n",
       "    </tr>\n",
       "    <tr>\n",
       "      <th>41</th>\n",
       "      <td>Switzerland</td>\n",
       "      <td>1.57</td>\n",
       "      <td>53.58</td>\n",
       "    </tr>\n",
       "    <tr>\n",
       "      <th>42</th>\n",
       "      <td>Thailand</td>\n",
       "      <td>0.00</td>\n",
       "      <td>0.00</td>\n",
       "    </tr>\n",
       "    <tr>\n",
       "      <th>43</th>\n",
       "      <td>Turkey</td>\n",
       "      <td>2.44</td>\n",
       "      <td>100.00</td>\n",
       "    </tr>\n",
       "    <tr>\n",
       "      <th>44</th>\n",
       "      <td>United Kingdom</td>\n",
       "      <td>65.67</td>\n",
       "      <td>16.77</td>\n",
       "    </tr>\n",
       "    <tr>\n",
       "      <th>45</th>\n",
       "      <td>United States</td>\n",
       "      <td>9.90</td>\n",
       "      <td>8.06</td>\n",
       "    </tr>\n",
       "    <tr>\n",
       "      <th>46</th>\n",
       "      <td>Vietnam</td>\n",
       "      <td>0.00</td>\n",
       "      <td>NaN</td>\n",
       "    </tr>\n",
       "  </tbody>\n",
       "</table>\n",
       "</div>"
      ],
      "text/plain": [
       "               Country  Green recovery spending  Percent\n",
       "0            Argentina                     0.00     0.00\n",
       "1            Australia                     2.30     1.76\n",
       "2              Austria                     0.38    23.75\n",
       "3           Bangladesh                     0.55    87.30\n",
       "4               Brazil                     0.28    51.85\n",
       "5         Burkina Faso                     0.00      NaN\n",
       "6               Canada                    21.67    55.99\n",
       "7                Chile                     0.45    14.38\n",
       "8                China                    51.88    12.14\n",
       "9             Colombia                     0.15    46.88\n",
       "10                Cuba                     0.00      NaN\n",
       "11             Denmark                     8.24    62.00\n",
       "12  Dominican Republic                     0.00     0.00\n",
       "13                 EIB                   238.24    75.48\n",
       "14      European Union                    78.71     9.92\n",
       "15             Finland                     2.79    58.00\n",
       "16              France                    40.01    35.56\n",
       "17             Germany                    47.43    47.33\n",
       "18               Ghana                     0.00     0.00\n",
       "19            Honduras                     0.00     0.00\n",
       "20               India                     0.82     5.10\n",
       "21                Iraq                     0.00     0.00\n",
       "22             Ireland                     0.36     6.30\n",
       "23              Israel                     0.62    28.57\n",
       "24               Italy                     0.90     1.53\n",
       "25             Jamaica                     0.05   100.00\n",
       "26               Japan                    23.67    12.28\n",
       "27               Kenya                     0.04    22.22\n",
       "28           Mauritius                     0.01   100.00\n",
       "29              Mexico                     0.00     0.00\n",
       "30         Netherlands                     0.18     0.66\n",
       "31              Norway                     4.42    53.51\n",
       "32            Pakistan                     0.13     4.63\n",
       "33              Panama                     0.18    50.00\n",
       "34                Peru                     0.00     0.00\n",
       "35         Philippines                     0.00     0.00\n",
       "36              Poland                     5.24    30.77\n",
       "37             Senegal                     0.10    18.87\n",
       "38         South Korea                    53.30    26.80\n",
       "39               Spain                    51.19    23.30\n",
       "40              Sweden                     1.10    41.67\n",
       "41         Switzerland                     1.57    53.58\n",
       "42            Thailand                     0.00     0.00\n",
       "43              Turkey                     2.44   100.00\n",
       "44      United Kingdom                    65.67    16.77\n",
       "45       United States                     9.90     8.06\n",
       "46             Vietnam                     0.00      NaN"
      ]
     },
     "execution_count": 2,
     "metadata": {},
     "output_type": "execute_result"
    }
   ],
   "source": [
    "merge = greenrec.merge(rec, how='left', left_on='Country', right_on='Country')\n",
    "merge['Percent'] = (merge['Total Value, USD (billions)_x'] / merge['Total Value, USD (billions)_y']) * 100\n",
    "merge.rename(columns = {\"Total Value, USD (billions)_x\" : \"Green recovery spending\", \"Total Value, USD (billions)_y\" : \"Recovery spending\"}, inplace=True)\n",
    "merge = merge.round({\"Percent\" : 2})\n",
    "merge = merge[['Country', 'Green recovery spending', 'Percent']]\n",
    "merge"
   ]
  },
  {
   "cell_type": "code",
   "execution_count": null,
   "id": "2a76dd18",
   "metadata": {},
   "outputs": [],
   "source": [
    "#renewable energy consumption import\n",
    "df = pd.read_excel(r'C:\\Users\\ebloom\\Desktop\\IRENA.xlsx',\n",
    "                  na_values=[\"0\", \"..\"])\n",
    "df = df[df['Year'] == 2018]\n",
    "df = df[df['Technology/source'] == 'GrandTotal']\n",
    "df = df[df['Category'] == 'Final Consumption-Total']\n",
    "df = df.round(2)\n",
    "df.loc[df['Country']=='United States of America']\n",
    "df.at[11368, 'Country'] = 'United States'\n",
    "GROmerge = merge.merge(df, how='left', left_on='Country', right_on='Country')\n",
    "GROmerge = GROmerge[['Country', 'Percent', 'Green recovery spending', 'TJ']]\n",
    "GROmerge.rename(columns = {\"TJ\" : \"Renewable energy consumption (TJ)\"}, inplace=True)\n",
    "GROmerge"
   ]
  },
  {
   "cell_type": "code",
   "execution_count": null,
   "id": "ae5876ab",
   "metadata": {},
   "outputs": [],
   "source": [
    "import pycountry\n",
    "#deforestation import\n",
    "df = pd.read_csv(r'C:\\Users\\ebloom\\Desktop\\Global_Annual_Treecover_Loss.csv', usecols={\"iso\", \"umd_tree_cover_loss__year\", \"umd_tree_cover_loss__ha\"},\n",
    "                  na_values=[\"0\", \"..\"])\n",
    "df.rename(columns = {\"umd_tree_cover_loss__year\" : \"Year\", \"umd_tree_cover_loss__ha\" : \"Tree Cover Loss (ha)\"}, inplace=True)\n",
    "df = df.round({'Tree Cover Loss (ha)' : 2})\n",
    "df = pd.pivot_table(df, values='Tree Cover Loss (ha)', index=['iso'], columns=['Year'])\n",
    "df.rename(columns={2018 : '2018', 2019 : '2019'},inplace=True)\n",
    "df = df[['2018', '2019']]\n",
    "\n",
    "countries = {}\n",
    "for country in pycountry.countries:\n",
    "    countries[country.alpha_3] = country.name\n",
    "##print(countries)\n",
    "df['Country'] = [countries.get(code) for code in df.index]\n",
    "df.at['VNM', 'Country'] = \"Vietnam\"\n",
    "df.at['KOR', 'Country'] = \"South Korea\"\n",
    "df"
   ]
  },
  {
   "cell_type": "code",
   "execution_count": null,
   "id": "2e7cd87c",
   "metadata": {},
   "outputs": [],
   "source": [
    "GROmerge = GROmerge.merge(df, how='left', left_on='Country', right_on='Country')\n",
    "GROmerge.rename(columns = {\"2019\" : \"Annual tree cover loss (ha)\"}, inplace=True)\n",
    "GROmerge = GROmerge[['Country', 'Green recovery spending', 'Percent', 'Renewable energy consumption (TJ)', 'Annual tree cover loss (ha)']]\n",
    "#GROmerge = GROmerge.drop(columns={'2018'})\n",
    "GROmerge"
   ]
  },
  {
   "cell_type": "code",
   "execution_count": null,
   "id": "4ee0da6d",
   "metadata": {},
   "outputs": [],
   "source": [
    "#natural resource rents import\n",
    "\n",
    "nr = pd.read_excel(r'C:\\Users\\ebloom\\Desktop\\Data_Extract_From_Adjusted_Net_Savings.xlsx',\n",
    "                   usecols=[\"Country Name\", \"Country Code\", \"2017 [YR2017]\", \"2018 [YR2018]\", \"2019 [YR2019]\"],\n",
    "                  na_values=[\"0\", \"..\"])\n",
    "nr.rename(columns = {\"2017 [YR2017]\" : \"2017\", \"2018 [YR2018]\" : \"2018\", \"2019 [YR2019]\" : \"2019\"}, inplace=True)\n",
    "nr = nr.round({'2017' : 2, '2018' : 2, '2019' : 2})\n",
    "nr = nr.drop(nr.index[264:269])\n",
    "nr = nr.drop(nr.index[0:47])\n",
    "nr.at[152, 'Country Name'] = \"South Korea\"\n",
    "nr"
   ]
  },
  {
   "cell_type": "code",
   "execution_count": null,
   "id": "868516d1",
   "metadata": {},
   "outputs": [],
   "source": [
    "GROmerge = GROmerge.merge(nr, how='left', left_on='Country', right_on='Country Name')\n",
    "GROmerge = GROmerge[['Country', 'Green recovery spending', 'Percent', 'Renewable energy consumption (TJ)', 'Annual tree cover loss (ha)', '2019', 'Country Code']]\n",
    "GROmerge.rename(columns = {\"2019\" : \"Natural resource rents as % GDP\"}, inplace=True)\n",
    "GROmerge"
   ]
  },
  {
   "cell_type": "code",
   "execution_count": null,
   "id": "cd1f974e",
   "metadata": {
    "scrolled": true
   },
   "outputs": [],
   "source": [
    "#fossil fuel subs import\n",
    "df = pd.read_excel(r'C:\\Users\\ebloom\\Desktop\\FossilFuelSubsidiesTracker.xlsx', sheet_name='fulldata',\n",
    "                  na_values=[\"0.00\", \"..\"])\n",
    "df = df[df['Year'] == 2019]\n",
    "df = df.groupby(['Country']).sum()\n",
    "df = df.drop(columns={'Year'})\n",
    "df['% share of GDP'] = df['% share of GDP'] * 100\n",
    "df = df.round(2)\n",
    "df = df.reset_index()\n",
    "df"
   ]
  },
  {
   "cell_type": "code",
   "execution_count": null,
   "id": "e485d14f",
   "metadata": {},
   "outputs": [],
   "source": [
    "df[df['Country'] == 'Korea']\n",
    "df.at[42, 'Country'] = \"South Korea\"\n",
    "df[df['Country'] == 'Viet Nam']\n",
    "df.at[80, 'Country'] = \"Vietnam\"\n",
    "df[df['Country'] == \"People's Republic of China\"]\n",
    "df.at[57, 'Country'] = \"China\""
   ]
  },
  {
   "cell_type": "code",
   "execution_count": null,
   "id": "44c6263b",
   "metadata": {},
   "outputs": [],
   "source": [
    "GROmerge = GROmerge.merge(df, how='left', left_on='Country', right_on='Country')\n",
    "GROmerge.rename(columns = {\"% share of GDP\" : \"Fossil fuel subsidies as % GDP\", \"USD nominal per Capita\": \"Fossil fuel subsidies USD per Capita\"}, inplace=True)\n",
    "GROmerge"
   ]
  },
  {
   "cell_type": "code",
   "execution_count": null,
   "id": "507510b5",
   "metadata": {},
   "outputs": [],
   "source": [
    "#CO2 data import\n",
    "\n",
    "df = pd.read_excel('https://iea.blob.core.windows.net/assets/6296011e-4fed-40c3-95a0-1367a4c4484a/CO2Highlights2020.xls',\n",
    "                   'CO2-POP', header=21, usecols=[0, 47, 48, 49], na_values='..')\n",
    "df.columns = df.columns.astype(str)\n",
    "df = df.round({'2017' : 2, '2018' : 2, '2019' : 2})\n",
    "df = df[df['Region/Country/Economy'].str.contains('OECD')==False]\n",
    "df = df.drop(df.index[169:172])\n",
    "df = df.sort_values('Region/Country/Economy', ascending=True)\n",
    "df.reset_index(drop=True, inplace=True)\n",
    "df"
   ]
  },
  {
   "cell_type": "code",
   "execution_count": null,
   "id": "9196f58f",
   "metadata": {},
   "outputs": [],
   "source": [
    "countries = {}\n",
    "for country in pycountry.countries:\n",
    "    countries[country.name] = country.alpha_3\n",
    "df['Code'] = [countries.get(country) for country in df['Region/Country/Economy']]\n",
    "df"
   ]
  },
  {
   "cell_type": "code",
   "execution_count": null,
   "id": "6ba4ce7d",
   "metadata": {},
   "outputs": [],
   "source": [
    "df.at[18, 'Code'] = 'BOL'\n",
    "df.at[29, 'Code'] = 'TWN'\n",
    "df.at[37, 'Code'] = 'CZE'\n",
    "df.at[40, 'Code'] = 'COD'\n",
    "df.at[76, 'Code'] = 'IRN'\n",
    "df.at[84, 'Code'] = 'KOR'\n",
    "df.at[119, 'Code'] = 'CHN'\n",
    "df.at[125, 'Code'] = 'MDA'\n",
    "df.at[133, 'Code'] = 'SVK'\n",
    "df.at[143, 'Code'] = 'SYR'\n",
    "df.at[154, 'Code'] = 'TZA'\n",
    "df.at[158, 'Code'] = 'VEN'"
   ]
  },
  {
   "cell_type": "code",
   "execution_count": null,
   "id": "b62ee5bb",
   "metadata": {},
   "outputs": [],
   "source": [
    "df = df.dropna(subset=['Code'])\n",
    "df = df.rename(columns={'Region/Country/Economy' : 'Country'})\n",
    "df.at[84, 'Country'] = 'South Korea'\n",
    "df.at[119, 'Country'] = 'China'\n",
    "df.at[159, 'Country'] = 'Vietnam'\n",
    "df"
   ]
  },
  {
   "cell_type": "code",
   "execution_count": null,
   "id": "8bb265b1",
   "metadata": {},
   "outputs": [],
   "source": [
    "GROmerge = GROmerge.merge(df, how='left', left_on='Country', right_on='Country')\n",
    "GROmerge.rename(columns = {\"2018\" : \"CO2 emissions tons per capita\"}, inplace=True)\n",
    "GROmerge"
   ]
  },
  {
   "cell_type": "code",
   "execution_count": null,
   "id": "d729f0e5",
   "metadata": {},
   "outputs": [],
   "source": [
    "GROmerge = GROmerge[['Country', 'Green recovery spending', 'Percent', 'Renewable energy consumption (TJ)', 'Annual tree cover loss (ha)',\n",
    "                   'Natural resource rents as % GDP', 'Fossil fuel subsidies as % GDP', 'Fossil fuel subsidies USD per Capita', 'CO2 emissions tons per capita',\n",
    "                   'Country Code']]\n",
    "GROmerge"
   ]
  },
  {
   "cell_type": "code",
   "execution_count": null,
   "id": "38776a4d",
   "metadata": {},
   "outputs": [],
   "source": [
    "# air pollution import\n",
    "\n",
    "df = pd.read_excel(r'C:\\Users\\ebloom\\Desktop\\AAP.xlsx', sheet_name='latest availble PM25 (measured)', header=2,\n",
    "                  na_values=[\"0\", \"..\"])\n",
    "df = df[df['Database version (year)'] == 2018]\n",
    "df = df.drop(columns={'Region', 'Annual mean, ug/m3', 'note on converted PM10', 'Temporal coverage', 'status'})\n",
    "df.loc[(df.iso3=='KOR', 'Country')] = 'South Korea'\n",
    "df.loc[(df.iso3=='USA', 'Country')] = 'United States'\n",
    "df.loc[(df.iso3=='VNM'), 'Country'] = 'Vietnam'\n",
    "df = df[['iso3', 'Country', 'City/Town', 'Annual mean, ug/m3.1']]\n",
    "df"
   ]
  },
  {
   "cell_type": "code",
   "execution_count": null,
   "id": "35b7348b",
   "metadata": {},
   "outputs": [],
   "source": []
  },
  {
   "cell_type": "code",
   "execution_count": null,
   "id": "853a5044",
   "metadata": {
    "scrolled": false
   },
   "outputs": [],
   "source": [
    "citypop = pd.read_csv(r'C:\\Users\\ebloom\\Desktop\\Citypop.csv',\n",
    "                  na_values=[\"0\", \"..\"])\n",
    "citypop = citypop[['Name', 'Country', 'Population']]\n",
    "citypop = citypop.sort_values(by='Country', ascending=True)\n",
    "citypop.reset_index(inplace=True, drop=True)\n",
    "ind = citypop.groupby(['Country'])['Population'].idxmax()\n",
    "biggest = citypop.loc[ind]\n",
    "biggest\n",
    "#find most populous cities for each country in dataset"
   ]
  },
  {
   "cell_type": "code",
   "execution_count": null,
   "id": "91086e34",
   "metadata": {},
   "outputs": [],
   "source": [
    "#what needs imputing, what should be there but difference in nomenclature\n",
    "df[df['Country'] == 'Australia']\n",
    "#Arg not in pollution data\n",
    "#biggest city Melbourne only 2016 data - needs to be imputed\n",
    "df[df['Country'] == 'Austria']\n",
    "df.at[72, 'City/Town'] = 'Vienna'\n",
    "df[df['Country'] == 'Colombia']\n",
    "#biggest city Bogota not in data at all - needs to be imputed\n",
    "df[df['Country'] == 'Dominican Republic']\n",
    "#DR not in pollution data\n",
    "#Iraq and Honduras not in at all\n",
    "df[df['Country'] == 'Ireland']\n",
    "df.at[1376, 'City/Town'] = 'Dublin'\n",
    "df[df['City/Town'] == 'Roma']\n",
    "df.at[1626, 'City/Town'] = 'Rome'\n",
    "#Kenya and MUS not in data at all\n",
    "#biggest city in Pakistan not in 2018 data, Karachi only 2016 needs to be imputed\n",
    "biggest[biggest['Country'] == 'Pakistan']\n",
    "df[df['City/Town'] == 'Warszawa']\n",
    "df.at[1907, 'City/Town'] = 'Warsaw'\n",
    "df[df['City/Town'] == 'New York']\n",
    "df.at[2393, 'City/Town'] = 'New York City'\n",
    "#no data for Jamaica at all\n",
    "df[df['Country'] == 'Jamaica']"
   ]
  },
  {
   "cell_type": "code",
   "execution_count": null,
   "id": "2a424871",
   "metadata": {
    "scrolled": true
   },
   "outputs": [],
   "source": [
    "pop = biggest.merge(df, how='left', left_on='Name', right_on='City/Town')\n",
    "pop = pop.dropna(subset={'Annual mean, ug/m3.1'})\n",
    "pop\n",
    "#pollution in the world's biggest cities"
   ]
  },
  {
   "cell_type": "code",
   "execution_count": null,
   "id": "7031cdef",
   "metadata": {
    "scrolled": true
   },
   "outputs": [],
   "source": [
    "import numpy as np\n",
    "#Havana, Dublin, New York City\n",
    "#Kingston, Jamaica should not match Kingston Canada, should be NA\n",
    "GROmerge = GROmerge.merge(pop, how='left', left_on='Country', right_on='Country_x')\n",
    "GROmerge = GROmerge.drop([5, 10, 13, 14, 44, 47])\n",
    "GROmerge.reset_index(drop=True, inplace=True)\n",
    "GROmerge = GROmerge[['Country', 'Green recovery spending', 'Percent', 'Renewable energy consumption (TJ)', 'Annual tree cover loss (ha)',\n",
    "                   'Natural resource rents as % GDP', 'Fossil fuel subsidies as % GDP', 'Fossil fuel subsidies USD per Capita', 'CO2 emissions tons per capita',\n",
    "                   'Annual mean, ug/m3.1', 'Country Code']]\n",
    "GROmerge.at[21, 'Annual mean, ug/m3.1'] = np.nan\n",
    "GROmerge.rename(columns = {\"Annual mean, ug/m3.1\" : \"Air pollution (annual mean ug/m3 <PM2.5)\"}, inplace=True)\n",
    "GROmerge\n",
    "#here is where I could potentially make them into rates"
   ]
  },
  {
   "cell_type": "code",
   "execution_count": null,
   "id": "40ab532f",
   "metadata": {},
   "outputs": [],
   "source": [
    "#Original row is Argentina, go through all other rows, start with Australia\n",
    "#Subtract Argentina’s TJ from Australia’s\n",
    "#Take absolute value\n",
    "#With list of differences after gone through all columns, take average across them (careful of unit) – becomes Australia’s score\n",
    "#include green recovery spending cols????\n",
    "#isolate only numeric columns\n",
    "diffset = GROmerge[['Green recovery spending', 'Percent', 'Renewable energy consumption (TJ)', 'Annual tree cover loss (ha)',\n",
    "                   'Natural resource rents as % GDP', 'Fossil fuel subsidies as % GDP', 'Fossil fuel subsidies USD per Capita', 'CO2 emissions tons per capita',\n",
    "                   'Air pollution (annual mean ug/m3 <PM2.5)']]\n",
    "#set up\n",
    "difference = diffset\n",
    "difference = difference.drop(range(1,42))\n",
    "for name, value in difference.iteritems():\n",
    "    difference.at[0, name] = np.nan\n",
    "\n",
    "#diffresult = diffset.diff(periods=1)\n",
    "#difference = difference.append(diffresult[diffresult.index == 1], ignore_index=True)\n",
    "n=1\n",
    "\n",
    "for index, row in diffset.iterrows():\n",
    "    diffresult = diffset.diff(periods=n)\n",
    "    difference = difference.append(diffresult[diffresult.index == n], ignore_index=True)\n",
    "    n = n+1\n",
    "    \n",
    "difference = np.absolute(difference)\n",
    "#air poll for Arg Nan - does this mean the unknown columns can not factor into NN? all become NA\n",
    "#normalise data with maximum absolute scaling https://www.geeksforgeeks.org/data-normalization-with-pandas/\n",
    "difference_norm = difference\n",
    "for column in difference_norm.columns:\n",
    "    difference_norm[column] = difference_norm[column]  / difference_norm[column].abs().max()\n",
    "difference_norm"
   ]
  },
  {
   "cell_type": "code",
   "execution_count": null,
   "id": "4fa85a56",
   "metadata": {
    "scrolled": true
   },
   "outputs": [],
   "source": [
    "difference_norm['Score'] = difference_norm.mean(axis=1)\n",
    "difference_norm\n",
    "##difference_norm['Score'].min()\n",
    "##difference_norm[difference_norm['Score'] == 0.04129648718215812]\n",
    "##row = GROmerge[GROmerge.index == 30]\n",
    "##airpoll = row.iloc[0]['Air pollution (annual mean ug/m3 <PM2.5)']\n",
    "##GROmerge['Air pollution_imputed'] = np.nan\n",
    "##GROmerge.at[0, 'Air pollution_imputed'] = airpoll\n",
    "##GROmerge\n",
    "#Peru closest to Arg\n",
    "#closest to 0 is nearest neighbour"
   ]
  },
  {
   "cell_type": "code",
   "execution_count": null,
   "id": "8ff37a47",
   "metadata": {},
   "outputs": [],
   "source": [
    "#again for Australia\n",
    "diffset = GROmerge[['Green recovery spending', 'Percent', 'Renewable energy consumption (TJ)', 'Annual tree cover loss (ha)',\n",
    "                   'Natural resource rents as % GDP', 'Fossil fuel subsidies as % GDP', 'Fossil fuel subsidies USD per Capita', 'CO2 emissions tons per capita',\n",
    "                   'Air pollution (annual mean ug/m3 <PM2.5)']]\n",
    "#set up\n",
    "difference = diffset\n",
    "difference = difference.drop(range(1,42))\n",
    "for name, value in difference.iteritems():\n",
    "    difference.at[0, name] = np.nan\n"
   ]
  },
  {
   "cell_type": "code",
   "execution_count": null,
   "id": "53c83e37",
   "metadata": {},
   "outputs": [],
   "source": [
    "n=1\n",
    "m=2\n",
    "\n",
    "for index, row in diffset.iterrows():\n",
    "    diffresult = diffset.diff(periods=n)\n",
    "    difference = difference.append(diffresult[diffresult.index == m], ignore_index=True)\n",
    "    n = n+1\n",
    "    m = m+1\n",
    "difference"
   ]
  },
  {
   "cell_type": "code",
   "execution_count": null,
   "id": "ff0dc1f7",
   "metadata": {},
   "outputs": [],
   "source": [
    "difference.index = range(1,42)\n",
    "diffresult = diffset.diff(periods=-1)\n",
    "difference = difference.append(diffresult[diffresult.index == 0])"
   ]
  },
  {
   "cell_type": "code",
   "execution_count": null,
   "id": "9a73b48e",
   "metadata": {
    "scrolled": true
   },
   "outputs": [],
   "source": [
    "difference = np.absolute(difference)\n",
    "#normalise data with maximum absolute scaling https://www.geeksforgeeks.org/data-normalization-with-pandas/\n",
    "difference_norm = difference\n",
    "for column in difference_norm.columns:\n",
    "    difference_norm[column] = difference_norm[column]  / difference_norm[column].abs().max()\n",
    "difference_norm"
   ]
  },
  {
   "cell_type": "code",
   "execution_count": null,
   "id": "9fd56ad9",
   "metadata": {},
   "outputs": [],
   "source": [
    "difference_norm['Score'] = difference_norm.mean(axis=1)\n",
    "difference_norm['Score'].min()\n"
   ]
  },
  {
   "cell_type": "code",
   "execution_count": null,
   "id": "76e272d7",
   "metadata": {
    "scrolled": true
   },
   "outputs": [],
   "source": [
    "difference_norm[difference_norm['Score'] == 0.24595686197296526]\n",
    "#note: renewable energy cons not even taken into account here"
   ]
  },
  {
   "cell_type": "code",
   "execution_count": null,
   "id": "1c078630",
   "metadata": {},
   "outputs": [],
   "source": [
    "row = GROmerge[GROmerge.index == 41]\n",
    "airpoll = row.iloc[0]['Air pollution (annual mean ug/m3 <PM2.5)']\n",
    "renewcons = row.iloc[0]['Renewable energy consumption (TJ)']\n",
    "GROmerge.at[1, 'Air pollution_imputed'] = airpoll\n",
    "GROmerge['Renewable energy_imputed'] = np.nan\n",
    "GROmerge.at[1, 'Renewable energy_imputed'] = renewcons\n",
    "GROmerge\n",
    "#USA closest to Aus\n",
    "#closest to 0 is nearest neighbour"
   ]
  },
  {
   "cell_type": "code",
   "execution_count": null,
   "id": "265de8f6",
   "metadata": {
    "scrolled": true
   },
   "outputs": [],
   "source": [
    "GROmerge[GROmerge.index == 41]\n",
    "GROmerge = GROmerge.drop(columns= ['Air pollution_imputed', 'Renewable energy_imputed'])\n",
    "#what to do when nearest neighbour also has a null in the column you are looking to impute? copy from second closest neighbour?"
   ]
  },
  {
   "cell_type": "code",
   "execution_count": null,
   "id": "c85c6d95",
   "metadata": {},
   "outputs": [],
   "source": [
    "#normalise columns so that the columns are on same scale\n",
    "#here, make sure all columns have a mean of 0 and std deviation of 1\n",
    "#set mean to 0 by finding the mean of a column, and then subtract the column's mean from every value in the column\n",
    "#set std deviation to 1 by dividing every value in the col by the std deviation\n",
    "#i think ive standardise but should have normalised here\n",
    "\n",
    "#find numeric cols\n",
    "diffset = GROmerge[['Green recovery spending', 'Percent', 'Renewable energy consumption (TJ)', 'Annual tree cover loss (ha)',\n",
    "                   'Natural resource rents as % GDP', 'Fossil fuel subsidies as % GDP', 'Fossil fuel subsidies USD per Capita', 'CO2 emissions tons per capita',\n",
    "                   'Air pollution (annual mean ug/m3 <PM2.5)']]\n",
    "\n",
    "normal = (diffset - diffset.mean()) / diffset.std()\n",
    "normal"
   ]
  },
  {
   "cell_type": "code",
   "execution_count": null,
   "id": "3d7c2ea8",
   "metadata": {},
   "outputs": [],
   "source": [
    "import math\n",
    "#that is manual example - try k nearest neighbours\n",
    "#https://www.dataquest.io/blog/k-nearest-neighbors-in-python/\n",
    "\n",
    "#first, take euclidian distance using function from dataquest based on ED formula\n",
    "diffset = GROmerge[['Green recovery spending', 'Percent', 'Renewable energy consumption (TJ)', 'Annual tree cover loss (ha)',\n",
    "                   'Natural resource rents as % GDP', 'Fossil fuel subsidies as % GDP', 'Fossil fuel subsidies USD per Capita', 'CO2 emissions tons per capita',\n",
    "                   'Air pollution (annual mean ug/m3 <PM2.5)']]\n",
    "\n",
    "selected_country = GROmerge[GROmerge['Country'] == 'Argentina'].iloc[0]\n",
    "#for each column, take diff of values in two rows, square them, and then add difference to total (sum squared differences), then square root the sum\n",
    "\n",
    "def euclidean_distance(x):\n",
    "    inner_val = 0\n",
    "    for k in diffset:\n",
    "        if np.isnan(x[k]):\n",
    "            inner_val += 0\n",
    "            #print(\"x:\", x[k])\n",
    "            #print(\"selected:\", selected_country[k])\n",
    "            #print(\"in:\", inner_val)\n",
    "        elif np.isnan(selected_country[k]):\n",
    "            inner_val += 0\n",
    "            #print(\"x:\", x[k])\n",
    "            #print(\"selected:\", selected_country[k])\n",
    "            #print(\"in:\", inner_val)\n",
    "        else:\n",
    "            result = (x[k] - selected_country[k]) ** 2\n",
    "            inner_val += result\n",
    "            #print(\"x:\", x[k])\n",
    "            #print(\"selected:\", selected_country[k])\n",
    "            #print(\"res:\", result)\n",
    "            #print(\"in:\", inner_val)\n",
    "    #print(\"new row\")\n",
    "    return math.sqrt(inner_val)\n",
    "#make sure to ignore nan values or the inner val will become nan and reset - both for selected country row and other rows?\n",
    "#skip cols with nan\n",
    "arg_distance = GROmerge.apply(euclidean_distance, axis=1)\n",
    "arg_distance\n",
    "#Argentinian euclidean distance from all other rows"
   ]
  },
  {
   "cell_type": "code",
   "execution_count": null,
   "id": "25aecd8b",
   "metadata": {},
   "outputs": [],
   "source": [
    "from scipy.spatial import distance\n",
    "##using scipy library now rather than simple function above\n",
    "#We can use the distance.euclidean function from scipy.spatial, a much faster way to calculate euclidean distance.\n",
    "normal.fillna(0, inplace=True)\n",
    "arg_normal = normal[GROmerge['Country'] == 'Argentina']\n",
    "euc_dist = normal.apply(lambda row: distance.euclidean(row, arg_normal), axis=1)\n",
    "distances = pd.DataFrame(data={\"Distance\": euc_dist, \"Index\": euc_dist.index})\n",
    "distances.sort_values(\"Distance\", inplace=True)\n",
    "#distances\n",
    "second_nearest = distances.iloc[1][\"Index\"]\n",
    "winner = GROmerge.loc[int(second_nearest)]['Country']\n",
    "winner\n",
    "#algorithm correct? find nearest neighbour, take the values from that row for those missing in original row\n",
    "##this way, DR second too, Honduras, Philippines (lots of Nans), all around 0.05 other way too, Italy kind of random, then Peru\n",
    "##closest for Arg is Mexico in this case, Mexico row 25 was third other way (manual) BUT only one with no Nans, the others had quite a few (DR 10, Peru 30)"
   ]
  },
  {
   "cell_type": "code",
   "execution_count": null,
   "id": "feb906fd",
   "metadata": {},
   "outputs": [],
   "source": [
    "aus_normal = normal[GROmerge['Country'] == 'Australia']\n",
    "euc_dist = normal.apply(lambda row: distance.euclidean(row, aus_normal), axis=1)\n",
    "distances = pd.DataFrame(data={\"Distance\": euc_dist, \"Index\": euc_dist.index})\n",
    "distances.sort_values(\"Distance\", inplace=True)\n",
    "second_nearest = distances.iloc[1][\"Index\"]\n",
    "winner = GROmerge.loc[second_nearest]['Country']\n",
    "winner\n",
    "#also US like other way - not anymore now that we have renewable energy cons added for US"
   ]
  },
  {
   "cell_type": "code",
   "execution_count": null,
   "id": "a27726ea",
   "metadata": {},
   "outputs": [],
   "source": [
    "bng_normal = normal[GROmerge['Country'] == 'Bangladesh']\n",
    "euc_dist = normal.apply(lambda row: distance.euclidean(row, bng_normal), axis=1)\n",
    "distances = pd.DataFrame(data={\"Distance\": euc_dist, \"Index\": euc_dist.index})\n",
    "distances.sort_values(\"Distance\", inplace=True)\n",
    "second_nearest = distances.iloc[1][\"Index\"]\n",
    "winner = GROmerge.loc[second_nearest]['Country']\n",
    "winner"
   ]
  },
  {
   "cell_type": "code",
   "execution_count": null,
   "id": "6117d2d7",
   "metadata": {},
   "outputs": [],
   "source": [
    "can_normal = normal[GROmerge['Country'] == 'Canada']\n",
    "euc_dist = normal.apply(lambda row: distance.euclidean(row, can_normal), axis=1)\n",
    "distances = pd.DataFrame(data={\"Distance\": euc_dist, \"Index\": euc_dist.index})\n",
    "distances.sort_values(\"Distance\", inplace=True)\n",
    "second_nearest = distances.iloc[1][\"Index\"]\n",
    "winner = GROmerge.loc[second_nearest]['Country']\n",
    "winner"
   ]
  },
  {
   "cell_type": "code",
   "execution_count": null,
   "id": "dd5732a7",
   "metadata": {},
   "outputs": [],
   "source": [
    "col_normal = normal[GROmerge['Country'] == 'Colombia']\n",
    "euc_dist = normal.apply(lambda row: distance.euclidean(row, col_normal), axis=1)\n",
    "distances = pd.DataFrame(data={\"Distance\": euc_dist, \"Index\": euc_dist.index})\n",
    "distances.sort_values(\"Distance\", inplace=True)\n",
    "second_nearest = distances.iloc[1][\"Index\"]\n",
    "winner = GROmerge.loc[second_nearest]['Country']\n",
    "winner"
   ]
  },
  {
   "cell_type": "code",
   "execution_count": null,
   "id": "7c44c3de",
   "metadata": {},
   "outputs": [],
   "source": [
    "dr_normal = normal[GROmerge['Country'] == 'Dominican Republic']\n",
    "euc_dist = normal.apply(lambda row: distance.euclidean(row, dr_normal), axis=1)\n",
    "distances = pd.DataFrame(data={\"Distance\": euc_dist, \"Index\": euc_dist.index})\n",
    "distances.sort_values(\"Distance\", inplace=True)\n",
    "second_nearest = distances.iloc[1][\"Index\"]\n",
    "winner = GROmerge.loc[second_nearest]['Country']\n",
    "winner"
   ]
  },
  {
   "cell_type": "code",
   "execution_count": null,
   "id": "7be392fb",
   "metadata": {},
   "outputs": [],
   "source": [
    "ghana_normal = normal[GROmerge['Country'] == 'Ghana']\n",
    "euc_dist = normal.apply(lambda row: distance.euclidean(row, ghana_normal), axis=1)\n",
    "distances = pd.DataFrame(data={\"Distance\": euc_dist, \"Index\": euc_dist.index})\n",
    "distances.sort_values(\"Distance\", inplace=True)\n",
    "second_nearest = distances.iloc[1][\"Index\"]\n",
    "winner = GROmerge.loc[second_nearest]['Country']\n",
    "winner"
   ]
  },
  {
   "cell_type": "code",
   "execution_count": null,
   "id": "8055bd10",
   "metadata": {},
   "outputs": [],
   "source": [
    "hon_normal = normal[GROmerge['Country'] == 'Honduras']\n",
    "euc_dist = normal.apply(lambda row: distance.euclidean(row, hon_normal), axis=1)\n",
    "distances = pd.DataFrame(data={\"Distance\": euc_dist, \"Index\": euc_dist.index})\n",
    "distances.sort_values(\"Distance\", inplace=True)\n",
    "second_nearest = distances.iloc[1][\"Index\"]\n",
    "winner = GROmerge.loc[second_nearest]['Country']\n",
    "winner"
   ]
  },
  {
   "cell_type": "code",
   "execution_count": null,
   "id": "c9ab3d56",
   "metadata": {},
   "outputs": [],
   "source": [
    "india_normal = normal[GROmerge['Country'] == 'India']\n",
    "euc_dist = normal.apply(lambda row: distance.euclidean(row, india_normal), axis=1)\n",
    "distances = pd.DataFrame(data={\"Distance\": euc_dist, \"Index\": euc_dist.index})\n",
    "distances.sort_values(\"Distance\", inplace=True)\n",
    "second_nearest = distances.iloc[1][\"Index\"]\n",
    "winner = GROmerge.loc[second_nearest]['Country']\n",
    "winner"
   ]
  },
  {
   "cell_type": "code",
   "execution_count": null,
   "id": "1028d3f0",
   "metadata": {},
   "outputs": [],
   "source": [
    "irq_normal = normal[GROmerge['Country'] == 'Iraq']\n",
    "euc_dist = normal.apply(lambda row: distance.euclidean(row, irq_normal), axis=1)\n",
    "distances = pd.DataFrame(data={\"Distance\": euc_dist, \"Index\": euc_dist.index})\n",
    "distances.sort_values(\"Distance\", inplace=True)\n",
    "second_nearest = distances.iloc[1][\"Index\"]\n",
    "winner = GROmerge.loc[second_nearest]['Country']\n",
    "winner"
   ]
  },
  {
   "cell_type": "code",
   "execution_count": null,
   "id": "21a64023",
   "metadata": {},
   "outputs": [],
   "source": [
    "jamaica_normal = normal[GROmerge['Country'] == 'Jamaica']\n",
    "euc_dist = normal.apply(lambda row: distance.euclidean(row, jamaica_normal), axis=1)\n",
    "distances = pd.DataFrame(data={\"Distance\": euc_dist, \"Index\": euc_dist.index})\n",
    "distances.sort_values(\"Distance\", inplace=True)\n",
    "second_nearest = distances.iloc[1][\"Index\"]\n",
    "winner = GROmerge.loc[second_nearest]['Country']\n",
    "winner"
   ]
  },
  {
   "cell_type": "code",
   "execution_count": null,
   "id": "aeb6bee5",
   "metadata": {},
   "outputs": [],
   "source": [
    "jpn_normal = normal[GROmerge['Country'] == 'Japan']\n",
    "euc_dist = normal.apply(lambda row: distance.euclidean(row, jpn_normal), axis=1)\n",
    "distances = pd.DataFrame(data={\"Distance\": euc_dist, \"Index\": euc_dist.index})\n",
    "distances.sort_values(\"Distance\", inplace=True)\n",
    "second_nearest = distances.iloc[1][\"Index\"]\n",
    "winner = GROmerge.loc[second_nearest]['Country']\n",
    "winner"
   ]
  },
  {
   "cell_type": "code",
   "execution_count": null,
   "id": "d8aa19c4",
   "metadata": {},
   "outputs": [],
   "source": [
    "ken_normal = normal[GROmerge['Country'] == 'Kenya']\n",
    "euc_dist = normal.apply(lambda row: distance.euclidean(row, ken_normal), axis=1)\n",
    "distances = pd.DataFrame(data={\"Distance\": euc_dist, \"Index\": euc_dist.index})\n",
    "distances.sort_values(\"Distance\", inplace=True)\n",
    "second_nearest = distances.iloc[1][\"Index\"]\n",
    "winner = GROmerge.loc[second_nearest]['Country']\n",
    "winner"
   ]
  },
  {
   "cell_type": "code",
   "execution_count": null,
   "id": "d6690099",
   "metadata": {},
   "outputs": [],
   "source": [
    "mus_normal = normal[GROmerge['Country'] == 'Mauritius']\n",
    "euc_dist = normal.apply(lambda row: distance.euclidean(row, mus_normal), axis=1)\n",
    "distances = pd.DataFrame(data={\"Distance\": euc_dist, \"Index\": euc_dist.index})\n",
    "distances.sort_values(\"Distance\", inplace=True)\n",
    "second_nearest = distances.iloc[1][\"Index\"]\n",
    "winner = GROmerge.loc[second_nearest]['Country']\n",
    "winner"
   ]
  },
  {
   "cell_type": "code",
   "execution_count": null,
   "id": "ae06aa6f",
   "metadata": {},
   "outputs": [],
   "source": [
    "pakistan_normal = normal[GROmerge['Country'] == 'Pakistan']\n",
    "euc_dist = normal.apply(lambda row: distance.euclidean(row, pakistan_normal), axis=1)\n",
    "distances = pd.DataFrame(data={\"Distance\": euc_dist, \"Index\": euc_dist.index})\n",
    "distances.sort_values(\"Distance\", inplace=True)\n",
    "second_nearest = distances.iloc[1][\"Index\"]\n",
    "winner = GROmerge.loc[second_nearest]['Country']\n",
    "winner"
   ]
  },
  {
   "cell_type": "code",
   "execution_count": null,
   "id": "bedf5311",
   "metadata": {},
   "outputs": [],
   "source": [
    "panama_normal = normal[GROmerge['Country'] == 'Panama']\n",
    "euc_dist = normal.apply(lambda row: distance.euclidean(row, panama_normal), axis=1)\n",
    "distances = pd.DataFrame(data={\"Distance\": euc_dist, \"Index\": euc_dist.index})\n",
    "distances.sort_values(\"Distance\", inplace=True)\n",
    "second_nearest = distances.iloc[1][\"Index\"]\n",
    "winner = GROmerge.loc[second_nearest]['Country']\n",
    "winner"
   ]
  },
  {
   "cell_type": "code",
   "execution_count": null,
   "id": "9e077da3",
   "metadata": {},
   "outputs": [],
   "source": [
    "peru_normal = normal[GROmerge['Country'] == 'Peru']\n",
    "euc_dist = normal.apply(lambda row: distance.euclidean(row, peru_normal), axis=1)\n",
    "distances = pd.DataFrame(data={\"Distance\": euc_dist, \"Index\": euc_dist.index})\n",
    "distances.sort_values(\"Distance\", inplace=True)\n",
    "second_nearest = distances.iloc[1][\"Index\"]\n",
    "winner = GROmerge.loc[second_nearest]['Country']\n",
    "winner"
   ]
  },
  {
   "cell_type": "code",
   "execution_count": null,
   "id": "924a7097",
   "metadata": {},
   "outputs": [],
   "source": [
    "phil_normal = normal[GROmerge['Country'] == 'Philippines']\n",
    "euc_dist = normal.apply(lambda row: distance.euclidean(row, phil_normal), axis=1)\n",
    "distances = pd.DataFrame(data={\"Distance\": euc_dist, \"Index\": euc_dist.index})\n",
    "distances.sort_values(\"Distance\", inplace=True)\n",
    "second_nearest = distances.iloc[1][\"Index\"]\n",
    "winner = GROmerge.loc[second_nearest]['Country']\n",
    "winner"
   ]
  },
  {
   "cell_type": "code",
   "execution_count": null,
   "id": "5cc40dd4",
   "metadata": {},
   "outputs": [],
   "source": [
    "sen_normal = normal[GROmerge['Country'] == 'Senegal']\n",
    "euc_dist = normal.apply(lambda row: distance.euclidean(row, sen_normal), axis=1)\n",
    "distances = pd.DataFrame(data={\"Distance\": euc_dist, \"Index\": euc_dist.index})\n",
    "distances.sort_values(\"Distance\", inplace=True)\n",
    "second_nearest = distances.iloc[1][\"Index\"]\n",
    "winner = GROmerge.loc[second_nearest]['Country']\n",
    "winner"
   ]
  },
  {
   "cell_type": "code",
   "execution_count": null,
   "id": "6499bff5",
   "metadata": {},
   "outputs": [],
   "source": [
    "kor_normal = normal[GROmerge['Country'] == 'South Korea']\n",
    "euc_dist = normal.apply(lambda row: distance.euclidean(row, kor_normal), axis=1)\n",
    "distances = pd.DataFrame(data={\"Distance\": euc_dist, \"Index\": euc_dist.index})\n",
    "distances.sort_values(\"Distance\", inplace=True)\n",
    "second_nearest = distances.iloc[1][\"Index\"]\n",
    "winner = GROmerge.loc[second_nearest]['Country']\n",
    "winner"
   ]
  },
  {
   "cell_type": "code",
   "execution_count": null,
   "id": "06c97bb9",
   "metadata": {},
   "outputs": [],
   "source": [
    "switz_normal = normal[GROmerge['Country'] == 'Switzerland']\n",
    "euc_dist = normal.apply(lambda row: distance.euclidean(row, switz_normal), axis=1)\n",
    "distances = pd.DataFrame(data={\"Distance\": euc_dist, \"Index\": euc_dist.index})\n",
    "distances.sort_values(\"Distance\", inplace=True)\n",
    "second_nearest = distances.iloc[1][\"Index\"]\n",
    "winner = GROmerge.loc[second_nearest]['Country']\n",
    "winner"
   ]
  },
  {
   "cell_type": "code",
   "execution_count": null,
   "id": "eb92f384",
   "metadata": {},
   "outputs": [],
   "source": [
    "thai_normal = normal[GROmerge['Country'] == 'Thailand']\n",
    "euc_dist = normal.apply(lambda row: distance.euclidean(row, thai_normal), axis=1)\n",
    "distances = pd.DataFrame(data={\"Distance\": euc_dist, \"Index\": euc_dist.index})\n",
    "distances.sort_values(\"Distance\", inplace=True)\n",
    "second_nearest = distances.iloc[1][\"Index\"]\n",
    "winner = GROmerge.loc[second_nearest]['Country']\n",
    "winner"
   ]
  },
  {
   "cell_type": "code",
   "execution_count": null,
   "id": "f22afedd",
   "metadata": {
    "scrolled": true
   },
   "outputs": [],
   "source": [
    "#generate score\n",
    "#set up test and train sets by using random samplings - shuffle the index and pick rows, otherwise predicting and training on the same data - overfit\n",
    "import random\n",
    "from numpy.random import permutation\n",
    "\n",
    "GROmergez = GROmerge.fillna(0, inplace=False)\n",
    "shuffled = permutation(GROmergez.index)\n",
    "#no more than 1/3 of countries in a test set, here testfloor is 14\n",
    "testfloor = math.floor(len(GROmergez)/3)\n",
    "#take first third of randomly shuffled indices\n",
    "testset = GROmergez.loc[shuffled[1:testfloor]]\n",
    "#train set becomes rest of data\n",
    "trainset = GROmergez.loc[shuffled[testfloor:]]\n",
    "trainset"
   ]
  },
  {
   "cell_type": "code",
   "execution_count": null,
   "id": "6cacf561",
   "metadata": {},
   "outputs": [],
   "source": [
    "#using scikitlearn for k nearest neighbours - does normalisation and finding distance score automatically\n",
    "#using regressor (continuous data)\n",
    "#select columns to predict with\n",
    "xcols = ['Green recovery spending', 'Percent', 'Renewable energy consumption (TJ)', 'Annual tree cover loss (ha)',\n",
    "                   'Natural resource rents as % GDP', 'Fossil fuel subsidies as % GDP', 'Fossil fuel subsidies USD per Capita', 'CO2 emissions tons per capita']\n",
    "#select column we want to predict\n",
    "ycol = ['Air pollution (annual mean ug/m3 <PM2.5)']\n",
    "\n",
    "from sklearn.neighbors import KNeighborsRegressor\n",
    "#create k nearest neighbours model, here with 5 closest neighbours (k=5), user defined constant\n",
    "nearest = KNeighborsRegressor(n_neighbors=5)\n",
    "#fit the model on the training data\n",
    "nearest.fit(trainset[xcols], trainset[ycol])\n",
    "#make point predictions on the test set using the fit model\n",
    "pp = nearest.predict(testset[xcols])"
   ]
  },
  {
   "cell_type": "code",
   "execution_count": null,
   "id": "478571d0",
   "metadata": {},
   "outputs": [],
   "source": [
    "pp\n",
    "##we think for the test set, these are the air pollution vals?"
   ]
  },
  {
   "cell_type": "code",
   "execution_count": null,
   "id": "10ec53ca",
   "metadata": {
    "scrolled": true
   },
   "outputs": [],
   "source": [
    "#https://scikit-learn.org/stable/modules/neighbors.html\n",
    "actual = testset[ycol]\n",
    "#compute mean squared error using this formula\n",
    "#for each row in test set, subtract actual values from predicted values, square the result and then add them together, divide by number of rows in predicted set\n",
    "#basically finding average squared difference yeah\n",
    "pp - actual\n",
    "#error = (((pp - actual) ** 2).sum()) / len(pp)\n",
    "#error"
   ]
  },
  {
   "cell_type": "code",
   "execution_count": null,
   "id": "2dcc5248",
   "metadata": {},
   "outputs": [],
   "source": [
    "from sklearn.impute import KNNImputer\n",
    "#missing values replaced by mean value of 5 nearest neighbours measured by Euc dist as distance metric\n",
    "\n",
    "#scale values to have values between 0 and 1 using Scikit learn's MinMaxScaler\n",
    "from sklearn.preprocessing import MinMaxScaler\n",
    "\n",
    "#several key principles there already above\n",
    "#find numeric cols\n",
    "diffset = GROmerge[['Green recovery spending', 'Percent', 'Renewable energy consumption (TJ)', 'Annual tree cover loss (ha)',\n",
    "                   'Natural resource rents as % GDP', 'Fossil fuel subsidies as % GDP', 'Fossil fuel subsidies USD per Capita', 'CO2 emissions tons per capita',\n",
    "                   'Air pollution (annual mean ug/m3 <PM2.5)']]\n",
    "scaler = MinMaxScaler()\n",
    "df = pd.DataFrame(scaler.fit_transform(diffset), columns = diffset.columns)\n",
    "df\n",
    "#multivariate approach to imputation now, not just taking average for that column (univariate)"
   ]
  },
  {
   "cell_type": "code",
   "execution_count": null,
   "id": "b4ef031f",
   "metadata": {},
   "outputs": [],
   "source": [
    "#https://scikit-learn.org/stable/modules/generated/sklearn.impute.KNNImputer.html\n",
    "#looks for missing values in all columns, uses others to fill them\n",
    "imputer = KNNImputer(n_neighbors=5)\n",
    "#fit to data, then transform it\n",
    "df = pd.DataFrame(imputer.fit_transform(df), columns = df.columns)"
   ]
  },
  {
   "cell_type": "code",
   "execution_count": null,
   "id": "cc14d468",
   "metadata": {
    "scrolled": true
   },
   "outputs": [],
   "source": [
    "df"
   ]
  },
  {
   "cell_type": "code",
   "execution_count": null,
   "id": "dbe9223c",
   "metadata": {
    "scrolled": true
   },
   "outputs": [],
   "source": [
    "#https://scikit-learn.org/stable/modules/generated/sklearn.preprocessing.MinMaxScaler.html#sklearn.preprocessing.MinMaxScaler.inverse_transform\n",
    "df = pd.DataFrame(scaler.inverse_transform(df), columns = df.columns)\n",
    "df"
   ]
  },
  {
   "cell_type": "code",
   "execution_count": null,
   "id": "fffc9e90",
   "metadata": {},
   "outputs": [],
   "source": [
    "#put these back onto the GROmerge in new cols under per list"
   ]
  },
  {
   "cell_type": "code",
   "execution_count": null,
   "id": "7f036373",
   "metadata": {},
   "outputs": [],
   "source": [
    "per_list = []\n",
    "\n",
    "for name, values in GROmerge.iteritems():\n",
    "    narows = GROmerge[GROmerge[name].isna()]\n",
    "    ## number of NA rows divided by total no of rows\n",
    "    narows['Country'].count()\n",
    "    per_imputed = narows['Country'].count() / GROmerge['Country'].count()\n",
    "    per_list.append(per_imputed)\n",
    "\n",
    "per_imp = pd.Series(per_list, index=['Country', 'Green recovery spending', 'Percent', 'Renewable energy consumption (TJ)', 'Annual tree cover loss (ha)',\n",
    "                   'Natural resource rents as % GDP', 'Fossil fuel subsidies as % GDP', 'Fossil fuel subsidies USD per Capita', 'CO2 emissions tons per capita',\n",
    "                   'Air pollution (annual mean ug/m3 <PM2.5)', 'Country Code'])\n",
    "GROmerge = GROmerge.append(per_imp, ignore_index=True)\n",
    "GROmerge"
   ]
  },
  {
   "cell_type": "code",
   "execution_count": null,
   "id": "10978af6",
   "metadata": {},
   "outputs": [],
   "source": []
  },
  {
   "cell_type": "code",
   "execution_count": null,
   "id": "888fe508",
   "metadata": {},
   "outputs": [],
   "source": [
    "cols = list(GROmerge)\n",
    "cols"
   ]
  },
  {
   "cell_type": "code",
   "execution_count": null,
   "id": "15cf8e47",
   "metadata": {},
   "outputs": [],
   "source": [
    "GROmerge['Percent row imputed'] = GROmerge.isnull().sum(axis=1) / (len(cols) - 2)\n",
    "## subtract 2 to only count numeric cols\n",
    "GROmerge\n"
   ]
  },
  {
   "cell_type": "code",
   "execution_count": null,
   "id": "6b1563ad",
   "metadata": {},
   "outputs": [],
   "source": [
    "GROmerge['Renewable energy_imputed'] = np.nan\n",
    "\n",
    "for index, row in GROmerge.iterrows():\n",
    "    if np.isnan(row['Renewable energy consumption (TJ)']):\n",
    "        #print(row['Country'])\n",
    "        GROmerge.at[index, 'Renewable energy_imputed'] = df.iloc[index]['Renewable energy consumption (TJ)']\n",
    "\n",
    "#def newcol(x):\n",
    "   #if np.isnan(x['Renewable energy consumption (TJ)']):\n",
    "        #return df['Renewable energy consumption (TJ)']\n",
    "\n",
    "#GROmerge['Renewable energy_imputed'] = GROmerge.apply(newcol, axis=1)\n",
    "#GROmerge['Renewable energy_imputed']"
   ]
  },
  {
   "cell_type": "code",
   "execution_count": null,
   "id": "8f0dcf0a",
   "metadata": {
    "scrolled": false
   },
   "outputs": [],
   "source": [
    "GROmerge"
   ]
  },
  {
   "cell_type": "code",
   "execution_count": null,
   "id": "e7cc61a0",
   "metadata": {},
   "outputs": [],
   "source": [
    "GROmerge['Tree cover_imputed'] = np.nan\n",
    "\n",
    "for index, row in GROmerge.iterrows():\n",
    "    if np.isnan(row['Annual tree cover loss (ha)']):\n",
    "        GROmerge.at[index, 'Tree cover_imputed'] = df.iloc[index]['Annual tree cover loss (ha)']\n"
   ]
  },
  {
   "cell_type": "code",
   "execution_count": null,
   "id": "898cd6ed",
   "metadata": {},
   "outputs": [],
   "source": [
    "GROmerge"
   ]
  },
  {
   "cell_type": "code",
   "execution_count": null,
   "id": "70fab759",
   "metadata": {},
   "outputs": [],
   "source": [
    "GROmerge['Fossil fuel GDP_imputed'] = np.nan\n",
    "\n",
    "for index, row in GROmerge.iterrows():\n",
    "    if np.isnan(row['Fossil fuel subsidies as % GDP']):\n",
    "        GROmerge.at[index, 'Fossil fuel GDP_imputed'] = df.iloc[index]['Fossil fuel subsidies as % GDP']\n",
    "GROmerge"
   ]
  },
  {
   "cell_type": "code",
   "execution_count": null,
   "id": "5f0fd113",
   "metadata": {},
   "outputs": [],
   "source": [
    "GROmerge['Fossil fuel per cap_imputed'] = np.nan\n",
    "GROmerge['Air pollution_imputed'] = np.nan\n",
    "\n",
    "for index, row in GROmerge.iterrows():\n",
    "    if np.isnan(row['Fossil fuel subsidies USD per Capita']):\n",
    "        GROmerge.at[index, 'Fossil fuel per cap_imputed'] = df.iloc[index]['Fossil fuel subsidies USD per Capita']\n",
    "    if np.isnan(row['Air pollution (annual mean ug/m3 <PM2.5)']):   \n",
    "        GROmerge.at[index, 'Air pollution_imputed'] = df.iloc[index]['Air pollution (annual mean ug/m3 <PM2.5)']\n",
    "GROmerge"
   ]
  },
  {
   "cell_type": "code",
   "execution_count": null,
   "id": "053a5bc0",
   "metadata": {},
   "outputs": [],
   "source": [
    "GROmerge['Renewable_final'] = GROmerge['Renewable energy consumption (TJ)'].fillna(GROmerge['Renewable energy_imputed'])\n",
    "GROmerge"
   ]
  },
  {
   "cell_type": "code",
   "execution_count": null,
   "id": "adc0b6d0",
   "metadata": {},
   "outputs": [],
   "source": [
    "GROmerge['Tree cover_final'] = GROmerge['Annual tree cover loss (ha)'].fillna(GROmerge['Tree cover_imputed'])\n",
    "GROmerge['Fossil GDP_final'] = GROmerge['Fossil fuel subsidies as % GDP'].fillna(GROmerge['Fossil fuel GDP_imputed'])\n",
    "GROmerge['Fossil per cap_final'] = GROmerge['Fossil fuel subsidies USD per Capita'].fillna(GROmerge['Fossil fuel per cap_imputed'])\n",
    "GROmerge['Air poll_final'] = GROmerge['Air pollution (annual mean ug/m3 <PM2.5)'].fillna(GROmerge['Air pollution_imputed'])\n",
    "GROmerge"
   ]
  },
  {
   "cell_type": "code",
   "execution_count": null,
   "id": "a39aaa71",
   "metadata": {},
   "outputs": [],
   "source": [
    "from sklearn.linear_model import LinearRegression\n",
    "\n",
    "model = LinearRegression(fit_intercept=True)\n",
    "model.fit(GROmerge[['Tree cover_final', 'Fossil GDP_final', 'Fossil per cap_final', 'Air poll_final',\n",
    "                    'Renewable_final', 'Natural resource rents as % GDP', 'CO2 emissions tons per capita']], GROmerge['Percent'])"
   ]
  },
  {
   "cell_type": "code",
   "execution_count": null,
   "id": "5bbb9a4a",
   "metadata": {},
   "outputs": [],
   "source": [
    "# line of best fit calculated and saved into model\n",
    "#access the parameters in the model (gradient and y intercept)\n",
    "#model.predict()\n",
    "\n",
    "GROfinal = GROmerge[['Tree cover_final', 'Fossil GDP_final', 'Fossil per cap_final', 'Air poll_final',\n",
    "                    'Renewable_final', 'Natural resource rents as % GDP', 'CO2 emissions tons per capita', 'Percent', 'Green recovery spending']]\n",
    "GROfinal"
   ]
  },
  {
   "cell_type": "code",
   "execution_count": null,
   "id": "3bbc8057",
   "metadata": {},
   "outputs": [],
   "source": [
    "from pandas.plotting import scatter_matrix\n",
    "\n",
    "scatter_matrix(GROfinal, alpha=0.5, figsize=(17, 17), diagonal='kde')"
   ]
  },
  {
   "cell_type": "code",
   "execution_count": null,
   "id": "24b78acd",
   "metadata": {},
   "outputs": [],
   "source": [
    "corr = GROfinal.corr(method='pearson')"
   ]
  },
  {
   "cell_type": "code",
   "execution_count": null,
   "id": "7583dafb",
   "metadata": {},
   "outputs": [],
   "source": [
    "#remember this is after imputation\n",
    "import matplotlib.pyplot as plt\n",
    "import seaborn as sns\n",
    "\n",
    "#colourmap\n",
    "cmap = sns.diverging_palette(220, 10, as_cmap=True)\n",
    "sns.heatmap(corr, xticklabels=corr.columns, yticklabels=corr.columns, cmap=cmap, annot=True)"
   ]
  },
  {
   "cell_type": "code",
   "execution_count": null,
   "id": "23be1f56",
   "metadata": {},
   "outputs": [],
   "source": [
    "model.coef_"
   ]
  },
  {
   "cell_type": "code",
   "execution_count": null,
   "id": "ec002149",
   "metadata": {},
   "outputs": [],
   "source": [
    "#line of best fit parameters access\n",
    "\n",
    "model.intercept_"
   ]
  },
  {
   "cell_type": "code",
   "execution_count": null,
   "id": "be620125",
   "metadata": {
    "scrolled": true
   },
   "outputs": [],
   "source": [
    "#ax = GROfinal.plot.scatter(\"Renewable_final\", \"Green recovery spending\")\n",
    "plt.scatter(GROfinal[\"Renewable_final\"], GROfinal[\"Green recovery spending\"])"
   ]
  },
  {
   "cell_type": "code",
   "execution_count": null,
   "id": "f2d962e9",
   "metadata": {},
   "outputs": [],
   "source": [
    "model = LinearRegression(fit_intercept=True)"
   ]
  },
  {
   "cell_type": "code",
   "execution_count": null,
   "id": "6122ede0",
   "metadata": {},
   "outputs": [],
   "source": [
    "model.fit(GROfinal[['Renewable_final']], GROfinal['Green recovery spending'])"
   ]
  },
  {
   "cell_type": "code",
   "execution_count": null,
   "id": "7774d04c",
   "metadata": {},
   "outputs": [],
   "source": [
    "data = {'Vals': [GROfinal['Renewable_final'].min(), GROfinal['Renewable_final'].max()]}\n",
    "xfit = pd.DataFrame(data, columns = ['Vals'])\n",
    "#xfit = DataFrame([GROfinal['Renewable_final'].min(), GROfinal['Renewable_final'].max()])\n",
    "ypred = model.predict(xfit)"
   ]
  },
  {
   "cell_type": "code",
   "execution_count": null,
   "id": "f6a17a28",
   "metadata": {},
   "outputs": [],
   "source": [
    "#ax.plot(xfit, ypred, linestyle=\"dashed\")\n",
    "plt.scatter(GROfinal[\"Renewable_final\"], GROfinal[\"Green recovery spending\"])\n",
    "plt.plot(xfit, ypred, linestyle=\"dashed\", color='red')\n",
    "#limited linear correlation"
   ]
  },
  {
   "cell_type": "code",
   "execution_count": null,
   "id": "26831dee",
   "metadata": {},
   "outputs": [],
   "source": [
    "GROfinal.shape"
   ]
  },
  {
   "cell_type": "code",
   "execution_count": null,
   "id": "6a09f536",
   "metadata": {},
   "outputs": [],
   "source": [
    "#kmeans clustering - unsupervised no target\n",
    "\n",
    "#not ff twice Fossil GDP_final\n",
    "from sklearn.cluster import KMeans\n",
    "GROxcols = GROfinal[['Tree cover_final','Fossil per cap_final', 'Air poll_final',\n",
    "                    'Renewable_final', 'Natural resource rents as % GDP', 'CO2 emissions tons per capita']]"
   ]
  },
  {
   "cell_type": "code",
   "execution_count": null,
   "id": "ed8b3f4a",
   "metadata": {},
   "outputs": [],
   "source": [
    "#normalise the data\n",
    "scaler = MinMaxScaler()\n",
    "GROxscaled = pd.DataFrame(scaler.fit_transform(GROxcols), columns = GROxcols.columns)\n",
    "GROxscaled = GROxscaled.drop(index=42)\n",
    "GROxscaled"
   ]
  },
  {
   "cell_type": "code",
   "execution_count": null,
   "id": "3678c423",
   "metadata": {},
   "outputs": [],
   "source": [
    "#how are these related to each other\n",
    "#put them all into categories\n",
    "kmeans = KMeans(n_clusters=3).fit(GROxscaled)"
   ]
  },
  {
   "cell_type": "code",
   "execution_count": null,
   "id": "b38d0c56",
   "metadata": {
    "scrolled": false
   },
   "outputs": [],
   "source": [
    "scatter_matrix(GROxscaled, figsize=(17,17), c=kmeans.labels_)\n",
    "#set colour based on calculated labels"
   ]
  },
  {
   "cell_type": "code",
   "execution_count": null,
   "id": "4d3b442a",
   "metadata": {
    "scrolled": true
   },
   "outputs": [],
   "source": [
    "cc = pd.DataFrame(kmeans.cluster_centers_, columns = ['Tree cover_final','Fossil per cap_final', 'Air poll_final',\n",
    "                    'Renewable_final', 'Natural resource rents as % GDP', 'CO2 emissions tons per capita'])\n",
    "cc\n",
    "#shows point for each feature for each cluster (6 features, 3 clusters)"
   ]
  },
  {
   "cell_type": "code",
   "execution_count": null,
   "id": "1b6a02df",
   "metadata": {},
   "outputs": [],
   "source": [
    "GROxcols = GROxcols.drop(index=42)\n",
    "GROxcols['Labels_3'] = kmeans.labels_"
   ]
  },
  {
   "cell_type": "code",
   "execution_count": null,
   "id": "83e8e9e6",
   "metadata": {},
   "outputs": [],
   "source": [
    "from sklearn.datasets import make_blobs\n",
    "\n",
    "inertia_values = []\n",
    "r = pd.RangeIndex(2, 8)\n",
    "for n_clusters in r:\n",
    "    kmeans = KMeans(n_clusters=n_clusters).fit(GROxscaled)\n",
    "    inertia_values.append(kmeans.inertia_)\n",
    "    \n",
    "inertia = pd.Series(inertia_values, name=\"inertia\", index=r)\n",
    "inertia.plot()\n",
    "#elbows around 3, use that many clusters\n",
    "#lower number is better fit - 3, 4, 7?"
   ]
  },
  {
   "cell_type": "code",
   "execution_count": null,
   "id": "b7e4e43a",
   "metadata": {},
   "outputs": [],
   "source": []
  },
  {
   "cell_type": "code",
   "execution_count": null,
   "id": "4411ea79",
   "metadata": {},
   "outputs": [],
   "source": [
    "GROxcols['Labels_7'] = kmeans.labels_"
   ]
  },
  {
   "cell_type": "code",
   "execution_count": null,
   "id": "6368cd82",
   "metadata": {},
   "outputs": [],
   "source": [
    "GROxcols\n",
    "#which cluster is each sample in given a k of 7?"
   ]
  },
  {
   "cell_type": "code",
   "execution_count": null,
   "id": "e512decd",
   "metadata": {},
   "outputs": [],
   "source": []
  }
 ],
 "metadata": {
  "kernelspec": {
   "display_name": "Python 3 (ipykernel)",
   "language": "python",
   "name": "python3"
  },
  "language_info": {
   "codemirror_mode": {
    "name": "ipython",
    "version": 3
   },
   "file_extension": ".py",
   "mimetype": "text/x-python",
   "name": "python",
   "nbconvert_exporter": "python",
   "pygments_lexer": "ipython3",
   "version": "3.9.6"
  }
 },
 "nbformat": 4,
 "nbformat_minor": 5
}
