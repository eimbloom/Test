{
 "cells": [
  {
   "cell_type": "code",
   "execution_count": 13,
   "metadata": {},
   "outputs": [
    {
     "data": {
      "text/html": [
       "<div>\n",
       "<style scoped>\n",
       "    .dataframe tbody tr th:only-of-type {\n",
       "        vertical-align: middle;\n",
       "    }\n",
       "\n",
       "    .dataframe tbody tr th {\n",
       "        vertical-align: top;\n",
       "    }\n",
       "\n",
       "    .dataframe thead th {\n",
       "        text-align: right;\n",
       "    }\n",
       "</style>\n",
       "<table border=\"1\" class=\"dataframe\">\n",
       "  <thead>\n",
       "    <tr style=\"text-align: right;\">\n",
       "      <th></th>\n",
       "      <th>Category</th>\n",
       "      <th>Country</th>\n",
       "      <th>Technology/source</th>\n",
       "      <th>Year</th>\n",
       "      <th>TJ</th>\n",
       "    </tr>\n",
       "  </thead>\n",
       "  <tbody>\n",
       "    <tr>\n",
       "      <th>0</th>\n",
       "      <td>Final Consumption-Total</td>\n",
       "      <td>Afghanistan</td>\n",
       "      <td>GrandTotal</td>\n",
       "      <td>2018.0</td>\n",
       "      <td>26605.74</td>\n",
       "    </tr>\n",
       "    <tr>\n",
       "      <th>1</th>\n",
       "      <td>Final Consumption-Total</td>\n",
       "      <td>Albania</td>\n",
       "      <td>GrandTotal</td>\n",
       "      <td>2018.0</td>\n",
       "      <td>29077.03</td>\n",
       "    </tr>\n",
       "    <tr>\n",
       "      <th>2</th>\n",
       "      <td>Final Consumption-Total</td>\n",
       "      <td>Algeria</td>\n",
       "      <td>GrandTotal</td>\n",
       "      <td>2018.0</td>\n",
       "      <td>3060.90</td>\n",
       "    </tr>\n",
       "    <tr>\n",
       "      <th>3</th>\n",
       "      <td>Final Consumption-Total</td>\n",
       "      <td>Argentina</td>\n",
       "      <td>GrandTotal</td>\n",
       "      <td>2018.0</td>\n",
       "      <td>267341.51</td>\n",
       "    </tr>\n",
       "    <tr>\n",
       "      <th>4</th>\n",
       "      <td>Final Consumption-Total</td>\n",
       "      <td>Armenia</td>\n",
       "      <td>GrandTotal</td>\n",
       "      <td>2018.0</td>\n",
       "      <td>10023.98</td>\n",
       "    </tr>\n",
       "    <tr>\n",
       "      <th>...</th>\n",
       "      <td>...</td>\n",
       "      <td>...</td>\n",
       "      <td>...</td>\n",
       "      <td>...</td>\n",
       "      <td>...</td>\n",
       "    </tr>\n",
       "    <tr>\n",
       "      <th>135</th>\n",
       "      <td>Final Consumption-Total</td>\n",
       "      <td>Uzbekistan</td>\n",
       "      <td>GrandTotal</td>\n",
       "      <td>2018.0</td>\n",
       "      <td>19636.93</td>\n",
       "    </tr>\n",
       "    <tr>\n",
       "      <th>136</th>\n",
       "      <td>Final Consumption-Total</td>\n",
       "      <td>Vanuatu</td>\n",
       "      <td>GrandTotal</td>\n",
       "      <td>2018.0</td>\n",
       "      <td>1069.25</td>\n",
       "    </tr>\n",
       "    <tr>\n",
       "      <th>137</th>\n",
       "      <td>Final Consumption-Total</td>\n",
       "      <td>Venezuela (Bolivarian Republic of)</td>\n",
       "      <td>GrandTotal</td>\n",
       "      <td>2018.0</td>\n",
       "      <td>109348.54</td>\n",
       "    </tr>\n",
       "    <tr>\n",
       "      <th>138</th>\n",
       "      <td>Final Consumption-Total</td>\n",
       "      <td>Zambia</td>\n",
       "      <td>GrandTotal</td>\n",
       "      <td>2018.0</td>\n",
       "      <td>262416.71</td>\n",
       "    </tr>\n",
       "    <tr>\n",
       "      <th>139</th>\n",
       "      <td>Final Consumption-Total</td>\n",
       "      <td>Zimbabwe</td>\n",
       "      <td>GrandTotal</td>\n",
       "      <td>2018.0</td>\n",
       "      <td>131333.90</td>\n",
       "    </tr>\n",
       "  </tbody>\n",
       "</table>\n",
       "<p>140 rows × 5 columns</p>\n",
       "</div>"
      ],
      "text/plain": [
       "                    Category                             Country  \\\n",
       "0    Final Consumption-Total                         Afghanistan   \n",
       "1    Final Consumption-Total                             Albania   \n",
       "2    Final Consumption-Total                             Algeria   \n",
       "3    Final Consumption-Total                           Argentina   \n",
       "4    Final Consumption-Total                             Armenia   \n",
       "..                       ...                                 ...   \n",
       "135  Final Consumption-Total                          Uzbekistan   \n",
       "136  Final Consumption-Total                             Vanuatu   \n",
       "137  Final Consumption-Total  Venezuela (Bolivarian Republic of)   \n",
       "138  Final Consumption-Total                              Zambia   \n",
       "139  Final Consumption-Total                            Zimbabwe   \n",
       "\n",
       "    Technology/source    Year         TJ  \n",
       "0          GrandTotal  2018.0   26605.74  \n",
       "1          GrandTotal  2018.0   29077.03  \n",
       "2          GrandTotal  2018.0    3060.90  \n",
       "3          GrandTotal  2018.0  267341.51  \n",
       "4          GrandTotal  2018.0   10023.98  \n",
       "..                ...     ...        ...  \n",
       "135        GrandTotal  2018.0   19636.93  \n",
       "136        GrandTotal  2018.0    1069.25  \n",
       "137        GrandTotal  2018.0  109348.54  \n",
       "138        GrandTotal  2018.0  262416.71  \n",
       "139        GrandTotal  2018.0  131333.90  \n",
       "\n",
       "[140 rows x 5 columns]"
      ]
     },
     "execution_count": 13,
     "metadata": {},
     "output_type": "execute_result"
    }
   ],
   "source": [
    "import pandas as pd\n",
    "\n",
    "df = pd.read_excel(r'C:\\Users\\ebloom\\Desktop\\IRENA.xlsx',\n",
    "                  na_values=[\"0\", \"..\"])\n",
    "df = df[df['Year'] == 2018]\n",
    "df = df[df['Technology/source'] == 'GrandTotal']\n",
    "df = df[df['Category'] == 'Final Consumption-Total']\n",
    "df = df.round(2)\n",
    "df = df.reset_index(drop=True)\n",
    "##https://irena.org/Statistics/View-Data-by-Topic/Renewable-Energy-Balances/Final-Renewable-Energy-Consumption\n",
    "df"
   ]
  },
  {
   "cell_type": "code",
   "execution_count": 14,
   "metadata": {
    "scrolled": true
   },
   "outputs": [
    {
     "data": {
      "text/plain": [
       "<AxesSubplot:>"
      ]
     },
     "execution_count": 14,
     "metadata": {},
     "output_type": "execute_result"
    },
    {
     "data": {
      "image/png": "[encoded data removed]",
      "text/plain": [
       "<Figure size 432x288 with 1 Axes>"
      ]
     },
     "metadata": {
      "needs_background": "light"
     },
     "output_type": "display_data"
    }
   ],
   "source": [
    "df.plot(y='TJ')"
   ]
  },
  {
   "cell_type": "code",
   "execution_count": null,
   "metadata": {},
   "outputs": [],
   "source": []
  }
 ],
 "metadata": {
  "kernelspec": {
   "display_name": "Python 3 (ipykernel)",
   "language": "python",
   "name": "python3"
  },
  "language_info": {
   "codemirror_mode": {
    "name": "ipython",
    "version": 3
   },
   "file_extension": ".py",
   "mimetype": "text/x-python",
   "name": "python",
   "nbconvert_exporter": "python",
   "pygments_lexer": "ipython3",
   "version": "3.9.6"
  }
 },
 "nbformat": 4,
 "nbformat_minor": 1
}