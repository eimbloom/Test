{
 "cells": [
  {
   "cell_type": "code",
   "execution_count": 1,
   "metadata": {},
   "outputs": [
    {
     "data": {
      "text/html": [
       "<div>\n",
       "<style scoped>\n",
       "    .dataframe tbody tr th:only-of-type {\n",
       "        vertical-align: middle;\n",
       "    }\n",
       "\n",
       "    .dataframe tbody tr th {\n",
       "        vertical-align: top;\n",
       "    }\n",
       "\n",
       "    .dataframe thead th {\n",
       "        text-align: right;\n",
       "    }\n",
       "</style>\n",
       "<table border=\"1\" class=\"dataframe\">\n",
       "  <thead>\n",
       "    <tr style=\"text-align: right;\">\n",
       "      <th></th>\n",
       "      <th>Country Name</th>\n",
       "      <th>Country Code</th>\n",
       "      <th>2017</th>\n",
       "      <th>2018</th>\n",
       "      <th>2019</th>\n",
       "    </tr>\n",
       "  </thead>\n",
       "  <tbody>\n",
       "    <tr>\n",
       "      <th>47</th>\n",
       "      <td>Aruba</td>\n",
       "      <td>ABW</td>\n",
       "      <td>0.00</td>\n",
       "      <td>NaN</td>\n",
       "      <td>NaN</td>\n",
       "    </tr>\n",
       "    <tr>\n",
       "      <th>48</th>\n",
       "      <td>Afghanistan</td>\n",
       "      <td>AFG</td>\n",
       "      <td>0.70</td>\n",
       "      <td>0.92</td>\n",
       "      <td>0.77</td>\n",
       "    </tr>\n",
       "    <tr>\n",
       "      <th>49</th>\n",
       "      <td>Angola</td>\n",
       "      <td>AGO</td>\n",
       "      <td>16.45</td>\n",
       "      <td>27.43</td>\n",
       "      <td>26.19</td>\n",
       "    </tr>\n",
       "    <tr>\n",
       "      <th>50</th>\n",
       "      <td>Albania</td>\n",
       "      <td>ALB</td>\n",
       "      <td>1.36</td>\n",
       "      <td>1.82</td>\n",
       "      <td>1.59</td>\n",
       "    </tr>\n",
       "    <tr>\n",
       "      <th>51</th>\n",
       "      <td>Andorra</td>\n",
       "      <td>AND</td>\n",
       "      <td>NaN</td>\n",
       "      <td>NaN</td>\n",
       "      <td>NaN</td>\n",
       "    </tr>\n",
       "    <tr>\n",
       "      <th>...</th>\n",
       "      <td>...</td>\n",
       "      <td>...</td>\n",
       "      <td>...</td>\n",
       "      <td>...</td>\n",
       "      <td>...</td>\n",
       "    </tr>\n",
       "    <tr>\n",
       "      <th>259</th>\n",
       "      <td>Kosovo</td>\n",
       "      <td>XKX</td>\n",
       "      <td>0.55</td>\n",
       "      <td>0.55</td>\n",
       "      <td>0.40</td>\n",
       "    </tr>\n",
       "    <tr>\n",
       "      <th>260</th>\n",
       "      <td>Yemen, Rep.</td>\n",
       "      <td>YEM</td>\n",
       "      <td>2.00</td>\n",
       "      <td>4.44</td>\n",
       "      <td>5.44</td>\n",
       "    </tr>\n",
       "    <tr>\n",
       "      <th>261</th>\n",
       "      <td>South Africa</td>\n",
       "      <td>ZAF</td>\n",
       "      <td>3.64</td>\n",
       "      <td>3.60</td>\n",
       "      <td>3.94</td>\n",
       "    </tr>\n",
       "    <tr>\n",
       "      <th>262</th>\n",
       "      <td>Zambia</td>\n",
       "      <td>ZMB</td>\n",
       "      <td>13.30</td>\n",
       "      <td>11.31</td>\n",
       "      <td>6.43</td>\n",
       "    </tr>\n",
       "    <tr>\n",
       "      <th>263</th>\n",
       "      <td>Zimbabwe</td>\n",
       "      <td>ZWE</td>\n",
       "      <td>4.84</td>\n",
       "      <td>4.36</td>\n",
       "      <td>2.50</td>\n",
       "    </tr>\n",
       "  </tbody>\n",
       "</table>\n",
       "<p>217 rows × 5 columns</p>\n",
       "</div>"
      ],
      "text/plain": [
       "     Country Name Country Code   2017   2018   2019\n",
       "47          Aruba          ABW   0.00    NaN    NaN\n",
       "48    Afghanistan          AFG   0.70   0.92   0.77\n",
       "49         Angola          AGO  16.45  27.43  26.19\n",
       "50        Albania          ALB   1.36   1.82   1.59\n",
       "51        Andorra          AND    NaN    NaN    NaN\n",
       "..            ...          ...    ...    ...    ...\n",
       "259        Kosovo          XKX   0.55   0.55   0.40\n",
       "260   Yemen, Rep.          YEM   2.00   4.44   5.44\n",
       "261  South Africa          ZAF   3.64   3.60   3.94\n",
       "262        Zambia          ZMB  13.30  11.31   6.43\n",
       "263      Zimbabwe          ZWE   4.84   4.36   2.50\n",
       "\n",
       "[217 rows x 5 columns]"
      ]
     },
     "execution_count": 1,
     "metadata": {},
     "output_type": "execute_result"
    }
   ],
   "source": [
    "import pandas as pd\n",
    "\n",
    "nr = pd.read_excel(r'C:\\Users\\ebloom\\Desktop\\Data_Extract_From_Adjusted_Net_Savings.xlsx',\n",
    "                   usecols=[\"Country Name\", \"Country Code\", \"2017 [YR2017]\", \"2018 [YR2018]\", \"2019 [YR2019]\"],\n",
    "                  na_values=[\"0\", \"..\"])\n",
    "nr.rename(columns = {\"2017 [YR2017]\" : \"2017\", \"2018 [YR2018]\" : \"2018\", \"2019 [YR2019]\" : \"2019\"}, inplace=True)\n",
    "nr = nr.round({'2017' : 2, '2018' : 2, '2019' : 2})\n",
    "nr = nr.drop(nr.index[264:269])\n",
    "nr = nr.drop(nr.index[0:47])\n",
    "nr\n",
    "##Natural resource rents as percent of GDP"
   ]
  },
  {
   "cell_type": "code",
   "execution_count": 2,
   "metadata": {},
   "outputs": [
    {
     "data": {
      "text/plain": [
       "<AxesSubplot:xlabel='2019', ylabel='Country Name'>"
      ]
     },
     "execution_count": 2,
     "metadata": {},
     "output_type": "execute_result"
    },
    {
     "data": {
      "image/png": "[encoded data removed]",
      "text/plain": [
       "<Figure size 432x288 with 1 Axes>"
      ]
     },
     "metadata": {
      "needs_background": "light"
     },
     "output_type": "display_data"
    }
   ],
   "source": [
    "import seaborn as sns\n",
    "\n",
    "nr = nr.sort_values(by='2019', ascending=False)\n",
    "top = nr[:10]\n",
    "sns.barplot(x=top['2019'], y=top['Country Name'])"
   ]
  },
  {
   "cell_type": "code",
   "execution_count": 3,
   "metadata": {},
   "outputs": [
    {
     "data": {
      "text/html": [
       "<div>\n",
       "<style scoped>\n",
       "    .dataframe tbody tr th:only-of-type {\n",
       "        vertical-align: middle;\n",
       "    }\n",
       "\n",
       "    .dataframe tbody tr th {\n",
       "        vertical-align: top;\n",
       "    }\n",
       "\n",
       "    .dataframe thead th {\n",
       "        text-align: right;\n",
       "    }\n",
       "</style>\n",
       "<table border=\"1\" class=\"dataframe\">\n",
       "  <thead>\n",
       "    <tr style=\"text-align: right;\">\n",
       "      <th></th>\n",
       "      <th>Country Name</th>\n",
       "      <th>Country Code</th>\n",
       "      <th>2017</th>\n",
       "      <th>2018</th>\n",
       "      <th>2019</th>\n",
       "    </tr>\n",
       "  </thead>\n",
       "  <tbody>\n",
       "    <tr>\n",
       "      <th>221</th>\n",
       "      <td>San Marino</td>\n",
       "      <td>SMR</td>\n",
       "      <td>NaN</td>\n",
       "      <td>NaN</td>\n",
       "      <td>NaN</td>\n",
       "    </tr>\n",
       "    <tr>\n",
       "      <th>222</th>\n",
       "      <td>Somalia</td>\n",
       "      <td>SOM</td>\n",
       "      <td>NaN</td>\n",
       "      <td>NaN</td>\n",
       "      <td>NaN</td>\n",
       "    </tr>\n",
       "    <tr>\n",
       "      <th>224</th>\n",
       "      <td>South Sudan</td>\n",
       "      <td>SSD</td>\n",
       "      <td>NaN</td>\n",
       "      <td>NaN</td>\n",
       "      <td>NaN</td>\n",
       "    </tr>\n",
       "    <tr>\n",
       "      <th>231</th>\n",
       "      <td>Sint Maarten (Dutch part)</td>\n",
       "      <td>SXM</td>\n",
       "      <td>NaN</td>\n",
       "      <td>NaN</td>\n",
       "      <td>NaN</td>\n",
       "    </tr>\n",
       "    <tr>\n",
       "      <th>233</th>\n",
       "      <td>Syrian Arab Republic</td>\n",
       "      <td>SYR</td>\n",
       "      <td>NaN</td>\n",
       "      <td>NaN</td>\n",
       "      <td>NaN</td>\n",
       "    </tr>\n",
       "    <tr>\n",
       "      <th>239</th>\n",
       "      <td>Turkmenistan</td>\n",
       "      <td>TKM</td>\n",
       "      <td>16.55</td>\n",
       "      <td>24.07</td>\n",
       "      <td>NaN</td>\n",
       "    </tr>\n",
       "    <tr>\n",
       "      <th>245</th>\n",
       "      <td>Tuvalu</td>\n",
       "      <td>TUV</td>\n",
       "      <td>NaN</td>\n",
       "      <td>NaN</td>\n",
       "      <td>NaN</td>\n",
       "    </tr>\n",
       "    <tr>\n",
       "      <th>253</th>\n",
       "      <td>Venezuela, RB</td>\n",
       "      <td>VEN</td>\n",
       "      <td>NaN</td>\n",
       "      <td>NaN</td>\n",
       "      <td>NaN</td>\n",
       "    </tr>\n",
       "    <tr>\n",
       "      <th>254</th>\n",
       "      <td>British Virgin Islands</td>\n",
       "      <td>VGB</td>\n",
       "      <td>NaN</td>\n",
       "      <td>NaN</td>\n",
       "      <td>NaN</td>\n",
       "    </tr>\n",
       "    <tr>\n",
       "      <th>255</th>\n",
       "      <td>Virgin Islands (U.S.)</td>\n",
       "      <td>VIR</td>\n",
       "      <td>NaN</td>\n",
       "      <td>NaN</td>\n",
       "      <td>NaN</td>\n",
       "    </tr>\n",
       "  </tbody>\n",
       "</table>\n",
       "</div>"
      ],
      "text/plain": [
       "                  Country Name Country Code   2017   2018  2019\n",
       "221                 San Marino          SMR    NaN    NaN   NaN\n",
       "222                    Somalia          SOM    NaN    NaN   NaN\n",
       "224                South Sudan          SSD    NaN    NaN   NaN\n",
       "231  Sint Maarten (Dutch part)          SXM    NaN    NaN   NaN\n",
       "233       Syrian Arab Republic          SYR    NaN    NaN   NaN\n",
       "239               Turkmenistan          TKM  16.55  24.07   NaN\n",
       "245                     Tuvalu          TUV    NaN    NaN   NaN\n",
       "253              Venezuela, RB          VEN    NaN    NaN   NaN\n",
       "254     British Virgin Islands          VGB    NaN    NaN   NaN\n",
       "255      Virgin Islands (U.S.)          VIR    NaN    NaN   NaN"
      ]
     },
     "execution_count": 3,
     "metadata": {},
     "output_type": "execute_result"
    }
   ],
   "source": [
    "bottom = nr[-10:]\n",
    "bottom\n",
    "##sns.barplot(x=bottom['2019'], y=bottom['Country Name'])"
   ]
  },
  {
   "cell_type": "code",
   "execution_count": 4,
   "metadata": {},
   "outputs": [
    {
     "name": "stdout",
     "output_type": "stream",
     "text": [
      "             2017        2018        2019\n",
      "count  181.000000  180.000000  175.000000\n",
      "mean     5.902320    6.392444    5.115257\n",
      "std      8.467102   10.691805    9.086032\n",
      "min      0.000000    0.000000    0.000000\n",
      "25%      0.410000    0.392500    0.315000\n",
      "50%      1.750000    1.725000    1.520000\n",
      "75%      7.760000    6.840000    5.170000\n",
      "max     45.170000   73.250000   47.870000\n"
     ]
    }
   ],
   "source": [
    "print(nr.describe())"
   ]
  },
  {
   "cell_type": "code",
   "execution_count": 5,
   "metadata": {},
   "outputs": [
    {
     "data": {
      "text/plain": [
       "<AxesSubplot:>"
      ]
     },
     "execution_count": 5,
     "metadata": {},
     "output_type": "execute_result"
    },
    {
     "data": {
      "image/png": "[encoded data removed]",
      "text/plain": [
       "<Figure size 720x720 with 1 Axes>"
      ]
     },
     "metadata": {
      "needs_background": "light"
     },
     "output_type": "display_data"
    }
   ],
   "source": [
    "nr.boxplot(figsize=(10,10))"
   ]
  },
  {
   "cell_type": "code",
   "execution_count": 6,
   "metadata": {},
   "outputs": [
    {
     "data": {
      "text/plain": [
       "array([[<AxesSubplot:title={'center':'2017'}>,\n",
       "        <AxesSubplot:title={'center':'2018'}>],\n",
       "       [<AxesSubplot:title={'center':'2019'}>, <AxesSubplot:>]],\n",
       "      dtype=object)"
      ]
     },
     "execution_count": 6,
     "metadata": {},
     "output_type": "execute_result"
    },
    {
     "data": {
      "image/png": "[encoded data removed]",
      "text/plain": [
       "<Figure size 720x720 with 4 Axes>"
      ]
     },
     "metadata": {
      "needs_background": "light"
     },
     "output_type": "display_data"
    }
   ],
   "source": [
    "nr.hist(figsize=(10,10))"
   ]
  },
  {
   "cell_type": "markdown",
   "metadata": {},
   "source": [
    "# GRO data import"
   ]
  },
  {
   "cell_type": "code",
   "execution_count": 7,
   "metadata": {},
   "outputs": [],
   "source": [
    "GRO = pd.read_excel('https://recovery.smithschool.ox.ac.uk/wp-content/uploads/2021/05/20210524-Global-Recovery-Observatory-publicv2.xlsx', sheet_name=\"COVID-19 Measures\",\n",
    "                  na_values=[\"..\"], usecols={'Country', 'Total Value, USD (billions)', 'Clean archetype?', 'Recovery?'})\n",
    "index = GRO[GRO['Recovery?'] != 1].index\n",
    "rec = GRO.drop(index, inplace=False)\n",
    "rec = rec.groupby([\"Country\"], as_index=False).sum()\n",
    "rec = rec.drop(columns=['Recovery?', 'Clean archetype?'])\n",
    "\n",
    "index2 = GRO[GRO['Clean archetype?'] != 1].index\n",
    "greenrec = GRO.drop(index2, inplace=False)\n",
    "index = greenrec[greenrec['Recovery?'] != 1].index\n",
    "greenrec.drop(index, inplace=True)\n",
    "greenrec = greenrec.groupby([\"Country\"], as_index=False).sum()\n",
    "greenrec = greenrec.drop(columns=['Recovery?', 'Clean archetype?'])"
   ]
  },
  {
   "cell_type": "code",
   "execution_count": 8,
   "metadata": {},
   "outputs": [
    {
     "data": {
      "text/html": [
       "<div>\n",
       "<style scoped>\n",
       "    .dataframe tbody tr th:only-of-type {\n",
       "        vertical-align: middle;\n",
       "    }\n",
       "\n",
       "    .dataframe tbody tr th {\n",
       "        vertical-align: top;\n",
       "    }\n",
       "\n",
       "    .dataframe thead th {\n",
       "        text-align: right;\n",
       "    }\n",
       "</style>\n",
       "<table border=\"1\" class=\"dataframe\">\n",
       "  <thead>\n",
       "    <tr style=\"text-align: right;\">\n",
       "      <th></th>\n",
       "      <th>Country</th>\n",
       "      <th>Green recovery spending</th>\n",
       "      <th>Recovery spending</th>\n",
       "      <th>Percent</th>\n",
       "    </tr>\n",
       "  </thead>\n",
       "  <tbody>\n",
       "    <tr>\n",
       "      <th>0</th>\n",
       "      <td>Argentina</td>\n",
       "      <td>0.00</td>\n",
       "      <td>6.82</td>\n",
       "      <td>0.00</td>\n",
       "    </tr>\n",
       "    <tr>\n",
       "      <th>1</th>\n",
       "      <td>Australia</td>\n",
       "      <td>2.30</td>\n",
       "      <td>130.95</td>\n",
       "      <td>1.76</td>\n",
       "    </tr>\n",
       "    <tr>\n",
       "      <th>2</th>\n",
       "      <td>Austria</td>\n",
       "      <td>0.38</td>\n",
       "      <td>1.60</td>\n",
       "      <td>23.75</td>\n",
       "    </tr>\n",
       "    <tr>\n",
       "      <th>3</th>\n",
       "      <td>Bangladesh</td>\n",
       "      <td>0.55</td>\n",
       "      <td>0.63</td>\n",
       "      <td>87.30</td>\n",
       "    </tr>\n",
       "    <tr>\n",
       "      <th>4</th>\n",
       "      <td>Brazil</td>\n",
       "      <td>0.28</td>\n",
       "      <td>0.54</td>\n",
       "      <td>51.85</td>\n",
       "    </tr>\n",
       "    <tr>\n",
       "      <th>5</th>\n",
       "      <td>Burkina Faso</td>\n",
       "      <td>0.00</td>\n",
       "      <td>0.00</td>\n",
       "      <td>NaN</td>\n",
       "    </tr>\n",
       "    <tr>\n",
       "      <th>6</th>\n",
       "      <td>Canada</td>\n",
       "      <td>21.67</td>\n",
       "      <td>38.70</td>\n",
       "      <td>55.99</td>\n",
       "    </tr>\n",
       "    <tr>\n",
       "      <th>7</th>\n",
       "      <td>Chile</td>\n",
       "      <td>0.45</td>\n",
       "      <td>3.13</td>\n",
       "      <td>14.38</td>\n",
       "    </tr>\n",
       "    <tr>\n",
       "      <th>8</th>\n",
       "      <td>China</td>\n",
       "      <td>51.88</td>\n",
       "      <td>427.52</td>\n",
       "      <td>12.14</td>\n",
       "    </tr>\n",
       "    <tr>\n",
       "      <th>9</th>\n",
       "      <td>Colombia</td>\n",
       "      <td>0.15</td>\n",
       "      <td>0.32</td>\n",
       "      <td>46.88</td>\n",
       "    </tr>\n",
       "    <tr>\n",
       "      <th>10</th>\n",
       "      <td>Cuba</td>\n",
       "      <td>0.00</td>\n",
       "      <td>0.00</td>\n",
       "      <td>NaN</td>\n",
       "    </tr>\n",
       "    <tr>\n",
       "      <th>11</th>\n",
       "      <td>Denmark</td>\n",
       "      <td>8.24</td>\n",
       "      <td>13.29</td>\n",
       "      <td>62.00</td>\n",
       "    </tr>\n",
       "    <tr>\n",
       "      <th>12</th>\n",
       "      <td>Dominican Republic</td>\n",
       "      <td>0.00</td>\n",
       "      <td>0.21</td>\n",
       "      <td>0.00</td>\n",
       "    </tr>\n",
       "    <tr>\n",
       "      <th>13</th>\n",
       "      <td>EIB</td>\n",
       "      <td>238.24</td>\n",
       "      <td>315.63</td>\n",
       "      <td>75.48</td>\n",
       "    </tr>\n",
       "    <tr>\n",
       "      <th>14</th>\n",
       "      <td>European Union</td>\n",
       "      <td>78.71</td>\n",
       "      <td>793.80</td>\n",
       "      <td>9.92</td>\n",
       "    </tr>\n",
       "    <tr>\n",
       "      <th>15</th>\n",
       "      <td>Finland</td>\n",
       "      <td>2.79</td>\n",
       "      <td>4.81</td>\n",
       "      <td>58.00</td>\n",
       "    </tr>\n",
       "    <tr>\n",
       "      <th>16</th>\n",
       "      <td>France</td>\n",
       "      <td>40.01</td>\n",
       "      <td>112.52</td>\n",
       "      <td>35.56</td>\n",
       "    </tr>\n",
       "    <tr>\n",
       "      <th>17</th>\n",
       "      <td>Germany</td>\n",
       "      <td>47.43</td>\n",
       "      <td>100.22</td>\n",
       "      <td>47.33</td>\n",
       "    </tr>\n",
       "    <tr>\n",
       "      <th>18</th>\n",
       "      <td>Ghana</td>\n",
       "      <td>0.00</td>\n",
       "      <td>0.05</td>\n",
       "      <td>0.00</td>\n",
       "    </tr>\n",
       "    <tr>\n",
       "      <th>19</th>\n",
       "      <td>Honduras</td>\n",
       "      <td>0.00</td>\n",
       "      <td>0.09</td>\n",
       "      <td>0.00</td>\n",
       "    </tr>\n",
       "    <tr>\n",
       "      <th>20</th>\n",
       "      <td>India</td>\n",
       "      <td>0.82</td>\n",
       "      <td>16.07</td>\n",
       "      <td>5.10</td>\n",
       "    </tr>\n",
       "    <tr>\n",
       "      <th>21</th>\n",
       "      <td>Iraq</td>\n",
       "      <td>0.00</td>\n",
       "      <td>4.44</td>\n",
       "      <td>0.00</td>\n",
       "    </tr>\n",
       "    <tr>\n",
       "      <th>22</th>\n",
       "      <td>Ireland</td>\n",
       "      <td>0.36</td>\n",
       "      <td>5.71</td>\n",
       "      <td>6.30</td>\n",
       "    </tr>\n",
       "    <tr>\n",
       "      <th>23</th>\n",
       "      <td>Israel</td>\n",
       "      <td>0.62</td>\n",
       "      <td>2.17</td>\n",
       "      <td>28.57</td>\n",
       "    </tr>\n",
       "    <tr>\n",
       "      <th>24</th>\n",
       "      <td>Italy</td>\n",
       "      <td>0.90</td>\n",
       "      <td>58.66</td>\n",
       "      <td>1.53</td>\n",
       "    </tr>\n",
       "    <tr>\n",
       "      <th>25</th>\n",
       "      <td>Jamaica</td>\n",
       "      <td>0.05</td>\n",
       "      <td>0.05</td>\n",
       "      <td>100.00</td>\n",
       "    </tr>\n",
       "    <tr>\n",
       "      <th>26</th>\n",
       "      <td>Japan</td>\n",
       "      <td>23.67</td>\n",
       "      <td>192.83</td>\n",
       "      <td>12.28</td>\n",
       "    </tr>\n",
       "    <tr>\n",
       "      <th>27</th>\n",
       "      <td>Kenya</td>\n",
       "      <td>0.04</td>\n",
       "      <td>0.18</td>\n",
       "      <td>22.22</td>\n",
       "    </tr>\n",
       "    <tr>\n",
       "      <th>28</th>\n",
       "      <td>Mauritius</td>\n",
       "      <td>0.01</td>\n",
       "      <td>0.01</td>\n",
       "      <td>100.00</td>\n",
       "    </tr>\n",
       "    <tr>\n",
       "      <th>29</th>\n",
       "      <td>Mexico</td>\n",
       "      <td>0.00</td>\n",
       "      <td>25.16</td>\n",
       "      <td>0.00</td>\n",
       "    </tr>\n",
       "    <tr>\n",
       "      <th>30</th>\n",
       "      <td>Netherlands</td>\n",
       "      <td>0.18</td>\n",
       "      <td>27.17</td>\n",
       "      <td>0.66</td>\n",
       "    </tr>\n",
       "    <tr>\n",
       "      <th>31</th>\n",
       "      <td>Norway</td>\n",
       "      <td>4.42</td>\n",
       "      <td>8.26</td>\n",
       "      <td>53.51</td>\n",
       "    </tr>\n",
       "    <tr>\n",
       "      <th>32</th>\n",
       "      <td>Pakistan</td>\n",
       "      <td>0.13</td>\n",
       "      <td>2.81</td>\n",
       "      <td>4.63</td>\n",
       "    </tr>\n",
       "    <tr>\n",
       "      <th>33</th>\n",
       "      <td>Panama</td>\n",
       "      <td>0.18</td>\n",
       "      <td>0.36</td>\n",
       "      <td>50.00</td>\n",
       "    </tr>\n",
       "    <tr>\n",
       "      <th>34</th>\n",
       "      <td>Peru</td>\n",
       "      <td>0.00</td>\n",
       "      <td>12.88</td>\n",
       "      <td>0.00</td>\n",
       "    </tr>\n",
       "    <tr>\n",
       "      <th>35</th>\n",
       "      <td>Philippines</td>\n",
       "      <td>0.00</td>\n",
       "      <td>13.59</td>\n",
       "      <td>0.00</td>\n",
       "    </tr>\n",
       "    <tr>\n",
       "      <th>36</th>\n",
       "      <td>Poland</td>\n",
       "      <td>5.24</td>\n",
       "      <td>17.03</td>\n",
       "      <td>30.77</td>\n",
       "    </tr>\n",
       "    <tr>\n",
       "      <th>37</th>\n",
       "      <td>Senegal</td>\n",
       "      <td>0.10</td>\n",
       "      <td>0.53</td>\n",
       "      <td>18.87</td>\n",
       "    </tr>\n",
       "    <tr>\n",
       "      <th>38</th>\n",
       "      <td>South Korea</td>\n",
       "      <td>53.30</td>\n",
       "      <td>198.91</td>\n",
       "      <td>26.80</td>\n",
       "    </tr>\n",
       "    <tr>\n",
       "      <th>39</th>\n",
       "      <td>Spain</td>\n",
       "      <td>51.19</td>\n",
       "      <td>219.70</td>\n",
       "      <td>23.30</td>\n",
       "    </tr>\n",
       "    <tr>\n",
       "      <th>40</th>\n",
       "      <td>Sweden</td>\n",
       "      <td>1.10</td>\n",
       "      <td>2.64</td>\n",
       "      <td>41.67</td>\n",
       "    </tr>\n",
       "    <tr>\n",
       "      <th>41</th>\n",
       "      <td>Switzerland</td>\n",
       "      <td>1.57</td>\n",
       "      <td>2.93</td>\n",
       "      <td>53.58</td>\n",
       "    </tr>\n",
       "    <tr>\n",
       "      <th>42</th>\n",
       "      <td>Thailand</td>\n",
       "      <td>0.00</td>\n",
       "      <td>0.70</td>\n",
       "      <td>0.00</td>\n",
       "    </tr>\n",
       "    <tr>\n",
       "      <th>43</th>\n",
       "      <td>Turkey</td>\n",
       "      <td>2.44</td>\n",
       "      <td>2.44</td>\n",
       "      <td>100.00</td>\n",
       "    </tr>\n",
       "    <tr>\n",
       "      <th>44</th>\n",
       "      <td>United Kingdom</td>\n",
       "      <td>65.67</td>\n",
       "      <td>391.55</td>\n",
       "      <td>16.77</td>\n",
       "    </tr>\n",
       "    <tr>\n",
       "      <th>45</th>\n",
       "      <td>United States</td>\n",
       "      <td>9.90</td>\n",
       "      <td>122.89</td>\n",
       "      <td>8.06</td>\n",
       "    </tr>\n",
       "    <tr>\n",
       "      <th>46</th>\n",
       "      <td>Vietnam</td>\n",
       "      <td>0.00</td>\n",
       "      <td>0.00</td>\n",
       "      <td>NaN</td>\n",
       "    </tr>\n",
       "  </tbody>\n",
       "</table>\n",
       "</div>"
      ],
      "text/plain": [
       "               Country  Green recovery spending  Recovery spending  Percent\n",
       "0            Argentina                     0.00               6.82     0.00\n",
       "1            Australia                     2.30             130.95     1.76\n",
       "2              Austria                     0.38               1.60    23.75\n",
       "3           Bangladesh                     0.55               0.63    87.30\n",
       "4               Brazil                     0.28               0.54    51.85\n",
       "5         Burkina Faso                     0.00               0.00      NaN\n",
       "6               Canada                    21.67              38.70    55.99\n",
       "7                Chile                     0.45               3.13    14.38\n",
       "8                China                    51.88             427.52    12.14\n",
       "9             Colombia                     0.15               0.32    46.88\n",
       "10                Cuba                     0.00               0.00      NaN\n",
       "11             Denmark                     8.24              13.29    62.00\n",
       "12  Dominican Republic                     0.00               0.21     0.00\n",
       "13                 EIB                   238.24             315.63    75.48\n",
       "14      European Union                    78.71             793.80     9.92\n",
       "15             Finland                     2.79               4.81    58.00\n",
       "16              France                    40.01             112.52    35.56\n",
       "17             Germany                    47.43             100.22    47.33\n",
       "18               Ghana                     0.00               0.05     0.00\n",
       "19            Honduras                     0.00               0.09     0.00\n",
       "20               India                     0.82              16.07     5.10\n",
       "21                Iraq                     0.00               4.44     0.00\n",
       "22             Ireland                     0.36               5.71     6.30\n",
       "23              Israel                     0.62               2.17    28.57\n",
       "24               Italy                     0.90              58.66     1.53\n",
       "25             Jamaica                     0.05               0.05   100.00\n",
       "26               Japan                    23.67             192.83    12.28\n",
       "27               Kenya                     0.04               0.18    22.22\n",
       "28           Mauritius                     0.01               0.01   100.00\n",
       "29              Mexico                     0.00              25.16     0.00\n",
       "30         Netherlands                     0.18              27.17     0.66\n",
       "31              Norway                     4.42               8.26    53.51\n",
       "32            Pakistan                     0.13               2.81     4.63\n",
       "33              Panama                     0.18               0.36    50.00\n",
       "34                Peru                     0.00              12.88     0.00\n",
       "35         Philippines                     0.00              13.59     0.00\n",
       "36              Poland                     5.24              17.03    30.77\n",
       "37             Senegal                     0.10               0.53    18.87\n",
       "38         South Korea                    53.30             198.91    26.80\n",
       "39               Spain                    51.19             219.70    23.30\n",
       "40              Sweden                     1.10               2.64    41.67\n",
       "41         Switzerland                     1.57               2.93    53.58\n",
       "42            Thailand                     0.00               0.70     0.00\n",
       "43              Turkey                     2.44               2.44   100.00\n",
       "44      United Kingdom                    65.67             391.55    16.77\n",
       "45       United States                     9.90             122.89     8.06\n",
       "46             Vietnam                     0.00               0.00      NaN"
      ]
     },
     "execution_count": 8,
     "metadata": {},
     "output_type": "execute_result"
    }
   ],
   "source": [
    "merge = greenrec.merge(rec, how='left', left_on='Country', right_on='Country')\n",
    "merge['Percent'] = (merge['Total Value, USD (billions)_x'] / merge['Total Value, USD (billions)_y']) * 100\n",
    "merge.rename(columns = {\"Total Value, USD (billions)_x\" : \"Green recovery spending\", \"Total Value, USD (billions)_y\" : \"Recovery spending\"}, inplace=True)\n",
    "merge = merge.round({\"Percent\" : 2})\n",
    "merge"
   ]
  },
  {
   "cell_type": "code",
   "execution_count": 9,
   "metadata": {},
   "outputs": [],
   "source": [
    "nr.loc[nr['Country Code'] == 'KOR']\n",
    "nr.at[152, 'Country Name'] = \"South Korea\""
   ]
  },
  {
   "cell_type": "code",
   "execution_count": 10,
   "metadata": {},
   "outputs": [
    {
     "data": {
      "text/html": [
       "<div>\n",
       "<style scoped>\n",
       "    .dataframe tbody tr th:only-of-type {\n",
       "        vertical-align: middle;\n",
       "    }\n",
       "\n",
       "    .dataframe tbody tr th {\n",
       "        vertical-align: top;\n",
       "    }\n",
       "\n",
       "    .dataframe thead th {\n",
       "        text-align: right;\n",
       "    }\n",
       "</style>\n",
       "<table border=\"1\" class=\"dataframe\">\n",
       "  <thead>\n",
       "    <tr style=\"text-align: right;\">\n",
       "      <th></th>\n",
       "      <th>Country</th>\n",
       "      <th>Green recovery spending</th>\n",
       "      <th>Recovery spending</th>\n",
       "      <th>Percent</th>\n",
       "      <th>Country Name</th>\n",
       "      <th>Country Code</th>\n",
       "      <th>2017</th>\n",
       "      <th>2018</th>\n",
       "      <th>2019</th>\n",
       "    </tr>\n",
       "  </thead>\n",
       "  <tbody>\n",
       "    <tr>\n",
       "      <th>0</th>\n",
       "      <td>Argentina</td>\n",
       "      <td>0.00</td>\n",
       "      <td>6.82</td>\n",
       "      <td>0.00</td>\n",
       "      <td>Argentina</td>\n",
       "      <td>ARG</td>\n",
       "      <td>1.13</td>\n",
       "      <td>2.13</td>\n",
       "      <td>2.07</td>\n",
       "    </tr>\n",
       "    <tr>\n",
       "      <th>1</th>\n",
       "      <td>Australia</td>\n",
       "      <td>2.30</td>\n",
       "      <td>130.95</td>\n",
       "      <td>1.76</td>\n",
       "      <td>Australia</td>\n",
       "      <td>AUS</td>\n",
       "      <td>5.06</td>\n",
       "      <td>5.48</td>\n",
       "      <td>5.36</td>\n",
       "    </tr>\n",
       "    <tr>\n",
       "      <th>2</th>\n",
       "      <td>Austria</td>\n",
       "      <td>0.38</td>\n",
       "      <td>1.60</td>\n",
       "      <td>23.75</td>\n",
       "      <td>Austria</td>\n",
       "      <td>AUT</td>\n",
       "      <td>0.13</td>\n",
       "      <td>0.16</td>\n",
       "      <td>0.13</td>\n",
       "    </tr>\n",
       "    <tr>\n",
       "      <th>3</th>\n",
       "      <td>Bangladesh</td>\n",
       "      <td>0.55</td>\n",
       "      <td>0.63</td>\n",
       "      <td>87.30</td>\n",
       "      <td>Bangladesh</td>\n",
       "      <td>BGD</td>\n",
       "      <td>0.58</td>\n",
       "      <td>0.60</td>\n",
       "      <td>0.45</td>\n",
       "    </tr>\n",
       "    <tr>\n",
       "      <th>4</th>\n",
       "      <td>Brazil</td>\n",
       "      <td>0.28</td>\n",
       "      <td>0.54</td>\n",
       "      <td>51.85</td>\n",
       "      <td>Brazil</td>\n",
       "      <td>BRA</td>\n",
       "      <td>2.86</td>\n",
       "      <td>3.81</td>\n",
       "      <td>3.47</td>\n",
       "    </tr>\n",
       "    <tr>\n",
       "      <th>5</th>\n",
       "      <td>Burkina Faso</td>\n",
       "      <td>0.00</td>\n",
       "      <td>0.00</td>\n",
       "      <td>NaN</td>\n",
       "      <td>Burkina Faso</td>\n",
       "      <td>BFA</td>\n",
       "      <td>12.39</td>\n",
       "      <td>8.46</td>\n",
       "      <td>4.19</td>\n",
       "    </tr>\n",
       "    <tr>\n",
       "      <th>6</th>\n",
       "      <td>Canada</td>\n",
       "      <td>21.67</td>\n",
       "      <td>38.70</td>\n",
       "      <td>55.99</td>\n",
       "      <td>Canada</td>\n",
       "      <td>CAN</td>\n",
       "      <td>1.27</td>\n",
       "      <td>2.12</td>\n",
       "      <td>1.90</td>\n",
       "    </tr>\n",
       "    <tr>\n",
       "      <th>7</th>\n",
       "      <td>Chile</td>\n",
       "      <td>0.45</td>\n",
       "      <td>3.13</td>\n",
       "      <td>14.38</td>\n",
       "      <td>Chile</td>\n",
       "      <td>CHL</td>\n",
       "      <td>5.32</td>\n",
       "      <td>5.79</td>\n",
       "      <td>2.30</td>\n",
       "    </tr>\n",
       "    <tr>\n",
       "      <th>8</th>\n",
       "      <td>China</td>\n",
       "      <td>51.88</td>\n",
       "      <td>427.52</td>\n",
       "      <td>12.14</td>\n",
       "      <td>China</td>\n",
       "      <td>CHN</td>\n",
       "      <td>1.33</td>\n",
       "      <td>1.47</td>\n",
       "      <td>1.26</td>\n",
       "    </tr>\n",
       "    <tr>\n",
       "      <th>9</th>\n",
       "      <td>Colombia</td>\n",
       "      <td>0.15</td>\n",
       "      <td>0.32</td>\n",
       "      <td>46.88</td>\n",
       "      <td>Colombia</td>\n",
       "      <td>COL</td>\n",
       "      <td>3.85</td>\n",
       "      <td>5.02</td>\n",
       "      <td>4.52</td>\n",
       "    </tr>\n",
       "    <tr>\n",
       "      <th>10</th>\n",
       "      <td>Cuba</td>\n",
       "      <td>0.00</td>\n",
       "      <td>0.00</td>\n",
       "      <td>NaN</td>\n",
       "      <td>Cuba</td>\n",
       "      <td>CUB</td>\n",
       "      <td>0.65</td>\n",
       "      <td>1.06</td>\n",
       "      <td>NaN</td>\n",
       "    </tr>\n",
       "    <tr>\n",
       "      <th>11</th>\n",
       "      <td>Denmark</td>\n",
       "      <td>8.24</td>\n",
       "      <td>13.29</td>\n",
       "      <td>62.00</td>\n",
       "      <td>Denmark</td>\n",
       "      <td>DNK</td>\n",
       "      <td>0.51</td>\n",
       "      <td>0.63</td>\n",
       "      <td>0.48</td>\n",
       "    </tr>\n",
       "    <tr>\n",
       "      <th>12</th>\n",
       "      <td>Dominican Republic</td>\n",
       "      <td>0.00</td>\n",
       "      <td>0.21</td>\n",
       "      <td>0.00</td>\n",
       "      <td>Dominican Republic</td>\n",
       "      <td>DOM</td>\n",
       "      <td>1.04</td>\n",
       "      <td>0.87</td>\n",
       "      <td>0.36</td>\n",
       "    </tr>\n",
       "    <tr>\n",
       "      <th>13</th>\n",
       "      <td>EIB</td>\n",
       "      <td>238.24</td>\n",
       "      <td>315.63</td>\n",
       "      <td>75.48</td>\n",
       "      <td>NaN</td>\n",
       "      <td>NaN</td>\n",
       "      <td>NaN</td>\n",
       "      <td>NaN</td>\n",
       "      <td>NaN</td>\n",
       "    </tr>\n",
       "    <tr>\n",
       "      <th>14</th>\n",
       "      <td>European Union</td>\n",
       "      <td>78.71</td>\n",
       "      <td>793.80</td>\n",
       "      <td>9.92</td>\n",
       "      <td>NaN</td>\n",
       "      <td>NaN</td>\n",
       "      <td>NaN</td>\n",
       "      <td>NaN</td>\n",
       "      <td>NaN</td>\n",
       "    </tr>\n",
       "    <tr>\n",
       "      <th>15</th>\n",
       "      <td>Finland</td>\n",
       "      <td>2.79</td>\n",
       "      <td>4.81</td>\n",
       "      <td>58.00</td>\n",
       "      <td>Finland</td>\n",
       "      <td>FIN</td>\n",
       "      <td>0.43</td>\n",
       "      <td>0.53</td>\n",
       "      <td>0.40</td>\n",
       "    </tr>\n",
       "    <tr>\n",
       "      <th>16</th>\n",
       "      <td>France</td>\n",
       "      <td>40.01</td>\n",
       "      <td>112.52</td>\n",
       "      <td>35.56</td>\n",
       "      <td>France</td>\n",
       "      <td>FRA</td>\n",
       "      <td>0.04</td>\n",
       "      <td>0.04</td>\n",
       "      <td>0.04</td>\n",
       "    </tr>\n",
       "    <tr>\n",
       "      <th>17</th>\n",
       "      <td>Germany</td>\n",
       "      <td>47.43</td>\n",
       "      <td>100.22</td>\n",
       "      <td>47.33</td>\n",
       "      <td>Germany</td>\n",
       "      <td>DEU</td>\n",
       "      <td>0.07</td>\n",
       "      <td>0.08</td>\n",
       "      <td>0.10</td>\n",
       "    </tr>\n",
       "    <tr>\n",
       "      <th>18</th>\n",
       "      <td>Ghana</td>\n",
       "      <td>0.00</td>\n",
       "      <td>0.05</td>\n",
       "      <td>0.00</td>\n",
       "      <td>Ghana</td>\n",
       "      <td>GHA</td>\n",
       "      <td>10.99</td>\n",
       "      <td>10.20</td>\n",
       "      <td>7.79</td>\n",
       "    </tr>\n",
       "    <tr>\n",
       "      <th>19</th>\n",
       "      <td>Honduras</td>\n",
       "      <td>0.00</td>\n",
       "      <td>0.09</td>\n",
       "      <td>0.00</td>\n",
       "      <td>Honduras</td>\n",
       "      <td>HND</td>\n",
       "      <td>1.75</td>\n",
       "      <td>1.10</td>\n",
       "      <td>0.94</td>\n",
       "    </tr>\n",
       "    <tr>\n",
       "      <th>20</th>\n",
       "      <td>India</td>\n",
       "      <td>0.82</td>\n",
       "      <td>16.07</td>\n",
       "      <td>5.10</td>\n",
       "      <td>India</td>\n",
       "      <td>IND</td>\n",
       "      <td>1.96</td>\n",
       "      <td>2.23</td>\n",
       "      <td>2.01</td>\n",
       "    </tr>\n",
       "    <tr>\n",
       "      <th>21</th>\n",
       "      <td>Iraq</td>\n",
       "      <td>0.00</td>\n",
       "      <td>4.44</td>\n",
       "      <td>0.00</td>\n",
       "      <td>Iraq</td>\n",
       "      <td>IRQ</td>\n",
       "      <td>36.29</td>\n",
       "      <td>45.03</td>\n",
       "      <td>39.80</td>\n",
       "    </tr>\n",
       "    <tr>\n",
       "      <th>22</th>\n",
       "      <td>Ireland</td>\n",
       "      <td>0.36</td>\n",
       "      <td>5.71</td>\n",
       "      <td>6.30</td>\n",
       "      <td>Ireland</td>\n",
       "      <td>IRL</td>\n",
       "      <td>0.12</td>\n",
       "      <td>0.14</td>\n",
       "      <td>0.02</td>\n",
       "    </tr>\n",
       "    <tr>\n",
       "      <th>23</th>\n",
       "      <td>Israel</td>\n",
       "      <td>0.62</td>\n",
       "      <td>2.17</td>\n",
       "      <td>28.57</td>\n",
       "      <td>Israel</td>\n",
       "      <td>ISR</td>\n",
       "      <td>0.15</td>\n",
       "      <td>0.19</td>\n",
       "      <td>0.09</td>\n",
       "    </tr>\n",
       "    <tr>\n",
       "      <th>24</th>\n",
       "      <td>Italy</td>\n",
       "      <td>0.90</td>\n",
       "      <td>58.66</td>\n",
       "      <td>1.53</td>\n",
       "      <td>Italy</td>\n",
       "      <td>ITA</td>\n",
       "      <td>0.07</td>\n",
       "      <td>0.10</td>\n",
       "      <td>0.09</td>\n",
       "    </tr>\n",
       "    <tr>\n",
       "      <th>25</th>\n",
       "      <td>Jamaica</td>\n",
       "      <td>0.05</td>\n",
       "      <td>0.05</td>\n",
       "      <td>100.00</td>\n",
       "      <td>Jamaica</td>\n",
       "      <td>JAM</td>\n",
       "      <td>1.35</td>\n",
       "      <td>1.46</td>\n",
       "      <td>0.14</td>\n",
       "    </tr>\n",
       "    <tr>\n",
       "      <th>26</th>\n",
       "      <td>Japan</td>\n",
       "      <td>23.67</td>\n",
       "      <td>192.83</td>\n",
       "      <td>12.28</td>\n",
       "      <td>Japan</td>\n",
       "      <td>JPN</td>\n",
       "      <td>0.04</td>\n",
       "      <td>0.04</td>\n",
       "      <td>0.09</td>\n",
       "    </tr>\n",
       "    <tr>\n",
       "      <th>27</th>\n",
       "      <td>Kenya</td>\n",
       "      <td>0.04</td>\n",
       "      <td>0.18</td>\n",
       "      <td>22.22</td>\n",
       "      <td>Kenya</td>\n",
       "      <td>KEN</td>\n",
       "      <td>2.41</td>\n",
       "      <td>1.33</td>\n",
       "      <td>1.05</td>\n",
       "    </tr>\n",
       "    <tr>\n",
       "      <th>28</th>\n",
       "      <td>Mauritius</td>\n",
       "      <td>0.01</td>\n",
       "      <td>0.01</td>\n",
       "      <td>100.00</td>\n",
       "      <td>Mauritius</td>\n",
       "      <td>MUS</td>\n",
       "      <td>0.00</td>\n",
       "      <td>0.00</td>\n",
       "      <td>0.00</td>\n",
       "    </tr>\n",
       "    <tr>\n",
       "      <th>29</th>\n",
       "      <td>Mexico</td>\n",
       "      <td>0.00</td>\n",
       "      <td>25.16</td>\n",
       "      <td>0.00</td>\n",
       "      <td>Mexico</td>\n",
       "      <td>MEX</td>\n",
       "      <td>2.48</td>\n",
       "      <td>2.96</td>\n",
       "      <td>2.20</td>\n",
       "    </tr>\n",
       "    <tr>\n",
       "      <th>30</th>\n",
       "      <td>Netherlands</td>\n",
       "      <td>0.18</td>\n",
       "      <td>27.17</td>\n",
       "      <td>0.66</td>\n",
       "      <td>Netherlands</td>\n",
       "      <td>NLD</td>\n",
       "      <td>0.32</td>\n",
       "      <td>0.37</td>\n",
       "      <td>0.25</td>\n",
       "    </tr>\n",
       "    <tr>\n",
       "      <th>31</th>\n",
       "      <td>Norway</td>\n",
       "      <td>4.42</td>\n",
       "      <td>8.26</td>\n",
       "      <td>53.51</td>\n",
       "      <td>Norway</td>\n",
       "      <td>NOR</td>\n",
       "      <td>5.89</td>\n",
       "      <td>8.10</td>\n",
       "      <td>6.98</td>\n",
       "    </tr>\n",
       "    <tr>\n",
       "      <th>32</th>\n",
       "      <td>Pakistan</td>\n",
       "      <td>0.13</td>\n",
       "      <td>2.81</td>\n",
       "      <td>4.63</td>\n",
       "      <td>Pakistan</td>\n",
       "      <td>PAK</td>\n",
       "      <td>1.00</td>\n",
       "      <td>1.24</td>\n",
       "      <td>1.16</td>\n",
       "    </tr>\n",
       "    <tr>\n",
       "      <th>33</th>\n",
       "      <td>Panama</td>\n",
       "      <td>0.18</td>\n",
       "      <td>0.36</td>\n",
       "      <td>50.00</td>\n",
       "      <td>Panama</td>\n",
       "      <td>PAN</td>\n",
       "      <td>0.12</td>\n",
       "      <td>0.11</td>\n",
       "      <td>0.08</td>\n",
       "    </tr>\n",
       "    <tr>\n",
       "      <th>34</th>\n",
       "      <td>Peru</td>\n",
       "      <td>0.00</td>\n",
       "      <td>12.88</td>\n",
       "      <td>0.00</td>\n",
       "      <td>Peru</td>\n",
       "      <td>PER</td>\n",
       "      <td>5.94</td>\n",
       "      <td>5.94</td>\n",
       "      <td>1.66</td>\n",
       "    </tr>\n",
       "    <tr>\n",
       "      <th>35</th>\n",
       "      <td>Philippines</td>\n",
       "      <td>0.00</td>\n",
       "      <td>13.59</td>\n",
       "      <td>0.00</td>\n",
       "      <td>Philippines</td>\n",
       "      <td>PHL</td>\n",
       "      <td>0.89</td>\n",
       "      <td>0.92</td>\n",
       "      <td>0.68</td>\n",
       "    </tr>\n",
       "    <tr>\n",
       "      <th>36</th>\n",
       "      <td>Poland</td>\n",
       "      <td>5.24</td>\n",
       "      <td>17.03</td>\n",
       "      <td>30.77</td>\n",
       "      <td>Poland</td>\n",
       "      <td>POL</td>\n",
       "      <td>0.84</td>\n",
       "      <td>0.80</td>\n",
       "      <td>0.69</td>\n",
       "    </tr>\n",
       "    <tr>\n",
       "      <th>37</th>\n",
       "      <td>Senegal</td>\n",
       "      <td>0.10</td>\n",
       "      <td>0.53</td>\n",
       "      <td>18.87</td>\n",
       "      <td>Senegal</td>\n",
       "      <td>SEN</td>\n",
       "      <td>3.23</td>\n",
       "      <td>2.77</td>\n",
       "      <td>1.29</td>\n",
       "    </tr>\n",
       "    <tr>\n",
       "      <th>38</th>\n",
       "      <td>South Korea</td>\n",
       "      <td>53.30</td>\n",
       "      <td>198.91</td>\n",
       "      <td>26.80</td>\n",
       "      <td>South Korea</td>\n",
       "      <td>KOR</td>\n",
       "      <td>0.02</td>\n",
       "      <td>0.02</td>\n",
       "      <td>0.10</td>\n",
       "    </tr>\n",
       "    <tr>\n",
       "      <th>39</th>\n",
       "      <td>Spain</td>\n",
       "      <td>51.19</td>\n",
       "      <td>219.70</td>\n",
       "      <td>23.30</td>\n",
       "      <td>Spain</td>\n",
       "      <td>ESP</td>\n",
       "      <td>0.05</td>\n",
       "      <td>0.06</td>\n",
       "      <td>0.05</td>\n",
       "    </tr>\n",
       "    <tr>\n",
       "      <th>40</th>\n",
       "      <td>Sweden</td>\n",
       "      <td>1.10</td>\n",
       "      <td>2.64</td>\n",
       "      <td>41.67</td>\n",
       "      <td>Sweden</td>\n",
       "      <td>SWE</td>\n",
       "      <td>0.36</td>\n",
       "      <td>0.42</td>\n",
       "      <td>0.39</td>\n",
       "    </tr>\n",
       "    <tr>\n",
       "      <th>41</th>\n",
       "      <td>Switzerland</td>\n",
       "      <td>1.57</td>\n",
       "      <td>2.93</td>\n",
       "      <td>53.58</td>\n",
       "      <td>Switzerland</td>\n",
       "      <td>CHE</td>\n",
       "      <td>0.01</td>\n",
       "      <td>0.01</td>\n",
       "      <td>0.01</td>\n",
       "    </tr>\n",
       "    <tr>\n",
       "      <th>42</th>\n",
       "      <td>Thailand</td>\n",
       "      <td>0.00</td>\n",
       "      <td>0.70</td>\n",
       "      <td>0.00</td>\n",
       "      <td>Thailand</td>\n",
       "      <td>THA</td>\n",
       "      <td>1.75</td>\n",
       "      <td>2.16</td>\n",
       "      <td>1.63</td>\n",
       "    </tr>\n",
       "    <tr>\n",
       "      <th>43</th>\n",
       "      <td>Turkey</td>\n",
       "      <td>2.44</td>\n",
       "      <td>2.44</td>\n",
       "      <td>100.00</td>\n",
       "      <td>Turkey</td>\n",
       "      <td>TUR</td>\n",
       "      <td>0.24</td>\n",
       "      <td>0.35</td>\n",
       "      <td>0.31</td>\n",
       "    </tr>\n",
       "    <tr>\n",
       "      <th>44</th>\n",
       "      <td>United Kingdom</td>\n",
       "      <td>65.67</td>\n",
       "      <td>391.55</td>\n",
       "      <td>16.77</td>\n",
       "      <td>United Kingdom</td>\n",
       "      <td>GBR</td>\n",
       "      <td>0.43</td>\n",
       "      <td>0.67</td>\n",
       "      <td>0.59</td>\n",
       "    </tr>\n",
       "    <tr>\n",
       "      <th>45</th>\n",
       "      <td>United States</td>\n",
       "      <td>9.90</td>\n",
       "      <td>122.89</td>\n",
       "      <td>8.06</td>\n",
       "      <td>United States</td>\n",
       "      <td>USA</td>\n",
       "      <td>0.44</td>\n",
       "      <td>0.67</td>\n",
       "      <td>0.57</td>\n",
       "    </tr>\n",
       "    <tr>\n",
       "      <th>46</th>\n",
       "      <td>Vietnam</td>\n",
       "      <td>0.00</td>\n",
       "      <td>0.00</td>\n",
       "      <td>NaN</td>\n",
       "      <td>Vietnam</td>\n",
       "      <td>VNM</td>\n",
       "      <td>4.08</td>\n",
       "      <td>4.55</td>\n",
       "      <td>3.37</td>\n",
       "    </tr>\n",
       "  </tbody>\n",
       "</table>\n",
       "</div>"
      ],
      "text/plain": [
       "               Country  Green recovery spending  Recovery spending  Percent  \\\n",
       "0            Argentina                     0.00               6.82     0.00   \n",
       "1            Australia                     2.30             130.95     1.76   \n",
       "2              Austria                     0.38               1.60    23.75   \n",
       "3           Bangladesh                     0.55               0.63    87.30   \n",
       "4               Brazil                     0.28               0.54    51.85   \n",
       "5         Burkina Faso                     0.00               0.00      NaN   \n",
       "6               Canada                    21.67              38.70    55.99   \n",
       "7                Chile                     0.45               3.13    14.38   \n",
       "8                China                    51.88             427.52    12.14   \n",
       "9             Colombia                     0.15               0.32    46.88   \n",
       "10                Cuba                     0.00               0.00      NaN   \n",
       "11             Denmark                     8.24              13.29    62.00   \n",
       "12  Dominican Republic                     0.00               0.21     0.00   \n",
       "13                 EIB                   238.24             315.63    75.48   \n",
       "14      European Union                    78.71             793.80     9.92   \n",
       "15             Finland                     2.79               4.81    58.00   \n",
       "16              France                    40.01             112.52    35.56   \n",
       "17             Germany                    47.43             100.22    47.33   \n",
       "18               Ghana                     0.00               0.05     0.00   \n",
       "19            Honduras                     0.00               0.09     0.00   \n",
       "20               India                     0.82              16.07     5.10   \n",
       "21                Iraq                     0.00               4.44     0.00   \n",
       "22             Ireland                     0.36               5.71     6.30   \n",
       "23              Israel                     0.62               2.17    28.57   \n",
       "24               Italy                     0.90              58.66     1.53   \n",
       "25             Jamaica                     0.05               0.05   100.00   \n",
       "26               Japan                    23.67             192.83    12.28   \n",
       "27               Kenya                     0.04               0.18    22.22   \n",
       "28           Mauritius                     0.01               0.01   100.00   \n",
       "29              Mexico                     0.00              25.16     0.00   \n",
       "30         Netherlands                     0.18              27.17     0.66   \n",
       "31              Norway                     4.42               8.26    53.51   \n",
       "32            Pakistan                     0.13               2.81     4.63   \n",
       "33              Panama                     0.18               0.36    50.00   \n",
       "34                Peru                     0.00              12.88     0.00   \n",
       "35         Philippines                     0.00              13.59     0.00   \n",
       "36              Poland                     5.24              17.03    30.77   \n",
       "37             Senegal                     0.10               0.53    18.87   \n",
       "38         South Korea                    53.30             198.91    26.80   \n",
       "39               Spain                    51.19             219.70    23.30   \n",
       "40              Sweden                     1.10               2.64    41.67   \n",
       "41         Switzerland                     1.57               2.93    53.58   \n",
       "42            Thailand                     0.00               0.70     0.00   \n",
       "43              Turkey                     2.44               2.44   100.00   \n",
       "44      United Kingdom                    65.67             391.55    16.77   \n",
       "45       United States                     9.90             122.89     8.06   \n",
       "46             Vietnam                     0.00               0.00      NaN   \n",
       "\n",
       "          Country Name Country Code   2017   2018   2019  \n",
       "0            Argentina          ARG   1.13   2.13   2.07  \n",
       "1            Australia          AUS   5.06   5.48   5.36  \n",
       "2              Austria          AUT   0.13   0.16   0.13  \n",
       "3           Bangladesh          BGD   0.58   0.60   0.45  \n",
       "4               Brazil          BRA   2.86   3.81   3.47  \n",
       "5         Burkina Faso          BFA  12.39   8.46   4.19  \n",
       "6               Canada          CAN   1.27   2.12   1.90  \n",
       "7                Chile          CHL   5.32   5.79   2.30  \n",
       "8                China          CHN   1.33   1.47   1.26  \n",
       "9             Colombia          COL   3.85   5.02   4.52  \n",
       "10                Cuba          CUB   0.65   1.06    NaN  \n",
       "11             Denmark          DNK   0.51   0.63   0.48  \n",
       "12  Dominican Republic          DOM   1.04   0.87   0.36  \n",
       "13                 NaN          NaN    NaN    NaN    NaN  \n",
       "14                 NaN          NaN    NaN    NaN    NaN  \n",
       "15             Finland          FIN   0.43   0.53   0.40  \n",
       "16              France          FRA   0.04   0.04   0.04  \n",
       "17             Germany          DEU   0.07   0.08   0.10  \n",
       "18               Ghana          GHA  10.99  10.20   7.79  \n",
       "19            Honduras          HND   1.75   1.10   0.94  \n",
       "20               India          IND   1.96   2.23   2.01  \n",
       "21                Iraq          IRQ  36.29  45.03  39.80  \n",
       "22             Ireland          IRL   0.12   0.14   0.02  \n",
       "23              Israel          ISR   0.15   0.19   0.09  \n",
       "24               Italy          ITA   0.07   0.10   0.09  \n",
       "25             Jamaica          JAM   1.35   1.46   0.14  \n",
       "26               Japan          JPN   0.04   0.04   0.09  \n",
       "27               Kenya          KEN   2.41   1.33   1.05  \n",
       "28           Mauritius          MUS   0.00   0.00   0.00  \n",
       "29              Mexico          MEX   2.48   2.96   2.20  \n",
       "30         Netherlands          NLD   0.32   0.37   0.25  \n",
       "31              Norway          NOR   5.89   8.10   6.98  \n",
       "32            Pakistan          PAK   1.00   1.24   1.16  \n",
       "33              Panama          PAN   0.12   0.11   0.08  \n",
       "34                Peru          PER   5.94   5.94   1.66  \n",
       "35         Philippines          PHL   0.89   0.92   0.68  \n",
       "36              Poland          POL   0.84   0.80   0.69  \n",
       "37             Senegal          SEN   3.23   2.77   1.29  \n",
       "38         South Korea          KOR   0.02   0.02   0.10  \n",
       "39               Spain          ESP   0.05   0.06   0.05  \n",
       "40              Sweden          SWE   0.36   0.42   0.39  \n",
       "41         Switzerland          CHE   0.01   0.01   0.01  \n",
       "42            Thailand          THA   1.75   2.16   1.63  \n",
       "43              Turkey          TUR   0.24   0.35   0.31  \n",
       "44      United Kingdom          GBR   0.43   0.67   0.59  \n",
       "45       United States          USA   0.44   0.67   0.57  \n",
       "46             Vietnam          VNM   4.08   4.55   3.37  "
      ]
     },
     "execution_count": 10,
     "metadata": {},
     "output_type": "execute_result"
    }
   ],
   "source": [
    "GROmerge = merge.merge(nr, how='left', left_on='Country', right_on='Country Name')\n",
    "GROmerge"
   ]
  },
  {
   "cell_type": "code",
   "execution_count": 11,
   "metadata": {},
   "outputs": [
    {
     "data": {
      "text/plain": [
       "array([[<AxesSubplot:xlabel='Green recovery spending', ylabel='Green recovery spending'>,\n",
       "        <AxesSubplot:xlabel='Recovery spending', ylabel='Green recovery spending'>,\n",
       "        <AxesSubplot:xlabel='Percent', ylabel='Green recovery spending'>,\n",
       "        <AxesSubplot:xlabel='2017', ylabel='Green recovery spending'>,\n",
       "        <AxesSubplot:xlabel='2018', ylabel='Green recovery spending'>,\n",
       "        <AxesSubplot:xlabel='2019', ylabel='Green recovery spending'>],\n",
       "       [<AxesSubplot:xlabel='Green recovery spending', ylabel='Recovery spending'>,\n",
       "        <AxesSubplot:xlabel='Recovery spending', ylabel='Recovery spending'>,\n",
       "        <AxesSubplot:xlabel='Percent', ylabel='Recovery spending'>,\n",
       "        <AxesSubplot:xlabel='2017', ylabel='Recovery spending'>,\n",
       "        <AxesSubplot:xlabel='2018', ylabel='Recovery spending'>,\n",
       "        <AxesSubplot:xlabel='2019', ylabel='Recovery spending'>],\n",
       "       [<AxesSubplot:xlabel='Green recovery spending', ylabel='Percent'>,\n",
       "        <AxesSubplot:xlabel='Recovery spending', ylabel='Percent'>,\n",
       "        <AxesSubplot:xlabel='Percent', ylabel='Percent'>,\n",
       "        <AxesSubplot:xlabel='2017', ylabel='Percent'>,\n",
       "        <AxesSubplot:xlabel='2018', ylabel='Percent'>,\n",
       "        <AxesSubplot:xlabel='2019', ylabel='Percent'>],\n",
       "       [<AxesSubplot:xlabel='Green recovery spending', ylabel='2017'>,\n",
       "        <AxesSubplot:xlabel='Recovery spending', ylabel='2017'>,\n",
       "        <AxesSubplot:xlabel='Percent', ylabel='2017'>,\n",
       "        <AxesSubplot:xlabel='2017', ylabel='2017'>,\n",
       "        <AxesSubplot:xlabel='2018', ylabel='2017'>,\n",
       "        <AxesSubplot:xlabel='2019', ylabel='2017'>],\n",
       "       [<AxesSubplot:xlabel='Green recovery spending', ylabel='2018'>,\n",
       "        <AxesSubplot:xlabel='Recovery spending', ylabel='2018'>,\n",
       "        <AxesSubplot:xlabel='Percent', ylabel='2018'>,\n",
       "        <AxesSubplot:xlabel='2017', ylabel='2018'>,\n",
       "        <AxesSubplot:xlabel='2018', ylabel='2018'>,\n",
       "        <AxesSubplot:xlabel='2019', ylabel='2018'>],\n",
       "       [<AxesSubplot:xlabel='Green recovery spending', ylabel='2019'>,\n",
       "        <AxesSubplot:xlabel='Recovery spending', ylabel='2019'>,\n",
       "        <AxesSubplot:xlabel='Percent', ylabel='2019'>,\n",
       "        <AxesSubplot:xlabel='2017', ylabel='2019'>,\n",
       "        <AxesSubplot:xlabel='2018', ylabel='2019'>,\n",
       "        <AxesSubplot:xlabel='2019', ylabel='2019'>]], dtype=object)"
      ]
     },
     "execution_count": 11,
     "metadata": {},
     "output_type": "execute_result"
    },
    {
     "data": {
      "image/png": "[encoded data removed]",
      "text/plain": [
       "<Figure size 1080x1080 with 36 Axes>"
      ]
     },
     "metadata": {
      "needs_background": "light"
     },
     "output_type": "display_data"
    }
   ],
   "source": [
    "from pandas.plotting import scatter_matrix\n",
    "scatter_matrix(GROmerge, alpha=0.5, diagonal='kde', figsize=(15,15))"
   ]
  },
  {
   "cell_type": "code",
   "execution_count": 12,
   "metadata": {},
   "outputs": [
    {
     "data": {
      "text/html": [
       "<div>\n",
       "<style scoped>\n",
       "    .dataframe tbody tr th:only-of-type {\n",
       "        vertical-align: middle;\n",
       "    }\n",
       "\n",
       "    .dataframe tbody tr th {\n",
       "        vertical-align: top;\n",
       "    }\n",
       "\n",
       "    .dataframe thead th {\n",
       "        text-align: right;\n",
       "    }\n",
       "</style>\n",
       "<table border=\"1\" class=\"dataframe\">\n",
       "  <thead>\n",
       "    <tr style=\"text-align: right;\">\n",
       "      <th></th>\n",
       "      <th>Green recovery spending</th>\n",
       "      <th>Recovery spending</th>\n",
       "      <th>Percent</th>\n",
       "      <th>2017</th>\n",
       "      <th>2018</th>\n",
       "      <th>2019</th>\n",
       "    </tr>\n",
       "  </thead>\n",
       "  <tbody>\n",
       "    <tr>\n",
       "      <th>Green recovery spending</th>\n",
       "      <td>1.000000</td>\n",
       "      <td>0.651449</td>\n",
       "      <td>0.172324</td>\n",
       "      <td>-0.189963</td>\n",
       "      <td>-0.169291</td>\n",
       "      <td>-0.146128</td>\n",
       "    </tr>\n",
       "    <tr>\n",
       "      <th>Recovery spending</th>\n",
       "      <td>0.651449</td>\n",
       "      <td>1.000000</td>\n",
       "      <td>-0.121912</td>\n",
       "      <td>-0.151857</td>\n",
       "      <td>-0.135635</td>\n",
       "      <td>-0.112388</td>\n",
       "    </tr>\n",
       "    <tr>\n",
       "      <th>Percent</th>\n",
       "      <td>0.172324</td>\n",
       "      <td>-0.121912</td>\n",
       "      <td>1.000000</td>\n",
       "      <td>-0.230725</td>\n",
       "      <td>-0.205458</td>\n",
       "      <td>-0.191352</td>\n",
       "    </tr>\n",
       "    <tr>\n",
       "      <th>2017</th>\n",
       "      <td>-0.189963</td>\n",
       "      <td>-0.151857</td>\n",
       "      <td>-0.230725</td>\n",
       "      <td>1.000000</td>\n",
       "      <td>0.986118</td>\n",
       "      <td>0.960796</td>\n",
       "    </tr>\n",
       "    <tr>\n",
       "      <th>2018</th>\n",
       "      <td>-0.169291</td>\n",
       "      <td>-0.135635</td>\n",
       "      <td>-0.205458</td>\n",
       "      <td>0.986118</td>\n",
       "      <td>1.000000</td>\n",
       "      <td>0.990111</td>\n",
       "    </tr>\n",
       "    <tr>\n",
       "      <th>2019</th>\n",
       "      <td>-0.146128</td>\n",
       "      <td>-0.112388</td>\n",
       "      <td>-0.191352</td>\n",
       "      <td>0.960796</td>\n",
       "      <td>0.990111</td>\n",
       "      <td>1.000000</td>\n",
       "    </tr>\n",
       "  </tbody>\n",
       "</table>\n",
       "</div>"
      ],
      "text/plain": [
       "                         Green recovery spending  Recovery spending   Percent  \\\n",
       "Green recovery spending                 1.000000           0.651449  0.172324   \n",
       "Recovery spending                       0.651449           1.000000 -0.121912   \n",
       "Percent                                 0.172324          -0.121912  1.000000   \n",
       "2017                                   -0.189963          -0.151857 -0.230725   \n",
       "2018                                   -0.169291          -0.135635 -0.205458   \n",
       "2019                                   -0.146128          -0.112388 -0.191352   \n",
       "\n",
       "                             2017      2018      2019  \n",
       "Green recovery spending -0.189963 -0.169291 -0.146128  \n",
       "Recovery spending       -0.151857 -0.135635 -0.112388  \n",
       "Percent                 -0.230725 -0.205458 -0.191352  \n",
       "2017                     1.000000  0.986118  0.960796  \n",
       "2018                     0.986118  1.000000  0.990111  \n",
       "2019                     0.960796  0.990111  1.000000  "
      ]
     },
     "execution_count": 12,
     "metadata": {},
     "output_type": "execute_result"
    }
   ],
   "source": [
    "corr = GROmerge.corr(method='pearson')\n",
    "corr"
   ]
  },
  {
   "cell_type": "code",
   "execution_count": 13,
   "metadata": {},
   "outputs": [
    {
     "data": {
      "text/plain": [
       "<AxesSubplot:>"
      ]
     },
     "execution_count": 13,
     "metadata": {},
     "output_type": "execute_result"
    },
    {
     "data": {
      "image/png": "[encoded data removed]",
      "text/plain": [
       "<Figure size 432x288 with 2 Axes>"
      ]
     },
     "metadata": {
      "needs_background": "light"
     },
     "output_type": "display_data"
    }
   ],
   "source": [
    "sns.heatmap(corr, xticklabels=corr.columns, yticklabels=corr.columns, annot=True)"
   ]
  },
  {
   "cell_type": "code",
   "execution_count": 16,
   "metadata": {},
   "outputs": [
    {
     "data": {
      "application/vnd.plotly.v1+json": {
       "config": {
        "plotlyServerURL": "https://plot.ly"
       },
       "data": [
        {
         "marker": {
          "line": {
           "color": "black",
           "width": 1
          },
          "size": [
           0,
           2.3,
           0.38,
           0.5499999999999999,
           0.28,
           0,
           21.669999999999998,
           0.45,
           51.88,
           0.15,
           0,
           8.24,
           0,
           238.24,
           78.71,
           2.79,
           40.01,
           47.43,
           0,
           0,
           0.82,
           0,
           0.36,
           0.62,
           0.9,
           0.05,
           23.669999999999998,
           0.04,
           0.01,
           0,
           0.18,
           4.42,
           0.13,
           0.18,
           0,
           0,
           5.24,
           0.1,
           53.300000000000004,
           51.190000000000005,
           1.1,
           1.57,
           0,
           2.44,
           65.67,
           9.899999999999999,
           0
          ],
          "sizemode": "area",
          "sizeref": 0.05956
         },
         "mode": "markers",
         "text": [
          "Country: Argentina<br>Green recovery spending as % of recovery spending: 0.0<br>Natural resource rents as % of GDP: 2.07<br>Green recovery spending (USD billions): 0.0<br>",
          "Country: Australia<br>Green recovery spending as % of recovery spending: 1.76<br>Natural resource rents as % of GDP: 5.36<br>Green recovery spending (USD billions): 2.3<br>",
          "Country: Austria<br>Green recovery spending as % of recovery spending: 23.75<br>Natural resource rents as % of GDP: 0.13<br>Green recovery spending (USD billions): 0.38<br>",
          "Country: Bangladesh<br>Green recovery spending as % of recovery spending: 87.3<br>Natural resource rents as % of GDP: 0.45<br>Green recovery spending (USD billions): 0.5499999999999999<br>",
          "Country: Brazil<br>Green recovery spending as % of recovery spending: 51.85<br>Natural resource rents as % of GDP: 3.47<br>Green recovery spending (USD billions): 0.28<br>",
          "Country: Burkina Faso<br>Green recovery spending as % of recovery spending: nan<br>Natural resource rents as % of GDP: 4.19<br>Green recovery spending (USD billions): 0.0<br>",
          "Country: Canada<br>Green recovery spending as % of recovery spending: 55.99<br>Natural resource rents as % of GDP: 1.9<br>Green recovery spending (USD billions): 21.669999999999998<br>",
          "Country: Chile<br>Green recovery spending as % of recovery spending: 14.38<br>Natural resource rents as % of GDP: 2.3<br>Green recovery spending (USD billions): 0.45<br>",
          "Country: China<br>Green recovery spending as % of recovery spending: 12.14<br>Natural resource rents as % of GDP: 1.26<br>Green recovery spending (USD billions): 51.88<br>",
          "Country: Colombia<br>Green recovery spending as % of recovery spending: 46.88<br>Natural resource rents as % of GDP: 4.52<br>Green recovery spending (USD billions): 0.15<br>",
          "Country: Cuba<br>Green recovery spending as % of recovery spending: nan<br>Natural resource rents as % of GDP: nan<br>Green recovery spending (USD billions): 0.0<br>",
          "Country: Denmark<br>Green recovery spending as % of recovery spending: 62.0<br>Natural resource rents as % of GDP: 0.48<br>Green recovery spending (USD billions): 8.24<br>",
          "Country: Dominican Republic<br>Green recovery spending as % of recovery spending: 0.0<br>Natural resource rents as % of GDP: 0.36<br>Green recovery spending (USD billions): 0.0<br>",
          "Country: EIB<br>Green recovery spending as % of recovery spending: 75.48<br>Natural resource rents as % of GDP: nan<br>Green recovery spending (USD billions): 238.24<br>",
          "Country: European Union<br>Green recovery spending as % of recovery spending: 9.92<br>Natural resource rents as % of GDP: nan<br>Green recovery spending (USD billions): 78.71<br>",
          "Country: Finland<br>Green recovery spending as % of recovery spending: 58.0<br>Natural resource rents as % of GDP: 0.4<br>Green recovery spending (USD billions): 2.79<br>",
          "Country: France<br>Green recovery spending as % of recovery spending: 35.56<br>Natural resource rents as % of GDP: 0.04<br>Green recovery spending (USD billions): 40.01<br>",
          "Country: Germany<br>Green recovery spending as % of recovery spending: 47.33<br>Natural resource rents as % of GDP: 0.1<br>Green recovery spending (USD billions): 47.43<br>",
          "Country: Ghana<br>Green recovery spending as % of recovery spending: 0.0<br>Natural resource rents as % of GDP: 7.79<br>Green recovery spending (USD billions): 0.0<br>",
          "Country: Honduras<br>Green recovery spending as % of recovery spending: 0.0<br>Natural resource rents as % of GDP: 0.94<br>Green recovery spending (USD billions): 0.0<br>",
          "Country: India<br>Green recovery spending as % of recovery spending: 5.1<br>Natural resource rents as % of GDP: 2.01<br>Green recovery spending (USD billions): 0.82<br>",
          "Country: Iraq<br>Green recovery spending as % of recovery spending: 0.0<br>Natural resource rents as % of GDP: 39.8<br>Green recovery spending (USD billions): 0.0<br>",
          "Country: Ireland<br>Green recovery spending as % of recovery spending: 6.3<br>Natural resource rents as % of GDP: 0.02<br>Green recovery spending (USD billions): 0.36<br>",
          "Country: Israel<br>Green recovery spending as % of recovery spending: 28.57<br>Natural resource rents as % of GDP: 0.09<br>Green recovery spending (USD billions): 0.62<br>",
          "Country: Italy<br>Green recovery spending as % of recovery spending: 1.53<br>Natural resource rents as % of GDP: 0.09<br>Green recovery spending (USD billions): 0.9<br>",
          "Country: Jamaica<br>Green recovery spending as % of recovery spending: 100.0<br>Natural resource rents as % of GDP: 0.14<br>Green recovery spending (USD billions): 0.05<br>",
          "Country: Japan<br>Green recovery spending as % of recovery spending: 12.28<br>Natural resource rents as % of GDP: 0.09<br>Green recovery spending (USD billions): 23.669999999999998<br>",
          "Country: Kenya<br>Green recovery spending as % of recovery spending: 22.22<br>Natural resource rents as % of GDP: 1.05<br>Green recovery spending (USD billions): 0.04<br>",
          "Country: Mauritius<br>Green recovery spending as % of recovery spending: 100.0<br>Natural resource rents as % of GDP: 0.0<br>Green recovery spending (USD billions): 0.01<br>",
          "Country: Mexico<br>Green recovery spending as % of recovery spending: 0.0<br>Natural resource rents as % of GDP: 2.2<br>Green recovery spending (USD billions): 0.0<br>",
          "Country: Netherlands<br>Green recovery spending as % of recovery spending: 0.66<br>Natural resource rents as % of GDP: 0.25<br>Green recovery spending (USD billions): 0.18<br>",
          "Country: Norway<br>Green recovery spending as % of recovery spending: 53.51<br>Natural resource rents as % of GDP: 6.98<br>Green recovery spending (USD billions): 4.42<br>",
          "Country: Pakistan<br>Green recovery spending as % of recovery spending: 4.63<br>Natural resource rents as % of GDP: 1.16<br>Green recovery spending (USD billions): 0.13<br>",
          "Country: Panama<br>Green recovery spending as % of recovery spending: 50.0<br>Natural resource rents as % of GDP: 0.08<br>Green recovery spending (USD billions): 0.18<br>",
          "Country: Peru<br>Green recovery spending as % of recovery spending: 0.0<br>Natural resource rents as % of GDP: 1.66<br>Green recovery spending (USD billions): 0.0<br>",
          "Country: Philippines<br>Green recovery spending as % of recovery spending: 0.0<br>Natural resource rents as % of GDP: 0.68<br>Green recovery spending (USD billions): 0.0<br>",
          "Country: Poland<br>Green recovery spending as % of recovery spending: 30.77<br>Natural resource rents as % of GDP: 0.69<br>Green recovery spending (USD billions): 5.24<br>",
          "Country: Senegal<br>Green recovery spending as % of recovery spending: 18.87<br>Natural resource rents as % of GDP: 1.29<br>Green recovery spending (USD billions): 0.1<br>",
          "Country: South Korea<br>Green recovery spending as % of recovery spending: 26.8<br>Natural resource rents as % of GDP: 0.1<br>Green recovery spending (USD billions): 53.300000000000004<br>",
          "Country: Spain<br>Green recovery spending as % of recovery spending: 23.3<br>Natural resource rents as % of GDP: 0.05<br>Green recovery spending (USD billions): 51.190000000000005<br>",
          "Country: Sweden<br>Green recovery spending as % of recovery spending: 41.67<br>Natural resource rents as % of GDP: 0.39<br>Green recovery spending (USD billions): 1.1<br>",
          "Country: Switzerland<br>Green recovery spending as % of recovery spending: 53.58<br>Natural resource rents as % of GDP: 0.01<br>Green recovery spending (USD billions): 1.57<br>",
          "Country: Thailand<br>Green recovery spending as % of recovery spending: 0.0<br>Natural resource rents as % of GDP: 1.63<br>Green recovery spending (USD billions): 0.0<br>",
          "Country: Turkey<br>Green recovery spending as % of recovery spending: 100.0<br>Natural resource rents as % of GDP: 0.31<br>Green recovery spending (USD billions): 2.44<br>",
          "Country: United Kingdom<br>Green recovery spending as % of recovery spending: 16.77<br>Natural resource rents as % of GDP: 0.59<br>Green recovery spending (USD billions): 65.67<br>",
          "Country: United States<br>Green recovery spending as % of recovery spending: 8.06<br>Natural resource rents as % of GDP: 0.57<br>Green recovery spending (USD billions): 9.899999999999999<br>",
          "Country: Vietnam<br>Green recovery spending as % of recovery spending: nan<br>Natural resource rents as % of GDP: 3.37<br>Green recovery spending (USD billions): 0.0<br>"
         ],
         "type": "scatter",
         "x": [
          0,
          1.76,
          23.75,
          87.3,
          51.85,
          null,
          55.99,
          14.38,
          12.14,
          46.88,
          null,
          62,
          0,
          75.48,
          9.92,
          58,
          35.56,
          47.33,
          0,
          0,
          5.1,
          0,
          6.3,
          28.57,
          1.53,
          100,
          12.28,
          22.22,
          100,
          0,
          0.66,
          53.51,
          4.63,
          50,
          0,
          0,
          30.77,
          18.87,
          26.8,
          23.3,
          41.67,
          53.58,
          0,
          100,
          16.77,
          8.06,
          null
         ],
         "y": [
          2.07,
          5.36,
          0.13,
          0.45,
          3.47,
          4.19,
          1.9,
          2.3,
          1.26,
          4.52,
          null,
          0.48,
          0.36,
          null,
          null,
          0.4,
          0.04,
          0.1,
          7.79,
          0.94,
          2.01,
          39.8,
          0.02,
          0.09,
          0.09,
          0.14,
          0.09,
          1.05,
          0,
          2.2,
          0.25,
          6.98,
          1.16,
          0.08,
          1.66,
          0.68,
          0.69,
          1.29,
          0.1,
          0.05,
          0.39,
          0.01,
          1.63,
          0.31,
          0.59,
          0.57,
          3.37
         ]
        }
       ],
       "layout": {
        "paper_bgcolor": "rgb(243, 243, 243)",
        "plot_bgcolor": "rgb(243, 243, 243)",
        "template": {
         "data": {
          "bar": [
           {
            "error_x": {
             "color": "#2a3f5f"
            },
            "error_y": {
             "color": "#2a3f5f"
            },
            "marker": {
             "line": {
              "color": "#E5ECF6",
              "width": 0.5
             },
             "pattern": {
              "fillmode": "overlay",
              "size": 10,
              "solidity": 0.2
             }
            },
            "type": "bar"
           }
          ],
          "barpolar": [
           {
            "marker": {
             "line": {
              "color": "#E5ECF6",
              "width": 0.5
             },
             "pattern": {
              "fillmode": "overlay",
              "size": 10,
              "solidity": 0.2
             }
            },
            "type": "barpolar"
           }
          ],
          "carpet": [
           {
            "aaxis": {
             "endlinecolor": "#2a3f5f",
             "gridcolor": "white",
             "linecolor": "white",
             "minorgridcolor": "white",
             "startlinecolor": "#2a3f5f"
            },
            "baxis": {
             "endlinecolor": "#2a3f5f",
             "gridcolor": "white",
             "linecolor": "white",
             "minorgridcolor": "white",
             "startlinecolor": "#2a3f5f"
            },
            "type": "carpet"
           }
          ],
          "choropleth": [
           {
            "colorbar": {
             "outlinewidth": 0,
             "ticks": ""
            },
            "type": "choropleth"
           }
          ],
          "contour": [
           {
            "colorbar": {
             "outlinewidth": 0,
             "ticks": ""
            },
            "colorscale": [
             [
              0,
              "#0d0887"
             ],
             [
              0.1111111111111111,
              "#46039f"
             ],
             [
              0.2222222222222222,
              "#7201a8"
             ],
             [
              0.3333333333333333,
              "#9c179e"
             ],
             [
              0.4444444444444444,
              "#bd3786"
             ],
             [
              0.5555555555555556,
              "#d8576b"
             ],
             [
              0.6666666666666666,
              "#ed7953"
             ],
             [
              0.7777777777777778,
              "#fb9f3a"
             ],
             [
              0.8888888888888888,
              "#fdca26"
             ],
             [
              1,
              "#f0f921"
             ]
            ],
            "type": "contour"
           }
          ],
          "contourcarpet": [
           {
            "colorbar": {
             "outlinewidth": 0,
             "ticks": ""
            },
            "type": "contourcarpet"
           }
          ],
          "heatmap": [
           {
            "colorbar": {
             "outlinewidth": 0,
             "ticks": ""
            },
            "colorscale": [
             [
              0,
              "#0d0887"
             ],
             [
              0.1111111111111111,
              "#46039f"
             ],
             [
              0.2222222222222222,
              "#7201a8"
             ],
             [
              0.3333333333333333,
              "#9c179e"
             ],
             [
              0.4444444444444444,
              "#bd3786"
             ],
             [
              0.5555555555555556,
              "#d8576b"
             ],
             [
              0.6666666666666666,
              "#ed7953"
             ],
             [
              0.7777777777777778,
              "#fb9f3a"
             ],
             [
              0.8888888888888888,
              "#fdca26"
             ],
             [
              1,
              "#f0f921"
             ]
            ],
            "type": "heatmap"
           }
          ],
          "heatmapgl": [
           {
            "colorbar": {
             "outlinewidth": 0,
             "ticks": ""
            },
            "colorscale": [
             [
              0,
              "#0d0887"
             ],
             [
              0.1111111111111111,
              "#46039f"
             ],
             [
              0.2222222222222222,
              "#7201a8"
             ],
             [
              0.3333333333333333,
              "#9c179e"
             ],
             [
              0.4444444444444444,
              "#bd3786"
             ],
             [
              0.5555555555555556,
              "#d8576b"
             ],
             [
              0.6666666666666666,
              "#ed7953"
             ],
             [
              0.7777777777777778,
              "#fb9f3a"
             ],
             [
              0.8888888888888888,
              "#fdca26"
             ],
             [
              1,
              "#f0f921"
             ]
            ],
            "type": "heatmapgl"
           }
          ],
          "histogram": [
           {
            "marker": {
             "pattern": {
              "fillmode": "overlay",
              "size": 10,
              "solidity": 0.2
             }
            },
            "type": "histogram"
           }
          ],
          "histogram2d": [
           {
            "colorbar": {
             "outlinewidth": 0,
             "ticks": ""
            },
            "colorscale": [
             [
              0,
              "#0d0887"
             ],
             [
              0.1111111111111111,
              "#46039f"
             ],
             [
              0.2222222222222222,
              "#7201a8"
             ],
             [
              0.3333333333333333,
              "#9c179e"
             ],
             [
              0.4444444444444444,
              "#bd3786"
             ],
             [
              0.5555555555555556,
              "#d8576b"
             ],
             [
              0.6666666666666666,
              "#ed7953"
             ],
             [
              0.7777777777777778,
              "#fb9f3a"
             ],
             [
              0.8888888888888888,
              "#fdca26"
             ],
             [
              1,
              "#f0f921"
             ]
            ],
            "type": "histogram2d"
           }
          ],
          "histogram2dcontour": [
           {
            "colorbar": {
             "outlinewidth": 0,
             "ticks": ""
            },
            "colorscale": [
             [
              0,
              "#0d0887"
             ],
             [
              0.1111111111111111,
              "#46039f"
             ],
             [
              0.2222222222222222,
              "#7201a8"
             ],
             [
              0.3333333333333333,
              "#9c179e"
             ],
             [
              0.4444444444444444,
              "#bd3786"
             ],
             [
              0.5555555555555556,
              "#d8576b"
             ],
             [
              0.6666666666666666,
              "#ed7953"
             ],
             [
              0.7777777777777778,
              "#fb9f3a"
             ],
             [
              0.8888888888888888,
              "#fdca26"
             ],
             [
              1,
              "#f0f921"
             ]
            ],
            "type": "histogram2dcontour"
           }
          ],
          "mesh3d": [
           {
            "colorbar": {
             "outlinewidth": 0,
             "ticks": ""
            },
            "type": "mesh3d"
           }
          ],
          "parcoords": [
           {
            "line": {
             "colorbar": {
              "outlinewidth": 0,
              "ticks": ""
             }
            },
            "type": "parcoords"
           }
          ],
          "pie": [
           {
            "automargin": true,
            "type": "pie"
           }
          ],
          "scatter": [
           {
            "marker": {
             "colorbar": {
              "outlinewidth": 0,
              "ticks": ""
             }
            },
            "type": "scatter"
           }
          ],
          "scatter3d": [
           {
            "line": {
             "colorbar": {
              "outlinewidth": 0,
              "ticks": ""
             }
            },
            "marker": {
             "colorbar": {
              "outlinewidth": 0,
              "ticks": ""
             }
            },
            "type": "scatter3d"
           }
          ],
          "scattercarpet": [
           {
            "marker": {
             "colorbar": {
              "outlinewidth": 0,
              "ticks": ""
             }
            },
            "type": "scattercarpet"
           }
          ],
          "scattergeo": [
           {
            "marker": {
             "colorbar": {
              "outlinewidth": 0,
              "ticks": ""
             }
            },
            "type": "scattergeo"
           }
          ],
          "scattergl": [
           {
            "marker": {
             "colorbar": {
              "outlinewidth": 0,
              "ticks": ""
             }
            },
            "type": "scattergl"
           }
          ],
          "scattermapbox": [
           {
            "marker": {
             "colorbar": {
              "outlinewidth": 0,
              "ticks": ""
             }
            },
            "type": "scattermapbox"
           }
          ],
          "scatterpolar": [
           {
            "marker": {
             "colorbar": {
              "outlinewidth": 0,
              "ticks": ""
             }
            },
            "type": "scatterpolar"
           }
          ],
          "scatterpolargl": [
           {
            "marker": {
             "colorbar": {
              "outlinewidth": 0,
              "ticks": ""
             }
            },
            "type": "scatterpolargl"
           }
          ],
          "scatterternary": [
           {
            "marker": {
             "colorbar": {
              "outlinewidth": 0,
              "ticks": ""
             }
            },
            "type": "scatterternary"
           }
          ],
          "surface": [
           {
            "colorbar": {
             "outlinewidth": 0,
             "ticks": ""
            },
            "colorscale": [
             [
              0,
              "#0d0887"
             ],
             [
              0.1111111111111111,
              "#46039f"
             ],
             [
              0.2222222222222222,
              "#7201a8"
             ],
             [
              0.3333333333333333,
              "#9c179e"
             ],
             [
              0.4444444444444444,
              "#bd3786"
             ],
             [
              0.5555555555555556,
              "#d8576b"
             ],
             [
              0.6666666666666666,
              "#ed7953"
             ],
             [
              0.7777777777777778,
              "#fb9f3a"
             ],
             [
              0.8888888888888888,
              "#fdca26"
             ],
             [
              1,
              "#f0f921"
             ]
            ],
            "type": "surface"
           }
          ],
          "table": [
           {
            "cells": {
             "fill": {
              "color": "#EBF0F8"
             },
             "line": {
              "color": "white"
             }
            },
            "header": {
             "fill": {
              "color": "#C8D4E3"
             },
             "line": {
              "color": "white"
             }
            },
            "type": "table"
           }
          ]
         },
         "layout": {
          "annotationdefaults": {
           "arrowcolor": "#2a3f5f",
           "arrowhead": 0,
           "arrowwidth": 1
          },
          "autotypenumbers": "strict",
          "coloraxis": {
           "colorbar": {
            "outlinewidth": 0,
            "ticks": ""
           }
          },
          "colorscale": {
           "diverging": [
            [
             0,
             "#8e0152"
            ],
            [
             0.1,
             "#c51b7d"
            ],
            [
             0.2,
             "#de77ae"
            ],
            [
             0.3,
             "#f1b6da"
            ],
            [
             0.4,
             "#fde0ef"
            ],
            [
             0.5,
             "#f7f7f7"
            ],
            [
             0.6,
             "#e6f5d0"
            ],
            [
             0.7,
             "#b8e186"
            ],
            [
             0.8,
             "#7fbc41"
            ],
            [
             0.9,
             "#4d9221"
            ],
            [
             1,
             "#276419"
            ]
           ],
           "sequential": [
            [
             0,
             "#0d0887"
            ],
            [
             0.1111111111111111,
             "#46039f"
            ],
            [
             0.2222222222222222,
             "#7201a8"
            ],
            [
             0.3333333333333333,
             "#9c179e"
            ],
            [
             0.4444444444444444,
             "#bd3786"
            ],
            [
             0.5555555555555556,
             "#d8576b"
            ],
            [
             0.6666666666666666,
             "#ed7953"
            ],
            [
             0.7777777777777778,
             "#fb9f3a"
            ],
            [
             0.8888888888888888,
             "#fdca26"
            ],
            [
             1,
             "#f0f921"
            ]
           ],
           "sequentialminus": [
            [
             0,
             "#0d0887"
            ],
            [
             0.1111111111111111,
             "#46039f"
            ],
            [
             0.2222222222222222,
             "#7201a8"
            ],
            [
             0.3333333333333333,
             "#9c179e"
            ],
            [
             0.4444444444444444,
             "#bd3786"
            ],
            [
             0.5555555555555556,
             "#d8576b"
            ],
            [
             0.6666666666666666,
             "#ed7953"
            ],
            [
             0.7777777777777778,
             "#fb9f3a"
            ],
            [
             0.8888888888888888,
             "#fdca26"
            ],
            [
             1,
             "#f0f921"
            ]
           ]
          },
          "colorway": [
           "#636efa",
           "#EF553B",
           "#00cc96",
           "#ab63fa",
           "#FFA15A",
           "#19d3f3",
           "#FF6692",
           "#B6E880",
           "#FF97FF",
           "#FECB52"
          ],
          "font": {
           "color": "#2a3f5f"
          },
          "geo": {
           "bgcolor": "white",
           "lakecolor": "white",
           "landcolor": "#E5ECF6",
           "showlakes": true,
           "showland": true,
           "subunitcolor": "white"
          },
          "hoverlabel": {
           "align": "left"
          },
          "hovermode": "closest",
          "mapbox": {
           "style": "light"
          },
          "paper_bgcolor": "white",
          "plot_bgcolor": "#E5ECF6",
          "polar": {
           "angularaxis": {
            "gridcolor": "white",
            "linecolor": "white",
            "ticks": ""
           },
           "bgcolor": "#E5ECF6",
           "radialaxis": {
            "gridcolor": "white",
            "linecolor": "white",
            "ticks": ""
           }
          },
          "scene": {
           "xaxis": {
            "backgroundcolor": "#E5ECF6",
            "gridcolor": "white",
            "gridwidth": 2,
            "linecolor": "white",
            "showbackground": true,
            "ticks": "",
            "zerolinecolor": "white"
           },
           "yaxis": {
            "backgroundcolor": "#E5ECF6",
            "gridcolor": "white",
            "gridwidth": 2,
            "linecolor": "white",
            "showbackground": true,
            "ticks": "",
            "zerolinecolor": "white"
           },
           "zaxis": {
            "backgroundcolor": "#E5ECF6",
            "gridcolor": "white",
            "gridwidth": 2,
            "linecolor": "white",
            "showbackground": true,
            "ticks": "",
            "zerolinecolor": "white"
           }
          },
          "shapedefaults": {
           "line": {
            "color": "#2a3f5f"
           }
          },
          "ternary": {
           "aaxis": {
            "gridcolor": "white",
            "linecolor": "white",
            "ticks": ""
           },
           "baxis": {
            "gridcolor": "white",
            "linecolor": "white",
            "ticks": ""
           },
           "bgcolor": "#E5ECF6",
           "caxis": {
            "gridcolor": "white",
            "linecolor": "white",
            "ticks": ""
           }
          },
          "title": {
           "x": 0.05
          },
          "xaxis": {
           "automargin": true,
           "gridcolor": "white",
           "linecolor": "white",
           "ticks": "",
           "title": {
            "standoff": 15
           },
           "zerolinecolor": "white",
           "zerolinewidth": 2
          },
          "yaxis": {
           "automargin": true,
           "gridcolor": "white",
           "linecolor": "white",
           "ticks": "",
           "title": {
            "standoff": 15
           },
           "zerolinecolor": "white",
           "zerolinewidth": 2
          }
         }
        },
        "title": {
         "text": "Green recovery spending vs Natural resource rents 2019"
        },
        "xaxis": {
         "gridcolor": "white",
         "gridwidth": 2,
         "title": {
          "text": "Green recovery spending as % of recovery spending"
         }
        },
        "yaxis": {
         "gridcolor": "white",
         "gridwidth": 2,
         "title": {
          "text": "Natural resource rents as % of GDP"
         },
         "type": "log"
        }
       }
      },
      "text/html": [
       "<div>                            <div id=\"bf279740-12b8-4005-9d1e-d23164b95e6b\" class=\"plotly-graph-div\" style=\"height:525px; width:100%;\"></div>            <script type=\"text/javascript\">                require([\"plotly\"], function(Plotly) {                    window.PLOTLYENV=window.PLOTLYENV || {};                                    if (document.getElementById(\"bf279740-12b8-4005-9d1e-d23164b95e6b\")) {                    Plotly.newPlot(                        \"bf279740-12b8-4005-9d1e-d23164b95e6b\",                        [{\"marker\":{\"line\":{\"color\":\"black\",\"width\":1},\"size\":[0.0,2.3,0.38,0.5499999999999999,0.28,0.0,21.669999999999998,0.45,51.88,0.15,0.0,8.24,0.0,238.24,78.71,2.79,40.01,47.43,0.0,0.0,0.82,0.0,0.36,0.62,0.9,0.05,23.669999999999998,0.04,0.01,0.0,0.18,4.42,0.13,0.18,0.0,0.0,5.24,0.1,53.300000000000004,51.190000000000005,1.1,1.57,0.0,2.44,65.67,9.899999999999999,0.0],\"sizemode\":\"area\",\"sizeref\":0.05956},\"mode\":\"markers\",\"text\":[\"Country: Argentina<br>Green recovery spending as % of recovery spending: 0.0<br>Natural resource rents as % of GDP: 2.07<br>Green recovery spending (USD billions): 0.0<br>\",\"Country: Australia<br>Green recovery spending as % of recovery spending: 1.76<br>Natural resource rents as % of GDP: 5.36<br>Green recovery spending (USD billions): 2.3<br>\",\"Country: Austria<br>Green recovery spending as % of recovery spending: 23.75<br>Natural resource rents as % of GDP: 0.13<br>Green recovery spending (USD billions): 0.38<br>\",\"Country: Bangladesh<br>Green recovery spending as % of recovery spending: 87.3<br>Natural resource rents as % of GDP: 0.45<br>Green recovery spending (USD billions): 0.5499999999999999<br>\",\"Country: Brazil<br>Green recovery spending as % of recovery spending: 51.85<br>Natural resource rents as % of GDP: 3.47<br>Green recovery spending (USD billions): 0.28<br>\",\"Country: Burkina Faso<br>Green recovery spending as % of recovery spending: nan<br>Natural resource rents as % of GDP: 4.19<br>Green recovery spending (USD billions): 0.0<br>\",\"Country: Canada<br>Green recovery spending as % of recovery spending: 55.99<br>Natural resource rents as % of GDP: 1.9<br>Green recovery spending (USD billions): 21.669999999999998<br>\",\"Country: Chile<br>Green recovery spending as % of recovery spending: 14.38<br>Natural resource rents as % of GDP: 2.3<br>Green recovery spending (USD billions): 0.45<br>\",\"Country: China<br>Green recovery spending as % of recovery spending: 12.14<br>Natural resource rents as % of GDP: 1.26<br>Green recovery spending (USD billions): 51.88<br>\",\"Country: Colombia<br>Green recovery spending as % of recovery spending: 46.88<br>Natural resource rents as % of GDP: 4.52<br>Green recovery spending (USD billions): 0.15<br>\",\"Country: Cuba<br>Green recovery spending as % of recovery spending: nan<br>Natural resource rents as % of GDP: nan<br>Green recovery spending (USD billions): 0.0<br>\",\"Country: Denmark<br>Green recovery spending as % of recovery spending: 62.0<br>Natural resource rents as % of GDP: 0.48<br>Green recovery spending (USD billions): 8.24<br>\",\"Country: Dominican Republic<br>Green recovery spending as % of recovery spending: 0.0<br>Natural resource rents as % of GDP: 0.36<br>Green recovery spending (USD billions): 0.0<br>\",\"Country: EIB<br>Green recovery spending as % of recovery spending: 75.48<br>Natural resource rents as % of GDP: nan<br>Green recovery spending (USD billions): 238.24<br>\",\"Country: European Union<br>Green recovery spending as % of recovery spending: 9.92<br>Natural resource rents as % of GDP: nan<br>Green recovery spending (USD billions): 78.71<br>\",\"Country: Finland<br>Green recovery spending as % of recovery spending: 58.0<br>Natural resource rents as % of GDP: 0.4<br>Green recovery spending (USD billions): 2.79<br>\",\"Country: France<br>Green recovery spending as % of recovery spending: 35.56<br>Natural resource rents as % of GDP: 0.04<br>Green recovery spending (USD billions): 40.01<br>\",\"Country: Germany<br>Green recovery spending as % of recovery spending: 47.33<br>Natural resource rents as % of GDP: 0.1<br>Green recovery spending (USD billions): 47.43<br>\",\"Country: Ghana<br>Green recovery spending as % of recovery spending: 0.0<br>Natural resource rents as % of GDP: 7.79<br>Green recovery spending (USD billions): 0.0<br>\",\"Country: Honduras<br>Green recovery spending as % of recovery spending: 0.0<br>Natural resource rents as % of GDP: 0.94<br>Green recovery spending (USD billions): 0.0<br>\",\"Country: India<br>Green recovery spending as % of recovery spending: 5.1<br>Natural resource rents as % of GDP: 2.01<br>Green recovery spending (USD billions): 0.82<br>\",\"Country: Iraq<br>Green recovery spending as % of recovery spending: 0.0<br>Natural resource rents as % of GDP: 39.8<br>Green recovery spending (USD billions): 0.0<br>\",\"Country: Ireland<br>Green recovery spending as % of recovery spending: 6.3<br>Natural resource rents as % of GDP: 0.02<br>Green recovery spending (USD billions): 0.36<br>\",\"Country: Israel<br>Green recovery spending as % of recovery spending: 28.57<br>Natural resource rents as % of GDP: 0.09<br>Green recovery spending (USD billions): 0.62<br>\",\"Country: Italy<br>Green recovery spending as % of recovery spending: 1.53<br>Natural resource rents as % of GDP: 0.09<br>Green recovery spending (USD billions): 0.9<br>\",\"Country: Jamaica<br>Green recovery spending as % of recovery spending: 100.0<br>Natural resource rents as % of GDP: 0.14<br>Green recovery spending (USD billions): 0.05<br>\",\"Country: Japan<br>Green recovery spending as % of recovery spending: 12.28<br>Natural resource rents as % of GDP: 0.09<br>Green recovery spending (USD billions): 23.669999999999998<br>\",\"Country: Kenya<br>Green recovery spending as % of recovery spending: 22.22<br>Natural resource rents as % of GDP: 1.05<br>Green recovery spending (USD billions): 0.04<br>\",\"Country: Mauritius<br>Green recovery spending as % of recovery spending: 100.0<br>Natural resource rents as % of GDP: 0.0<br>Green recovery spending (USD billions): 0.01<br>\",\"Country: Mexico<br>Green recovery spending as % of recovery spending: 0.0<br>Natural resource rents as % of GDP: 2.2<br>Green recovery spending (USD billions): 0.0<br>\",\"Country: Netherlands<br>Green recovery spending as % of recovery spending: 0.66<br>Natural resource rents as % of GDP: 0.25<br>Green recovery spending (USD billions): 0.18<br>\",\"Country: Norway<br>Green recovery spending as % of recovery spending: 53.51<br>Natural resource rents as % of GDP: 6.98<br>Green recovery spending (USD billions): 4.42<br>\",\"Country: Pakistan<br>Green recovery spending as % of recovery spending: 4.63<br>Natural resource rents as % of GDP: 1.16<br>Green recovery spending (USD billions): 0.13<br>\",\"Country: Panama<br>Green recovery spending as % of recovery spending: 50.0<br>Natural resource rents as % of GDP: 0.08<br>Green recovery spending (USD billions): 0.18<br>\",\"Country: Peru<br>Green recovery spending as % of recovery spending: 0.0<br>Natural resource rents as % of GDP: 1.66<br>Green recovery spending (USD billions): 0.0<br>\",\"Country: Philippines<br>Green recovery spending as % of recovery spending: 0.0<br>Natural resource rents as % of GDP: 0.68<br>Green recovery spending (USD billions): 0.0<br>\",\"Country: Poland<br>Green recovery spending as % of recovery spending: 30.77<br>Natural resource rents as % of GDP: 0.69<br>Green recovery spending (USD billions): 5.24<br>\",\"Country: Senegal<br>Green recovery spending as % of recovery spending: 18.87<br>Natural resource rents as % of GDP: 1.29<br>Green recovery spending (USD billions): 0.1<br>\",\"Country: South Korea<br>Green recovery spending as % of recovery spending: 26.8<br>Natural resource rents as % of GDP: 0.1<br>Green recovery spending (USD billions): 53.300000000000004<br>\",\"Country: Spain<br>Green recovery spending as % of recovery spending: 23.3<br>Natural resource rents as % of GDP: 0.05<br>Green recovery spending (USD billions): 51.190000000000005<br>\",\"Country: Sweden<br>Green recovery spending as % of recovery spending: 41.67<br>Natural resource rents as % of GDP: 0.39<br>Green recovery spending (USD billions): 1.1<br>\",\"Country: Switzerland<br>Green recovery spending as % of recovery spending: 53.58<br>Natural resource rents as % of GDP: 0.01<br>Green recovery spending (USD billions): 1.57<br>\",\"Country: Thailand<br>Green recovery spending as % of recovery spending: 0.0<br>Natural resource rents as % of GDP: 1.63<br>Green recovery spending (USD billions): 0.0<br>\",\"Country: Turkey<br>Green recovery spending as % of recovery spending: 100.0<br>Natural resource rents as % of GDP: 0.31<br>Green recovery spending (USD billions): 2.44<br>\",\"Country: United Kingdom<br>Green recovery spending as % of recovery spending: 16.77<br>Natural resource rents as % of GDP: 0.59<br>Green recovery spending (USD billions): 65.67<br>\",\"Country: United States<br>Green recovery spending as % of recovery spending: 8.06<br>Natural resource rents as % of GDP: 0.57<br>Green recovery spending (USD billions): 9.899999999999999<br>\",\"Country: Vietnam<br>Green recovery spending as % of recovery spending: nan<br>Natural resource rents as % of GDP: 3.37<br>Green recovery spending (USD billions): 0.0<br>\"],\"type\":\"scatter\",\"x\":[0.0,1.76,23.75,87.3,51.85,null,55.99,14.38,12.14,46.88,null,62.0,0.0,75.48,9.92,58.0,35.56,47.33,0.0,0.0,5.1,0.0,6.3,28.57,1.53,100.0,12.28,22.22,100.0,0.0,0.66,53.51,4.63,50.0,0.0,0.0,30.77,18.87,26.8,23.3,41.67,53.58,0.0,100.0,16.77,8.06,null],\"y\":[2.07,5.36,0.13,0.45,3.47,4.19,1.9,2.3,1.26,4.52,null,0.48,0.36,null,null,0.4,0.04,0.1,7.79,0.94,2.01,39.8,0.02,0.09,0.09,0.14,0.09,1.05,0.0,2.2,0.25,6.98,1.16,0.08,1.66,0.68,0.69,1.29,0.1,0.05,0.39,0.01,1.63,0.31,0.59,0.57,3.37]}],                        {\"paper_bgcolor\":\"rgb(243, 243, 243)\",\"plot_bgcolor\":\"rgb(243, 243, 243)\",\"template\":{\"data\":{\"bar\":[{\"error_x\":{\"color\":\"#2a3f5f\"},\"error_y\":{\"color\":\"#2a3f5f\"},\"marker\":{\"line\":{\"color\":\"#E5ECF6\",\"width\":0.5},\"pattern\":{\"fillmode\":\"overlay\",\"size\":10,\"solidity\":0.2}},\"type\":\"bar\"}],\"barpolar\":[{\"marker\":{\"line\":{\"color\":\"#E5ECF6\",\"width\":0.5},\"pattern\":{\"fillmode\":\"overlay\",\"size\":10,\"solidity\":0.2}},\"type\":\"barpolar\"}],\"carpet\":[{\"aaxis\":{\"endlinecolor\":\"#2a3f5f\",\"gridcolor\":\"white\",\"linecolor\":\"white\",\"minorgridcolor\":\"white\",\"startlinecolor\":\"#2a3f5f\"},\"baxis\":{\"endlinecolor\":\"#2a3f5f\",\"gridcolor\":\"white\",\"linecolor\":\"white\",\"minorgridcolor\":\"white\",\"startlinecolor\":\"#2a3f5f\"},\"type\":\"carpet\"}],\"choropleth\":[{\"colorbar\":{\"outlinewidth\":0,\"ticks\":\"\"},\"type\":\"choropleth\"}],\"contour\":[{\"colorbar\":{\"outlinewidth\":0,\"ticks\":\"\"},\"colorscale\":[[0.0,\"#0d0887\"],[0.1111111111111111,\"#46039f\"],[0.2222222222222222,\"#7201a8\"],[0.3333333333333333,\"#9c179e\"],[0.4444444444444444,\"#bd3786\"],[0.5555555555555556,\"#d8576b\"],[0.6666666666666666,\"#ed7953\"],[0.7777777777777778,\"#fb9f3a\"],[0.8888888888888888,\"#fdca26\"],[1.0,\"#f0f921\"]],\"type\":\"contour\"}],\"contourcarpet\":[{\"colorbar\":{\"outlinewidth\":0,\"ticks\":\"\"},\"type\":\"contourcarpet\"}],\"heatmap\":[{\"colorbar\":{\"outlinewidth\":0,\"ticks\":\"\"},\"colorscale\":[[0.0,\"#0d0887\"],[0.1111111111111111,\"#46039f\"],[0.2222222222222222,\"#7201a8\"],[0.3333333333333333,\"#9c179e\"],[0.4444444444444444,\"#bd3786\"],[0.5555555555555556,\"#d8576b\"],[0.6666666666666666,\"#ed7953\"],[0.7777777777777778,\"#fb9f3a\"],[0.8888888888888888,\"#fdca26\"],[1.0,\"#f0f921\"]],\"type\":\"heatmap\"}],\"heatmapgl\":[{\"colorbar\":{\"outlinewidth\":0,\"ticks\":\"\"},\"colorscale\":[[0.0,\"#0d0887\"],[0.1111111111111111,\"#46039f\"],[0.2222222222222222,\"#7201a8\"],[0.3333333333333333,\"#9c179e\"],[0.4444444444444444,\"#bd3786\"],[0.5555555555555556,\"#d8576b\"],[0.6666666666666666,\"#ed7953\"],[0.7777777777777778,\"#fb9f3a\"],[0.8888888888888888,\"#fdca26\"],[1.0,\"#f0f921\"]],\"type\":\"heatmapgl\"}],\"histogram\":[{\"marker\":{\"pattern\":{\"fillmode\":\"overlay\",\"size\":10,\"solidity\":0.2}},\"type\":\"histogram\"}],\"histogram2d\":[{\"colorbar\":{\"outlinewidth\":0,\"ticks\":\"\"},\"colorscale\":[[0.0,\"#0d0887\"],[0.1111111111111111,\"#46039f\"],[0.2222222222222222,\"#7201a8\"],[0.3333333333333333,\"#9c179e\"],[0.4444444444444444,\"#bd3786\"],[0.5555555555555556,\"#d8576b\"],[0.6666666666666666,\"#ed7953\"],[0.7777777777777778,\"#fb9f3a\"],[0.8888888888888888,\"#fdca26\"],[1.0,\"#f0f921\"]],\"type\":\"histogram2d\"}],\"histogram2dcontour\":[{\"colorbar\":{\"outlinewidth\":0,\"ticks\":\"\"},\"colorscale\":[[0.0,\"#0d0887\"],[0.1111111111111111,\"#46039f\"],[0.2222222222222222,\"#7201a8\"],[0.3333333333333333,\"#9c179e\"],[0.4444444444444444,\"#bd3786\"],[0.5555555555555556,\"#d8576b\"],[0.6666666666666666,\"#ed7953\"],[0.7777777777777778,\"#fb9f3a\"],[0.8888888888888888,\"#fdca26\"],[1.0,\"#f0f921\"]],\"type\":\"histogram2dcontour\"}],\"mesh3d\":[{\"colorbar\":{\"outlinewidth\":0,\"ticks\":\"\"},\"type\":\"mesh3d\"}],\"parcoords\":[{\"line\":{\"colorbar\":{\"outlinewidth\":0,\"ticks\":\"\"}},\"type\":\"parcoords\"}],\"pie\":[{\"automargin\":true,\"type\":\"pie\"}],\"scatter\":[{\"marker\":{\"colorbar\":{\"outlinewidth\":0,\"ticks\":\"\"}},\"type\":\"scatter\"}],\"scatter3d\":[{\"line\":{\"colorbar\":{\"outlinewidth\":0,\"ticks\":\"\"}},\"marker\":{\"colorbar\":{\"outlinewidth\":0,\"ticks\":\"\"}},\"type\":\"scatter3d\"}],\"scattercarpet\":[{\"marker\":{\"colorbar\":{\"outlinewidth\":0,\"ticks\":\"\"}},\"type\":\"scattercarpet\"}],\"scattergeo\":[{\"marker\":{\"colorbar\":{\"outlinewidth\":0,\"ticks\":\"\"}},\"type\":\"scattergeo\"}],\"scattergl\":[{\"marker\":{\"colorbar\":{\"outlinewidth\":0,\"ticks\":\"\"}},\"type\":\"scattergl\"}],\"scattermapbox\":[{\"marker\":{\"colorbar\":{\"outlinewidth\":0,\"ticks\":\"\"}},\"type\":\"scattermapbox\"}],\"scatterpolar\":[{\"marker\":{\"colorbar\":{\"outlinewidth\":0,\"ticks\":\"\"}},\"type\":\"scatterpolar\"}],\"scatterpolargl\":[{\"marker\":{\"colorbar\":{\"outlinewidth\":0,\"ticks\":\"\"}},\"type\":\"scatterpolargl\"}],\"scatterternary\":[{\"marker\":{\"colorbar\":{\"outlinewidth\":0,\"ticks\":\"\"}},\"type\":\"scatterternary\"}],\"surface\":[{\"colorbar\":{\"outlinewidth\":0,\"ticks\":\"\"},\"colorscale\":[[0.0,\"#0d0887\"],[0.1111111111111111,\"#46039f\"],[0.2222222222222222,\"#7201a8\"],[0.3333333333333333,\"#9c179e\"],[0.4444444444444444,\"#bd3786\"],[0.5555555555555556,\"#d8576b\"],[0.6666666666666666,\"#ed7953\"],[0.7777777777777778,\"#fb9f3a\"],[0.8888888888888888,\"#fdca26\"],[1.0,\"#f0f921\"]],\"type\":\"surface\"}],\"table\":[{\"cells\":{\"fill\":{\"color\":\"#EBF0F8\"},\"line\":{\"color\":\"white\"}},\"header\":{\"fill\":{\"color\":\"#C8D4E3\"},\"line\":{\"color\":\"white\"}},\"type\":\"table\"}]},\"layout\":{\"annotationdefaults\":{\"arrowcolor\":\"#2a3f5f\",\"arrowhead\":0,\"arrowwidth\":1},\"autotypenumbers\":\"strict\",\"coloraxis\":{\"colorbar\":{\"outlinewidth\":0,\"ticks\":\"\"}},\"colorscale\":{\"diverging\":[[0,\"#8e0152\"],[0.1,\"#c51b7d\"],[0.2,\"#de77ae\"],[0.3,\"#f1b6da\"],[0.4,\"#fde0ef\"],[0.5,\"#f7f7f7\"],[0.6,\"#e6f5d0\"],[0.7,\"#b8e186\"],[0.8,\"#7fbc41\"],[0.9,\"#4d9221\"],[1,\"#276419\"]],\"sequential\":[[0.0,\"#0d0887\"],[0.1111111111111111,\"#46039f\"],[0.2222222222222222,\"#7201a8\"],[0.3333333333333333,\"#9c179e\"],[0.4444444444444444,\"#bd3786\"],[0.5555555555555556,\"#d8576b\"],[0.6666666666666666,\"#ed7953\"],[0.7777777777777778,\"#fb9f3a\"],[0.8888888888888888,\"#fdca26\"],[1.0,\"#f0f921\"]],\"sequentialminus\":[[0.0,\"#0d0887\"],[0.1111111111111111,\"#46039f\"],[0.2222222222222222,\"#7201a8\"],[0.3333333333333333,\"#9c179e\"],[0.4444444444444444,\"#bd3786\"],[0.5555555555555556,\"#d8576b\"],[0.6666666666666666,\"#ed7953\"],[0.7777777777777778,\"#fb9f3a\"],[0.8888888888888888,\"#fdca26\"],[1.0,\"#f0f921\"]]},\"colorway\":[\"#636efa\",\"#EF553B\",\"#00cc96\",\"#ab63fa\",\"#FFA15A\",\"#19d3f3\",\"#FF6692\",\"#B6E880\",\"#FF97FF\",\"#FECB52\"],\"font\":{\"color\":\"#2a3f5f\"},\"geo\":{\"bgcolor\":\"white\",\"lakecolor\":\"white\",\"landcolor\":\"#E5ECF6\",\"showlakes\":true,\"showland\":true,\"subunitcolor\":\"white\"},\"hoverlabel\":{\"align\":\"left\"},\"hovermode\":\"closest\",\"mapbox\":{\"style\":\"light\"},\"paper_bgcolor\":\"white\",\"plot_bgcolor\":\"#E5ECF6\",\"polar\":{\"angularaxis\":{\"gridcolor\":\"white\",\"linecolor\":\"white\",\"ticks\":\"\"},\"bgcolor\":\"#E5ECF6\",\"radialaxis\":{\"gridcolor\":\"white\",\"linecolor\":\"white\",\"ticks\":\"\"}},\"scene\":{\"xaxis\":{\"backgroundcolor\":\"#E5ECF6\",\"gridcolor\":\"white\",\"gridwidth\":2,\"linecolor\":\"white\",\"showbackground\":true,\"ticks\":\"\",\"zerolinecolor\":\"white\"},\"yaxis\":{\"backgroundcolor\":\"#E5ECF6\",\"gridcolor\":\"white\",\"gridwidth\":2,\"linecolor\":\"white\",\"showbackground\":true,\"ticks\":\"\",\"zerolinecolor\":\"white\"},\"zaxis\":{\"backgroundcolor\":\"#E5ECF6\",\"gridcolor\":\"white\",\"gridwidth\":2,\"linecolor\":\"white\",\"showbackground\":true,\"ticks\":\"\",\"zerolinecolor\":\"white\"}},\"shapedefaults\":{\"line\":{\"color\":\"#2a3f5f\"}},\"ternary\":{\"aaxis\":{\"gridcolor\":\"white\",\"linecolor\":\"white\",\"ticks\":\"\"},\"baxis\":{\"gridcolor\":\"white\",\"linecolor\":\"white\",\"ticks\":\"\"},\"bgcolor\":\"#E5ECF6\",\"caxis\":{\"gridcolor\":\"white\",\"linecolor\":\"white\",\"ticks\":\"\"}},\"title\":{\"x\":0.05},\"xaxis\":{\"automargin\":true,\"gridcolor\":\"white\",\"linecolor\":\"white\",\"ticks\":\"\",\"title\":{\"standoff\":15},\"zerolinecolor\":\"white\",\"zerolinewidth\":2},\"yaxis\":{\"automargin\":true,\"gridcolor\":\"white\",\"linecolor\":\"white\",\"ticks\":\"\",\"title\":{\"standoff\":15},\"zerolinecolor\":\"white\",\"zerolinewidth\":2}}},\"title\":{\"text\":\"Green recovery spending vs Natural resource rents 2019\"},\"xaxis\":{\"gridcolor\":\"white\",\"gridwidth\":2,\"title\":{\"text\":\"Green recovery spending as % of recovery spending\"}},\"yaxis\":{\"gridcolor\":\"white\",\"gridwidth\":2,\"title\":{\"text\":\"Natural resource rents as % of GDP\"},\"type\":\"log\"}},                        {\"responsive\": true}                    ).then(function(){\n",
       "                            \n",
       "var gd = document.getElementById('bf279740-12b8-4005-9d1e-d23164b95e6b');\n",
       "var x = new MutationObserver(function (mutations, observer) {{\n",
       "        var display = window.getComputedStyle(gd).display;\n",
       "        if (!display || display === 'none') {{\n",
       "            console.log([gd, 'removed!']);\n",
       "            Plotly.purge(gd);\n",
       "            observer.disconnect();\n",
       "        }}\n",
       "}});\n",
       "\n",
       "// Listen for the removal of the full notebook cells\n",
       "var notebookContainer = gd.closest('#notebook-container');\n",
       "if (notebookContainer) {{\n",
       "    x.observe(notebookContainer, {childList: true});\n",
       "}}\n",
       "\n",
       "// Listen for the clearing of the current output cell\n",
       "var outputEl = gd.closest('.output');\n",
       "if (outputEl) {{\n",
       "    x.observe(outputEl, {childList: true});\n",
       "}}\n",
       "\n",
       "                        })                };                });            </script>        </div>"
      ]
     },
     "metadata": {},
     "output_type": "display_data"
    }
   ],
   "source": [
    "import plotly.graph_objects as go\n",
    "\n",
    "hover_text = []\n",
    "for index, row in GROmerge.iterrows():\n",
    "    hover_text.append(('Country: {country}<br>'+\n",
    "                      'Green recovery spending as % of recovery spending: {percent}<br>'+\n",
    "                      'Natural resource rents as % of GDP: {nrr}<br>'+\n",
    "                      'Green recovery spending (USD billions): {grs}<br>').format(country=row['Country'],\n",
    "                                            percent=row['Percent'],\n",
    "                                            nrr=row['2019'],\n",
    "                                            grs=row['Green recovery spending'],\n",
    "                                            ))\n",
    "fig = go.Figure(data=[go.Scatter(\n",
    "    x=GROmerge['Percent'], y=GROmerge['2019'],\n",
    "    text=hover_text,\n",
    "    mode='markers',\n",
    "      marker=dict(\n",
    "        size=GROmerge['Green recovery spending'])\n",
    ")\n",
    "])\n",
    "\n",
    "fig.update_layout(\n",
    "    title='Green recovery spending vs Natural resource rents 2019',\n",
    "    xaxis=dict(\n",
    "        title='Green recovery spending as % of recovery spending',\n",
    "        gridcolor='white',\n",
    "        gridwidth=2,\n",
    "    ),\n",
    "    yaxis=dict(\n",
    "        title='Natural resource rents as % of GDP',\n",
    "        gridcolor='white',\n",
    "        type='log',\n",
    "        gridwidth=2,\n",
    "    ),\n",
    "    paper_bgcolor='rgb(243, 243, 243)',\n",
    "    plot_bgcolor='rgb(243, 243, 243)',\n",
    ")\n",
    "\n",
    "sizeref = 0.1 * max(GROmerge['Green recovery spending']) / (20 ** 2)\n",
    "fig.update_traces(mode='markers', marker=dict(sizemode='area',\n",
    "                                              sizeref=sizeref, line_width=1, line_color='black'))\n",
    "\n",
    "fig.show()\n",
    "\n",
    "##really few points because not scaled - others not visible?\n",
    "##https://plotly.com/python/bubble-charts/"
   ]
  },
  {
   "cell_type": "code",
   "execution_count": null,
   "metadata": {},
   "outputs": [],
   "source": []
  }
 ],
 "metadata": {
  "kernelspec": {
   "display_name": "Python 3 (ipykernel)",
   "language": "python",
   "name": "python3"
  },
  "language_info": {
   "codemirror_mode": {
    "name": "ipython",
    "version": 3
   },
   "file_extension": ".py",
   "mimetype": "text/x-python",
   "name": "python",
   "nbconvert_exporter": "python",
   "pygments_lexer": "ipython3",
   "version": "3.9.6"
  }
 },
 "nbformat": 4,
 "nbformat_minor": 1
}
