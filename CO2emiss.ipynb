{
 "cells": [
  {
   "cell_type": "code",
   "execution_count": 1,
   "metadata": {},
   "outputs": [
    {
     "data": {
      "text/html": [
       "<div>\n",
       "<style scoped>\n",
       "    .dataframe tbody tr th:only-of-type {\n",
       "        vertical-align: middle;\n",
       "    }\n",
       "\n",
       "    .dataframe tbody tr th {\n",
       "        vertical-align: top;\n",
       "    }\n",
       "\n",
       "    .dataframe thead th {\n",
       "        text-align: right;\n",
       "    }\n",
       "</style>\n",
       "<table border=\"1\" class=\"dataframe\">\n",
       "  <thead>\n",
       "    <tr style=\"text-align: right;\">\n",
       "      <th></th>\n",
       "      <th>Region/Country/Economy</th>\n",
       "      <th>2017</th>\n",
       "      <th>2018</th>\n",
       "      <th>2019</th>\n",
       "    </tr>\n",
       "  </thead>\n",
       "  <tbody>\n",
       "    <tr>\n",
       "      <th>0</th>\n",
       "      <td>Africa</td>\n",
       "      <td>0.97</td>\n",
       "      <td>0.98</td>\n",
       "      <td>NaN</td>\n",
       "    </tr>\n",
       "    <tr>\n",
       "      <th>1</th>\n",
       "      <td>Africa</td>\n",
       "      <td>0.97</td>\n",
       "      <td>0.98</td>\n",
       "      <td>NaN</td>\n",
       "    </tr>\n",
       "    <tr>\n",
       "      <th>2</th>\n",
       "      <td>Albania</td>\n",
       "      <td>1.51</td>\n",
       "      <td>1.50</td>\n",
       "      <td>NaN</td>\n",
       "    </tr>\n",
       "    <tr>\n",
       "      <th>3</th>\n",
       "      <td>Algeria</td>\n",
       "      <td>3.15</td>\n",
       "      <td>3.25</td>\n",
       "      <td>NaN</td>\n",
       "    </tr>\n",
       "    <tr>\n",
       "      <th>4</th>\n",
       "      <td>Americas</td>\n",
       "      <td>6.93</td>\n",
       "      <td>7.02</td>\n",
       "      <td>NaN</td>\n",
       "    </tr>\n",
       "    <tr>\n",
       "      <th>...</th>\n",
       "      <td>...</td>\n",
       "      <td>...</td>\n",
       "      <td>...</td>\n",
       "      <td>...</td>\n",
       "    </tr>\n",
       "    <tr>\n",
       "      <th>158</th>\n",
       "      <td>Venezuela</td>\n",
       "      <td>4.20</td>\n",
       "      <td>3.90</td>\n",
       "      <td>NaN</td>\n",
       "    </tr>\n",
       "    <tr>\n",
       "      <th>159</th>\n",
       "      <td>Viet Nam</td>\n",
       "      <td>2.02</td>\n",
       "      <td>2.37</td>\n",
       "      <td>NaN</td>\n",
       "    </tr>\n",
       "    <tr>\n",
       "      <th>160</th>\n",
       "      <td>Yemen</td>\n",
       "      <td>0.31</td>\n",
       "      <td>0.28</td>\n",
       "      <td>NaN</td>\n",
       "    </tr>\n",
       "    <tr>\n",
       "      <th>161</th>\n",
       "      <td>Zambia</td>\n",
       "      <td>0.35</td>\n",
       "      <td>0.39</td>\n",
       "      <td>NaN</td>\n",
       "    </tr>\n",
       "    <tr>\n",
       "      <th>162</th>\n",
       "      <td>Zimbabwe</td>\n",
       "      <td>0.68</td>\n",
       "      <td>0.81</td>\n",
       "      <td>NaN</td>\n",
       "    </tr>\n",
       "  </tbody>\n",
       "</table>\n",
       "<p>163 rows × 4 columns</p>\n",
       "</div>"
      ],
      "text/plain": [
       "    Region/Country/Economy  2017  2018  2019\n",
       "0                   Africa  0.97  0.98   NaN\n",
       "1                   Africa  0.97  0.98   NaN\n",
       "2                  Albania  1.51  1.50   NaN\n",
       "3                  Algeria  3.15  3.25   NaN\n",
       "4                 Americas  6.93  7.02   NaN\n",
       "..                     ...   ...   ...   ...\n",
       "158              Venezuela  4.20  3.90   NaN\n",
       "159               Viet Nam  2.02  2.37   NaN\n",
       "160                  Yemen  0.31  0.28   NaN\n",
       "161                 Zambia  0.35  0.39   NaN\n",
       "162               Zimbabwe  0.68  0.81   NaN\n",
       "\n",
       "[163 rows x 4 columns]"
      ]
     },
     "execution_count": 1,
     "metadata": {},
     "output_type": "execute_result"
    }
   ],
   "source": [
    "import pandas as pd\n",
    "\n",
    "df = pd.read_excel('https://iea.blob.core.windows.net/assets/6296011e-4fed-40c3-95a0-1367a4c4484a/CO2Highlights2020.xls',\n",
    "                   'CO2-POP', header=21, usecols=[0, 47, 48, 49], na_values='..')\n",
    "df.columns = df.columns.astype(str)\n",
    "df = df.round({'2017' : 2, '2018' : 2, '2019' : 2})\n",
    "df2 = df[df['Region/Country/Economy'].str.contains('OECD')==False]\n",
    "df2 = df2.drop(df2.index[169:172])\n",
    "df2 = df2.sort_values('Region/Country/Economy', ascending=True)\n",
    "df2.reset_index(drop=True, inplace=True)\n",
    "##df2['Country Code'] = np.where(df2['Region/Country/Economy'] == data['Country Code'])\n",
    "##my_list = list(df)\n",
    "##print(my_list)\n",
    "df2\n",
    "##data for each year in tons CO2 emissions per capita (over population)"
   ]
  },
  {
   "cell_type": "code",
   "execution_count": 2,
   "metadata": {
    "scrolled": true
   },
   "outputs": [
    {
     "data": {
      "text/plain": [
       "<AxesSubplot:xlabel='2018', ylabel='Region/Country/Economy'>"
      ]
     },
     "execution_count": 2,
     "metadata": {},
     "output_type": "execute_result"
    },
    {
     "data": {
      "image/png": "[encoded data removed]",
      "text/plain": [
       "<Figure size 432x288 with 1 Axes>"
      ]
     },
     "metadata": {
      "needs_background": "light"
     },
     "output_type": "display_data"
    }
   ],
   "source": [
    "import seaborn as sns\n",
    "\n",
    "df3 = df2\n",
    "df3 = df3.sort_values(by='2018', ascending=False)\n",
    "top = df3[:10]\n",
    "sns.barplot(x=top['2018'], y=top['Region/Country/Economy'])\n"
   ]
  },
  {
   "cell_type": "code",
   "execution_count": 3,
   "metadata": {},
   "outputs": [],
   "source": [
    "import pycountry\n",
    "## match country names in data to pycountry library\n",
    "\n",
    "countries = {}\n",
    "for country in pycountry.countries:\n",
    "    countries[country.name] = country.alpha_3\n"
   ]
  },
  {
   "cell_type": "code",
   "execution_count": null,
   "metadata": {},
   "outputs": [],
   "source": []
  },
  {
   "cell_type": "code",
   "execution_count": 4,
   "metadata": {
    "scrolled": true
   },
   "outputs": [
    {
     "data": {
      "text/html": [
       "<div>\n",
       "<style scoped>\n",
       "    .dataframe tbody tr th:only-of-type {\n",
       "        vertical-align: middle;\n",
       "    }\n",
       "\n",
       "    .dataframe tbody tr th {\n",
       "        vertical-align: top;\n",
       "    }\n",
       "\n",
       "    .dataframe thead th {\n",
       "        text-align: right;\n",
       "    }\n",
       "</style>\n",
       "<table border=\"1\" class=\"dataframe\">\n",
       "  <thead>\n",
       "    <tr style=\"text-align: right;\">\n",
       "      <th></th>\n",
       "      <th>Region/Country/Economy</th>\n",
       "      <th>2017</th>\n",
       "      <th>2018</th>\n",
       "      <th>2019</th>\n",
       "      <th>Code</th>\n",
       "    </tr>\n",
       "  </thead>\n",
       "  <tbody>\n",
       "    <tr>\n",
       "      <th>0</th>\n",
       "      <td>Africa</td>\n",
       "      <td>0.97</td>\n",
       "      <td>0.98</td>\n",
       "      <td>NaN</td>\n",
       "      <td>None</td>\n",
       "    </tr>\n",
       "    <tr>\n",
       "      <th>1</th>\n",
       "      <td>Africa</td>\n",
       "      <td>0.97</td>\n",
       "      <td>0.98</td>\n",
       "      <td>NaN</td>\n",
       "      <td>None</td>\n",
       "    </tr>\n",
       "    <tr>\n",
       "      <th>2</th>\n",
       "      <td>Albania</td>\n",
       "      <td>1.51</td>\n",
       "      <td>1.50</td>\n",
       "      <td>NaN</td>\n",
       "      <td>ALB</td>\n",
       "    </tr>\n",
       "    <tr>\n",
       "      <th>3</th>\n",
       "      <td>Algeria</td>\n",
       "      <td>3.15</td>\n",
       "      <td>3.25</td>\n",
       "      <td>NaN</td>\n",
       "      <td>DZA</td>\n",
       "    </tr>\n",
       "    <tr>\n",
       "      <th>4</th>\n",
       "      <td>Americas</td>\n",
       "      <td>6.93</td>\n",
       "      <td>7.02</td>\n",
       "      <td>NaN</td>\n",
       "      <td>None</td>\n",
       "    </tr>\n",
       "    <tr>\n",
       "      <th>...</th>\n",
       "      <td>...</td>\n",
       "      <td>...</td>\n",
       "      <td>...</td>\n",
       "      <td>...</td>\n",
       "      <td>...</td>\n",
       "    </tr>\n",
       "    <tr>\n",
       "      <th>158</th>\n",
       "      <td>Venezuela</td>\n",
       "      <td>4.20</td>\n",
       "      <td>3.90</td>\n",
       "      <td>NaN</td>\n",
       "      <td>None</td>\n",
       "    </tr>\n",
       "    <tr>\n",
       "      <th>159</th>\n",
       "      <td>Viet Nam</td>\n",
       "      <td>2.02</td>\n",
       "      <td>2.37</td>\n",
       "      <td>NaN</td>\n",
       "      <td>VNM</td>\n",
       "    </tr>\n",
       "    <tr>\n",
       "      <th>160</th>\n",
       "      <td>Yemen</td>\n",
       "      <td>0.31</td>\n",
       "      <td>0.28</td>\n",
       "      <td>NaN</td>\n",
       "      <td>YEM</td>\n",
       "    </tr>\n",
       "    <tr>\n",
       "      <th>161</th>\n",
       "      <td>Zambia</td>\n",
       "      <td>0.35</td>\n",
       "      <td>0.39</td>\n",
       "      <td>NaN</td>\n",
       "      <td>ZMB</td>\n",
       "    </tr>\n",
       "    <tr>\n",
       "      <th>162</th>\n",
       "      <td>Zimbabwe</td>\n",
       "      <td>0.68</td>\n",
       "      <td>0.81</td>\n",
       "      <td>NaN</td>\n",
       "      <td>ZWE</td>\n",
       "    </tr>\n",
       "  </tbody>\n",
       "</table>\n",
       "<p>163 rows × 5 columns</p>\n",
       "</div>"
      ],
      "text/plain": [
       "    Region/Country/Economy  2017  2018  2019  Code\n",
       "0                   Africa  0.97  0.98   NaN  None\n",
       "1                   Africa  0.97  0.98   NaN  None\n",
       "2                  Albania  1.51  1.50   NaN   ALB\n",
       "3                  Algeria  3.15  3.25   NaN   DZA\n",
       "4                 Americas  6.93  7.02   NaN  None\n",
       "..                     ...   ...   ...   ...   ...\n",
       "158              Venezuela  4.20  3.90   NaN  None\n",
       "159               Viet Nam  2.02  2.37   NaN   VNM\n",
       "160                  Yemen  0.31  0.28   NaN   YEM\n",
       "161                 Zambia  0.35  0.39   NaN   ZMB\n",
       "162               Zimbabwe  0.68  0.81   NaN   ZWE\n",
       "\n",
       "[163 rows x 5 columns]"
      ]
     },
     "execution_count": 4,
     "metadata": {},
     "output_type": "execute_result"
    }
   ],
   "source": [
    "##try to keep only countries not regions\n",
    "\n",
    "df2['Code'] = [countries.get(country) for country in df2['Region/Country/Economy']]\n",
    "df2"
   ]
  },
  {
   "cell_type": "code",
   "execution_count": 5,
   "metadata": {},
   "outputs": [
    {
     "data": {
      "text/plain": [
       "Int64Index([  0,   1,   4,   8,   9,  18,  28,  29,  37,  39,  40,  50,  51,\n",
       "             53,  54,  56,  57,  58,  68,  70,  76,  84,  85,  98, 112, 114,\n",
       "            115, 119, 125, 126, 133, 143, 154, 158],\n",
       "           dtype='int64')"
      ]
     },
     "execution_count": 5,
     "metadata": {},
     "output_type": "execute_result"
    }
   ],
   "source": [
    "## check where na\n",
    "\n",
    "navals = df2['Code'].isna()\n",
    "navals[navals].index"
   ]
  },
  {
   "cell_type": "code",
   "execution_count": 6,
   "metadata": {},
   "outputs": [
    {
     "data": {
      "text/html": [
       "<div>\n",
       "<style scoped>\n",
       "    .dataframe tbody tr th:only-of-type {\n",
       "        vertical-align: middle;\n",
       "    }\n",
       "\n",
       "    .dataframe tbody tr th {\n",
       "        vertical-align: top;\n",
       "    }\n",
       "\n",
       "    .dataframe thead th {\n",
       "        text-align: right;\n",
       "    }\n",
       "</style>\n",
       "<table border=\"1\" class=\"dataframe\">\n",
       "  <thead>\n",
       "    <tr style=\"text-align: right;\">\n",
       "      <th></th>\n",
       "      <th>Region/Country/Economy</th>\n",
       "      <th>2017</th>\n",
       "      <th>2018</th>\n",
       "      <th>2019</th>\n",
       "      <th>Code</th>\n",
       "    </tr>\n",
       "  </thead>\n",
       "  <tbody>\n",
       "    <tr>\n",
       "      <th>158</th>\n",
       "      <td>Venezuela</td>\n",
       "      <td>4.2</td>\n",
       "      <td>3.9</td>\n",
       "      <td>NaN</td>\n",
       "      <td>None</td>\n",
       "    </tr>\n",
       "  </tbody>\n",
       "</table>\n",
       "</div>"
      ],
      "text/plain": [
       "    Region/Country/Economy  2017  2018  2019  Code\n",
       "158              Venezuela   4.2   3.9   NaN  None"
      ]
     },
     "execution_count": 6,
     "metadata": {},
     "output_type": "execute_result"
    }
   ],
   "source": [
    "df2.at[18, 'Code'] = 'BOL'\n",
    "df2[df2.index == 158]"
   ]
  },
  {
   "cell_type": "code",
   "execution_count": 7,
   "metadata": {},
   "outputs": [
    {
     "data": {
      "text/html": [
       "<div>\n",
       "<style scoped>\n",
       "    .dataframe tbody tr th:only-of-type {\n",
       "        vertical-align: middle;\n",
       "    }\n",
       "\n",
       "    .dataframe tbody tr th {\n",
       "        vertical-align: top;\n",
       "    }\n",
       "\n",
       "    .dataframe thead th {\n",
       "        text-align: right;\n",
       "    }\n",
       "</style>\n",
       "<table border=\"1\" class=\"dataframe\">\n",
       "  <thead>\n",
       "    <tr style=\"text-align: right;\">\n",
       "      <th></th>\n",
       "      <th>Region/Country/Economy</th>\n",
       "      <th>2017</th>\n",
       "      <th>2018</th>\n",
       "      <th>2019</th>\n",
       "      <th>Code</th>\n",
       "    </tr>\n",
       "  </thead>\n",
       "  <tbody>\n",
       "    <tr>\n",
       "      <th>158</th>\n",
       "      <td>Venezuela</td>\n",
       "      <td>4.2</td>\n",
       "      <td>3.9</td>\n",
       "      <td>NaN</td>\n",
       "      <td>VEN</td>\n",
       "    </tr>\n",
       "  </tbody>\n",
       "</table>\n",
       "</div>"
      ],
      "text/plain": [
       "    Region/Country/Economy  2017  2018  2019 Code\n",
       "158              Venezuela   4.2   3.9   NaN  VEN"
      ]
     },
     "execution_count": 7,
     "metadata": {},
     "output_type": "execute_result"
    }
   ],
   "source": [
    "df2.at[29, 'Code'] = 'TWN'\n",
    "df2.at[37, 'Code'] = 'CZE'\n",
    "df2.at[40, 'Code'] = 'COD'\n",
    "df2.at[76, 'Code'] = 'IRN'\n",
    "df2.at[84, 'Code'] = 'KOR'\n",
    "df2.at[119, 'Code'] = 'CHN'\n",
    "df2.at[125, 'Code'] = 'MDA'\n",
    "df2.at[133, 'Code'] = 'SVK'\n",
    "df2.at[143, 'Code'] = 'SYR'\n",
    "df2.at[154, 'Code'] = 'TZA'\n",
    "df2.at[158, 'Code'] = 'VEN'\n",
    "df2[df2.index == 158]"
   ]
  },
  {
   "cell_type": "code",
   "execution_count": 8,
   "metadata": {
    "scrolled": true
   },
   "outputs": [
    {
     "data": {
      "text/html": [
       "<div>\n",
       "<style scoped>\n",
       "    .dataframe tbody tr th:only-of-type {\n",
       "        vertical-align: middle;\n",
       "    }\n",
       "\n",
       "    .dataframe tbody tr th {\n",
       "        vertical-align: top;\n",
       "    }\n",
       "\n",
       "    .dataframe thead th {\n",
       "        text-align: right;\n",
       "    }\n",
       "</style>\n",
       "<table border=\"1\" class=\"dataframe\">\n",
       "  <thead>\n",
       "    <tr style=\"text-align: right;\">\n",
       "      <th></th>\n",
       "      <th>Country</th>\n",
       "      <th>2017</th>\n",
       "      <th>2018</th>\n",
       "      <th>2019</th>\n",
       "      <th>Code</th>\n",
       "    </tr>\n",
       "  </thead>\n",
       "  <tbody>\n",
       "    <tr>\n",
       "      <th>2</th>\n",
       "      <td>Albania</td>\n",
       "      <td>1.51</td>\n",
       "      <td>1.50</td>\n",
       "      <td>NaN</td>\n",
       "      <td>ALB</td>\n",
       "    </tr>\n",
       "    <tr>\n",
       "      <th>3</th>\n",
       "      <td>Algeria</td>\n",
       "      <td>3.15</td>\n",
       "      <td>3.25</td>\n",
       "      <td>NaN</td>\n",
       "      <td>DZA</td>\n",
       "    </tr>\n",
       "    <tr>\n",
       "      <th>5</th>\n",
       "      <td>Angola</td>\n",
       "      <td>0.63</td>\n",
       "      <td>0.61</td>\n",
       "      <td>NaN</td>\n",
       "      <td>AGO</td>\n",
       "    </tr>\n",
       "    <tr>\n",
       "      <th>6</th>\n",
       "      <td>Argentina</td>\n",
       "      <td>3.95</td>\n",
       "      <td>3.85</td>\n",
       "      <td>NaN</td>\n",
       "      <td>ARG</td>\n",
       "    </tr>\n",
       "    <tr>\n",
       "      <th>7</th>\n",
       "      <td>Armenia</td>\n",
       "      <td>1.75</td>\n",
       "      <td>1.83</td>\n",
       "      <td>NaN</td>\n",
       "      <td>ARM</td>\n",
       "    </tr>\n",
       "    <tr>\n",
       "      <th>...</th>\n",
       "      <td>...</td>\n",
       "      <td>...</td>\n",
       "      <td>...</td>\n",
       "      <td>...</td>\n",
       "      <td>...</td>\n",
       "    </tr>\n",
       "    <tr>\n",
       "      <th>158</th>\n",
       "      <td>Venezuela</td>\n",
       "      <td>4.20</td>\n",
       "      <td>3.90</td>\n",
       "      <td>NaN</td>\n",
       "      <td>VEN</td>\n",
       "    </tr>\n",
       "    <tr>\n",
       "      <th>159</th>\n",
       "      <td>Viet Nam</td>\n",
       "      <td>2.02</td>\n",
       "      <td>2.37</td>\n",
       "      <td>NaN</td>\n",
       "      <td>VNM</td>\n",
       "    </tr>\n",
       "    <tr>\n",
       "      <th>160</th>\n",
       "      <td>Yemen</td>\n",
       "      <td>0.31</td>\n",
       "      <td>0.28</td>\n",
       "      <td>NaN</td>\n",
       "      <td>YEM</td>\n",
       "    </tr>\n",
       "    <tr>\n",
       "      <th>161</th>\n",
       "      <td>Zambia</td>\n",
       "      <td>0.35</td>\n",
       "      <td>0.39</td>\n",
       "      <td>NaN</td>\n",
       "      <td>ZMB</td>\n",
       "    </tr>\n",
       "    <tr>\n",
       "      <th>162</th>\n",
       "      <td>Zimbabwe</td>\n",
       "      <td>0.68</td>\n",
       "      <td>0.81</td>\n",
       "      <td>NaN</td>\n",
       "      <td>ZWE</td>\n",
       "    </tr>\n",
       "  </tbody>\n",
       "</table>\n",
       "<p>141 rows × 5 columns</p>\n",
       "</div>"
      ],
      "text/plain": [
       "       Country  2017  2018  2019 Code\n",
       "2      Albania  1.51  1.50   NaN  ALB\n",
       "3      Algeria  3.15  3.25   NaN  DZA\n",
       "5       Angola  0.63  0.61   NaN  AGO\n",
       "6    Argentina  3.95  3.85   NaN  ARG\n",
       "7      Armenia  1.75  1.83   NaN  ARM\n",
       "..         ...   ...   ...   ...  ...\n",
       "158  Venezuela  4.20  3.90   NaN  VEN\n",
       "159   Viet Nam  2.02  2.37   NaN  VNM\n",
       "160      Yemen  0.31  0.28   NaN  YEM\n",
       "161     Zambia  0.35  0.39   NaN  ZMB\n",
       "162   Zimbabwe  0.68  0.81   NaN  ZWE\n",
       "\n",
       "[141 rows x 5 columns]"
      ]
     },
     "execution_count": 8,
     "metadata": {},
     "output_type": "execute_result"
    }
   ],
   "source": [
    "df = df2.dropna(subset=['Code'])\n",
    "df = df.rename(columns={'Region/Country/Economy' : 'Country'})\n",
    "df"
   ]
  },
  {
   "cell_type": "code",
   "execution_count": 9,
   "metadata": {
    "scrolled": true
   },
   "outputs": [
    {
     "data": {
      "text/plain": [
       "<AxesSubplot:xlabel='2018', ylabel='Country'>"
      ]
     },
     "execution_count": 9,
     "metadata": {},
     "output_type": "execute_result"
    },
    {
     "data": {
      "image/png": "[encoded data removed]",
      "text/plain": [
       "<Figure size 432x288 with 1 Axes>"
      ]
     },
     "metadata": {
      "needs_background": "light"
     },
     "output_type": "display_data"
    }
   ],
   "source": [
    "df = df.sort_values(by='2018', ascending=False)\n",
    "top = df[:10]\n",
    "sns.barplot(x=top['2018'], y=top['Country'])"
   ]
  },
  {
   "cell_type": "code",
   "execution_count": 10,
   "metadata": {},
   "outputs": [
    {
     "data": {
      "text/plain": [
       "<AxesSubplot:xlabel='2018', ylabel='Country'>"
      ]
     },
     "execution_count": 10,
     "metadata": {},
     "output_type": "execute_result"
    },
    {
     "data": {
      "image/png": "[encoded data removed]",
      "text/plain": [
       "<Figure size 432x288 with 1 Axes>"
      ]
     },
     "metadata": {
      "needs_background": "light"
     },
     "output_type": "display_data"
    }
   ],
   "source": [
    "bottom = df[-10:]\n",
    "sns.barplot(x=bottom['2018'], y=bottom['Country'])"
   ]
  },
  {
   "cell_type": "code",
   "execution_count": 11,
   "metadata": {},
   "outputs": [
    {
     "name": "stdout",
     "output_type": "stream",
     "text": [
      "             2017        2018       2019\n",
      "count  141.000000  141.000000  36.000000\n",
      "mean     5.095887    5.058865   7.001111\n",
      "std      5.417828    5.315464   3.384228\n",
      "min      0.030000    0.020000   3.160000\n",
      "25%      1.220000    1.240000   4.822500\n",
      "50%      3.580000    3.580000   5.780000\n",
      "75%      6.780000    6.830000   8.005000\n",
      "max     30.950000   31.270000  15.320000\n"
     ]
    }
   ],
   "source": [
    "print(df.describe())"
   ]
  },
  {
   "cell_type": "code",
   "execution_count": 12,
   "metadata": {},
   "outputs": [
    {
     "data": {
      "text/plain": [
       "<AxesSubplot:>"
      ]
     },
     "execution_count": 12,
     "metadata": {},
     "output_type": "execute_result"
    },
    {
     "data": {
      "image/png": "[encoded data removed]",
      "text/plain": [
       "<Figure size 432x288 with 1 Axes>"
      ]
     },
     "metadata": {
      "needs_background": "light"
     },
     "output_type": "display_data"
    }
   ],
   "source": [
    "df.boxplot()"
   ]
  },
  {
   "cell_type": "code",
   "execution_count": 13,
   "metadata": {},
   "outputs": [
    {
     "data": {
      "text/plain": [
       "array([[<AxesSubplot:title={'center':'2017'}>,\n",
       "        <AxesSubplot:title={'center':'2018'}>],\n",
       "       [<AxesSubplot:title={'center':'2019'}>, <AxesSubplot:>]],\n",
       "      dtype=object)"
      ]
     },
     "execution_count": 13,
     "metadata": {},
     "output_type": "execute_result"
    },
    {
     "data": {
      "image/png": "[encoded data removed]",
      "text/plain": [
       "<Figure size 720x720 with 4 Axes>"
      ]
     },
     "metadata": {
      "needs_background": "light"
     },
     "output_type": "display_data"
    }
   ],
   "source": [
    "df.hist(figsize=(10,10))"
   ]
  },
  {
   "cell_type": "markdown",
   "metadata": {},
   "source": [
    "# GRO data import"
   ]
  },
  {
   "cell_type": "code",
   "execution_count": 14,
   "metadata": {},
   "outputs": [],
   "source": [
    "GRO = pd.read_excel('https://recovery.smithschool.ox.ac.uk/wp-content/uploads/2021/05/20210524-Global-Recovery-Observatory-publicv2.xlsx', sheet_name=\"COVID-19 Measures\",\n",
    "                  na_values=[\"..\"], usecols={'Country', 'Total Value, USD (billions)', 'Clean archetype?', 'Recovery?'})\n",
    "index = GRO[GRO['Recovery?'] != 1].index\n",
    "rec = GRO.drop(index, inplace=False)\n",
    "rec = rec.groupby([\"Country\"], as_index=False).sum()\n",
    "rec = rec.drop(columns=['Recovery?', 'Clean archetype?'])\n",
    "\n",
    "index2 = GRO[GRO['Clean archetype?'] != 1].index\n",
    "greenrec = GRO.drop(index2, inplace=False)\n",
    "index = greenrec[greenrec['Recovery?'] != 1].index\n",
    "greenrec.drop(index, inplace=True)\n",
    "greenrec = greenrec.groupby([\"Country\"], as_index=False).sum()\n",
    "greenrec = greenrec.drop(columns=['Recovery?', 'Clean archetype?'])"
   ]
  },
  {
   "cell_type": "code",
   "execution_count": 15,
   "metadata": {},
   "outputs": [
    {
     "data": {
      "text/html": [
       "<div>\n",
       "<style scoped>\n",
       "    .dataframe tbody tr th:only-of-type {\n",
       "        vertical-align: middle;\n",
       "    }\n",
       "\n",
       "    .dataframe tbody tr th {\n",
       "        vertical-align: top;\n",
       "    }\n",
       "\n",
       "    .dataframe thead th {\n",
       "        text-align: right;\n",
       "    }\n",
       "</style>\n",
       "<table border=\"1\" class=\"dataframe\">\n",
       "  <thead>\n",
       "    <tr style=\"text-align: right;\">\n",
       "      <th></th>\n",
       "      <th>Country</th>\n",
       "      <th>Green recovery spending</th>\n",
       "      <th>Recovery spending</th>\n",
       "      <th>Percent</th>\n",
       "    </tr>\n",
       "  </thead>\n",
       "  <tbody>\n",
       "    <tr>\n",
       "      <th>0</th>\n",
       "      <td>Argentina</td>\n",
       "      <td>0.00</td>\n",
       "      <td>6.82</td>\n",
       "      <td>0.00</td>\n",
       "    </tr>\n",
       "    <tr>\n",
       "      <th>1</th>\n",
       "      <td>Australia</td>\n",
       "      <td>2.30</td>\n",
       "      <td>130.95</td>\n",
       "      <td>1.76</td>\n",
       "    </tr>\n",
       "    <tr>\n",
       "      <th>2</th>\n",
       "      <td>Austria</td>\n",
       "      <td>0.38</td>\n",
       "      <td>1.60</td>\n",
       "      <td>23.75</td>\n",
       "    </tr>\n",
       "    <tr>\n",
       "      <th>3</th>\n",
       "      <td>Bangladesh</td>\n",
       "      <td>0.55</td>\n",
       "      <td>0.63</td>\n",
       "      <td>87.30</td>\n",
       "    </tr>\n",
       "    <tr>\n",
       "      <th>4</th>\n",
       "      <td>Brazil</td>\n",
       "      <td>0.28</td>\n",
       "      <td>0.54</td>\n",
       "      <td>51.85</td>\n",
       "    </tr>\n",
       "    <tr>\n",
       "      <th>5</th>\n",
       "      <td>Burkina Faso</td>\n",
       "      <td>0.00</td>\n",
       "      <td>0.00</td>\n",
       "      <td>NaN</td>\n",
       "    </tr>\n",
       "    <tr>\n",
       "      <th>6</th>\n",
       "      <td>Canada</td>\n",
       "      <td>21.67</td>\n",
       "      <td>38.70</td>\n",
       "      <td>55.99</td>\n",
       "    </tr>\n",
       "    <tr>\n",
       "      <th>7</th>\n",
       "      <td>Chile</td>\n",
       "      <td>0.45</td>\n",
       "      <td>3.13</td>\n",
       "      <td>14.38</td>\n",
       "    </tr>\n",
       "    <tr>\n",
       "      <th>8</th>\n",
       "      <td>China</td>\n",
       "      <td>51.88</td>\n",
       "      <td>427.52</td>\n",
       "      <td>12.14</td>\n",
       "    </tr>\n",
       "    <tr>\n",
       "      <th>9</th>\n",
       "      <td>Colombia</td>\n",
       "      <td>0.15</td>\n",
       "      <td>0.32</td>\n",
       "      <td>46.88</td>\n",
       "    </tr>\n",
       "    <tr>\n",
       "      <th>10</th>\n",
       "      <td>Cuba</td>\n",
       "      <td>0.00</td>\n",
       "      <td>0.00</td>\n",
       "      <td>NaN</td>\n",
       "    </tr>\n",
       "    <tr>\n",
       "      <th>11</th>\n",
       "      <td>Denmark</td>\n",
       "      <td>8.24</td>\n",
       "      <td>13.29</td>\n",
       "      <td>62.00</td>\n",
       "    </tr>\n",
       "    <tr>\n",
       "      <th>12</th>\n",
       "      <td>Dominican Republic</td>\n",
       "      <td>0.00</td>\n",
       "      <td>0.21</td>\n",
       "      <td>0.00</td>\n",
       "    </tr>\n",
       "    <tr>\n",
       "      <th>13</th>\n",
       "      <td>EIB</td>\n",
       "      <td>238.24</td>\n",
       "      <td>315.63</td>\n",
       "      <td>75.48</td>\n",
       "    </tr>\n",
       "    <tr>\n",
       "      <th>14</th>\n",
       "      <td>European Union</td>\n",
       "      <td>78.71</td>\n",
       "      <td>793.80</td>\n",
       "      <td>9.92</td>\n",
       "    </tr>\n",
       "    <tr>\n",
       "      <th>15</th>\n",
       "      <td>Finland</td>\n",
       "      <td>2.79</td>\n",
       "      <td>4.81</td>\n",
       "      <td>58.00</td>\n",
       "    </tr>\n",
       "    <tr>\n",
       "      <th>16</th>\n",
       "      <td>France</td>\n",
       "      <td>40.01</td>\n",
       "      <td>112.52</td>\n",
       "      <td>35.56</td>\n",
       "    </tr>\n",
       "    <tr>\n",
       "      <th>17</th>\n",
       "      <td>Germany</td>\n",
       "      <td>47.43</td>\n",
       "      <td>100.22</td>\n",
       "      <td>47.33</td>\n",
       "    </tr>\n",
       "    <tr>\n",
       "      <th>18</th>\n",
       "      <td>Ghana</td>\n",
       "      <td>0.00</td>\n",
       "      <td>0.05</td>\n",
       "      <td>0.00</td>\n",
       "    </tr>\n",
       "    <tr>\n",
       "      <th>19</th>\n",
       "      <td>Honduras</td>\n",
       "      <td>0.00</td>\n",
       "      <td>0.09</td>\n",
       "      <td>0.00</td>\n",
       "    </tr>\n",
       "    <tr>\n",
       "      <th>20</th>\n",
       "      <td>India</td>\n",
       "      <td>0.82</td>\n",
       "      <td>16.07</td>\n",
       "      <td>5.10</td>\n",
       "    </tr>\n",
       "    <tr>\n",
       "      <th>21</th>\n",
       "      <td>Iraq</td>\n",
       "      <td>0.00</td>\n",
       "      <td>4.44</td>\n",
       "      <td>0.00</td>\n",
       "    </tr>\n",
       "    <tr>\n",
       "      <th>22</th>\n",
       "      <td>Ireland</td>\n",
       "      <td>0.36</td>\n",
       "      <td>5.71</td>\n",
       "      <td>6.30</td>\n",
       "    </tr>\n",
       "    <tr>\n",
       "      <th>23</th>\n",
       "      <td>Israel</td>\n",
       "      <td>0.62</td>\n",
       "      <td>2.17</td>\n",
       "      <td>28.57</td>\n",
       "    </tr>\n",
       "    <tr>\n",
       "      <th>24</th>\n",
       "      <td>Italy</td>\n",
       "      <td>0.90</td>\n",
       "      <td>58.66</td>\n",
       "      <td>1.53</td>\n",
       "    </tr>\n",
       "    <tr>\n",
       "      <th>25</th>\n",
       "      <td>Jamaica</td>\n",
       "      <td>0.05</td>\n",
       "      <td>0.05</td>\n",
       "      <td>100.00</td>\n",
       "    </tr>\n",
       "    <tr>\n",
       "      <th>26</th>\n",
       "      <td>Japan</td>\n",
       "      <td>23.67</td>\n",
       "      <td>192.83</td>\n",
       "      <td>12.28</td>\n",
       "    </tr>\n",
       "    <tr>\n",
       "      <th>27</th>\n",
       "      <td>Kenya</td>\n",
       "      <td>0.04</td>\n",
       "      <td>0.18</td>\n",
       "      <td>22.22</td>\n",
       "    </tr>\n",
       "    <tr>\n",
       "      <th>28</th>\n",
       "      <td>Mauritius</td>\n",
       "      <td>0.01</td>\n",
       "      <td>0.01</td>\n",
       "      <td>100.00</td>\n",
       "    </tr>\n",
       "    <tr>\n",
       "      <th>29</th>\n",
       "      <td>Mexico</td>\n",
       "      <td>0.00</td>\n",
       "      <td>25.16</td>\n",
       "      <td>0.00</td>\n",
       "    </tr>\n",
       "    <tr>\n",
       "      <th>30</th>\n",
       "      <td>Netherlands</td>\n",
       "      <td>0.18</td>\n",
       "      <td>27.17</td>\n",
       "      <td>0.66</td>\n",
       "    </tr>\n",
       "    <tr>\n",
       "      <th>31</th>\n",
       "      <td>Norway</td>\n",
       "      <td>4.42</td>\n",
       "      <td>8.26</td>\n",
       "      <td>53.51</td>\n",
       "    </tr>\n",
       "    <tr>\n",
       "      <th>32</th>\n",
       "      <td>Pakistan</td>\n",
       "      <td>0.13</td>\n",
       "      <td>2.81</td>\n",
       "      <td>4.63</td>\n",
       "    </tr>\n",
       "    <tr>\n",
       "      <th>33</th>\n",
       "      <td>Panama</td>\n",
       "      <td>0.18</td>\n",
       "      <td>0.36</td>\n",
       "      <td>50.00</td>\n",
       "    </tr>\n",
       "    <tr>\n",
       "      <th>34</th>\n",
       "      <td>Peru</td>\n",
       "      <td>0.00</td>\n",
       "      <td>12.88</td>\n",
       "      <td>0.00</td>\n",
       "    </tr>\n",
       "    <tr>\n",
       "      <th>35</th>\n",
       "      <td>Philippines</td>\n",
       "      <td>0.00</td>\n",
       "      <td>13.59</td>\n",
       "      <td>0.00</td>\n",
       "    </tr>\n",
       "    <tr>\n",
       "      <th>36</th>\n",
       "      <td>Poland</td>\n",
       "      <td>5.24</td>\n",
       "      <td>17.03</td>\n",
       "      <td>30.77</td>\n",
       "    </tr>\n",
       "    <tr>\n",
       "      <th>37</th>\n",
       "      <td>Senegal</td>\n",
       "      <td>0.10</td>\n",
       "      <td>0.53</td>\n",
       "      <td>18.87</td>\n",
       "    </tr>\n",
       "    <tr>\n",
       "      <th>38</th>\n",
       "      <td>South Korea</td>\n",
       "      <td>53.30</td>\n",
       "      <td>198.91</td>\n",
       "      <td>26.80</td>\n",
       "    </tr>\n",
       "    <tr>\n",
       "      <th>39</th>\n",
       "      <td>Spain</td>\n",
       "      <td>51.19</td>\n",
       "      <td>219.70</td>\n",
       "      <td>23.30</td>\n",
       "    </tr>\n",
       "    <tr>\n",
       "      <th>40</th>\n",
       "      <td>Sweden</td>\n",
       "      <td>1.10</td>\n",
       "      <td>2.64</td>\n",
       "      <td>41.67</td>\n",
       "    </tr>\n",
       "    <tr>\n",
       "      <th>41</th>\n",
       "      <td>Switzerland</td>\n",
       "      <td>1.57</td>\n",
       "      <td>2.93</td>\n",
       "      <td>53.58</td>\n",
       "    </tr>\n",
       "    <tr>\n",
       "      <th>42</th>\n",
       "      <td>Thailand</td>\n",
       "      <td>0.00</td>\n",
       "      <td>0.70</td>\n",
       "      <td>0.00</td>\n",
       "    </tr>\n",
       "    <tr>\n",
       "      <th>43</th>\n",
       "      <td>Turkey</td>\n",
       "      <td>2.44</td>\n",
       "      <td>2.44</td>\n",
       "      <td>100.00</td>\n",
       "    </tr>\n",
       "    <tr>\n",
       "      <th>44</th>\n",
       "      <td>United Kingdom</td>\n",
       "      <td>65.67</td>\n",
       "      <td>391.55</td>\n",
       "      <td>16.77</td>\n",
       "    </tr>\n",
       "    <tr>\n",
       "      <th>45</th>\n",
       "      <td>United States</td>\n",
       "      <td>9.90</td>\n",
       "      <td>122.89</td>\n",
       "      <td>8.06</td>\n",
       "    </tr>\n",
       "    <tr>\n",
       "      <th>46</th>\n",
       "      <td>Vietnam</td>\n",
       "      <td>0.00</td>\n",
       "      <td>0.00</td>\n",
       "      <td>NaN</td>\n",
       "    </tr>\n",
       "  </tbody>\n",
       "</table>\n",
       "</div>"
      ],
      "text/plain": [
       "               Country  Green recovery spending  Recovery spending  Percent\n",
       "0            Argentina                     0.00               6.82     0.00\n",
       "1            Australia                     2.30             130.95     1.76\n",
       "2              Austria                     0.38               1.60    23.75\n",
       "3           Bangladesh                     0.55               0.63    87.30\n",
       "4               Brazil                     0.28               0.54    51.85\n",
       "5         Burkina Faso                     0.00               0.00      NaN\n",
       "6               Canada                    21.67              38.70    55.99\n",
       "7                Chile                     0.45               3.13    14.38\n",
       "8                China                    51.88             427.52    12.14\n",
       "9             Colombia                     0.15               0.32    46.88\n",
       "10                Cuba                     0.00               0.00      NaN\n",
       "11             Denmark                     8.24              13.29    62.00\n",
       "12  Dominican Republic                     0.00               0.21     0.00\n",
       "13                 EIB                   238.24             315.63    75.48\n",
       "14      European Union                    78.71             793.80     9.92\n",
       "15             Finland                     2.79               4.81    58.00\n",
       "16              France                    40.01             112.52    35.56\n",
       "17             Germany                    47.43             100.22    47.33\n",
       "18               Ghana                     0.00               0.05     0.00\n",
       "19            Honduras                     0.00               0.09     0.00\n",
       "20               India                     0.82              16.07     5.10\n",
       "21                Iraq                     0.00               4.44     0.00\n",
       "22             Ireland                     0.36               5.71     6.30\n",
       "23              Israel                     0.62               2.17    28.57\n",
       "24               Italy                     0.90              58.66     1.53\n",
       "25             Jamaica                     0.05               0.05   100.00\n",
       "26               Japan                    23.67             192.83    12.28\n",
       "27               Kenya                     0.04               0.18    22.22\n",
       "28           Mauritius                     0.01               0.01   100.00\n",
       "29              Mexico                     0.00              25.16     0.00\n",
       "30         Netherlands                     0.18              27.17     0.66\n",
       "31              Norway                     4.42               8.26    53.51\n",
       "32            Pakistan                     0.13               2.81     4.63\n",
       "33              Panama                     0.18               0.36    50.00\n",
       "34                Peru                     0.00              12.88     0.00\n",
       "35         Philippines                     0.00              13.59     0.00\n",
       "36              Poland                     5.24              17.03    30.77\n",
       "37             Senegal                     0.10               0.53    18.87\n",
       "38         South Korea                    53.30             198.91    26.80\n",
       "39               Spain                    51.19             219.70    23.30\n",
       "40              Sweden                     1.10               2.64    41.67\n",
       "41         Switzerland                     1.57               2.93    53.58\n",
       "42            Thailand                     0.00               0.70     0.00\n",
       "43              Turkey                     2.44               2.44   100.00\n",
       "44      United Kingdom                    65.67             391.55    16.77\n",
       "45       United States                     9.90             122.89     8.06\n",
       "46             Vietnam                     0.00               0.00      NaN"
      ]
     },
     "execution_count": 15,
     "metadata": {},
     "output_type": "execute_result"
    }
   ],
   "source": [
    "merge = greenrec.merge(rec, how='left', left_on='Country', right_on='Country')\n",
    "merge['Percent'] = (merge['Total Value, USD (billions)_x'] / merge['Total Value, USD (billions)_y']) * 100\n",
    "merge.rename(columns = {\"Total Value, USD (billions)_x\" : \"Green recovery spending\", \"Total Value, USD (billions)_y\" : \"Recovery spending\"}, inplace=True)\n",
    "merge = merge.round({\"Percent\" : 2})\n",
    "merge"
   ]
  },
  {
   "cell_type": "code",
   "execution_count": 16,
   "metadata": {},
   "outputs": [],
   "source": [
    "df.at[119, 'Country'] = 'China'\n",
    "df.at[84, 'Country'] = 'South Korea'\n",
    "df.at[159, 'Country'] = 'Vietnam'"
   ]
  },
  {
   "cell_type": "code",
   "execution_count": 17,
   "metadata": {},
   "outputs": [
    {
     "data": {
      "text/html": [
       "<div>\n",
       "<style scoped>\n",
       "    .dataframe tbody tr th:only-of-type {\n",
       "        vertical-align: middle;\n",
       "    }\n",
       "\n",
       "    .dataframe tbody tr th {\n",
       "        vertical-align: top;\n",
       "    }\n",
       "\n",
       "    .dataframe thead th {\n",
       "        text-align: right;\n",
       "    }\n",
       "</style>\n",
       "<table border=\"1\" class=\"dataframe\">\n",
       "  <thead>\n",
       "    <tr style=\"text-align: right;\">\n",
       "      <th></th>\n",
       "      <th>Country</th>\n",
       "      <th>2017</th>\n",
       "      <th>2018</th>\n",
       "      <th>2019</th>\n",
       "      <th>Code</th>\n",
       "    </tr>\n",
       "  </thead>\n",
       "  <tbody>\n",
       "    <tr>\n",
       "      <th>159</th>\n",
       "      <td>Vietnam</td>\n",
       "      <td>2.02</td>\n",
       "      <td>2.37</td>\n",
       "      <td>NaN</td>\n",
       "      <td>VNM</td>\n",
       "    </tr>\n",
       "  </tbody>\n",
       "</table>\n",
       "</div>"
      ],
      "text/plain": [
       "     Country  2017  2018  2019 Code\n",
       "159  Vietnam  2.02  2.37   NaN  VNM"
      ]
     },
     "execution_count": 17,
     "metadata": {},
     "output_type": "execute_result"
    }
   ],
   "source": [
    "df[df['Code']=='VNM']"
   ]
  },
  {
   "cell_type": "code",
   "execution_count": 18,
   "metadata": {
    "scrolled": true
   },
   "outputs": [
    {
     "data": {
      "text/html": [
       "<div>\n",
       "<style scoped>\n",
       "    .dataframe tbody tr th:only-of-type {\n",
       "        vertical-align: middle;\n",
       "    }\n",
       "\n",
       "    .dataframe tbody tr th {\n",
       "        vertical-align: top;\n",
       "    }\n",
       "\n",
       "    .dataframe thead th {\n",
       "        text-align: right;\n",
       "    }\n",
       "</style>\n",
       "<table border=\"1\" class=\"dataframe\">\n",
       "  <thead>\n",
       "    <tr style=\"text-align: right;\">\n",
       "      <th></th>\n",
       "      <th>Country</th>\n",
       "      <th>Green recovery spending</th>\n",
       "      <th>Recovery spending</th>\n",
       "      <th>Percent</th>\n",
       "      <th>2017</th>\n",
       "      <th>2018</th>\n",
       "      <th>2019</th>\n",
       "      <th>Code</th>\n",
       "    </tr>\n",
       "  </thead>\n",
       "  <tbody>\n",
       "    <tr>\n",
       "      <th>0</th>\n",
       "      <td>Argentina</td>\n",
       "      <td>0.00</td>\n",
       "      <td>6.82</td>\n",
       "      <td>0.00</td>\n",
       "      <td>3.95</td>\n",
       "      <td>3.85</td>\n",
       "      <td>NaN</td>\n",
       "      <td>ARG</td>\n",
       "    </tr>\n",
       "    <tr>\n",
       "      <th>1</th>\n",
       "      <td>Australia</td>\n",
       "      <td>2.30</td>\n",
       "      <td>130.95</td>\n",
       "      <td>1.76</td>\n",
       "      <td>15.60</td>\n",
       "      <td>15.32</td>\n",
       "      <td>15.32</td>\n",
       "      <td>AUS</td>\n",
       "    </tr>\n",
       "    <tr>\n",
       "      <th>2</th>\n",
       "      <td>Austria</td>\n",
       "      <td>0.38</td>\n",
       "      <td>1.60</td>\n",
       "      <td>23.75</td>\n",
       "      <td>7.29</td>\n",
       "      <td>6.96</td>\n",
       "      <td>7.07</td>\n",
       "      <td>AUT</td>\n",
       "    </tr>\n",
       "    <tr>\n",
       "      <th>3</th>\n",
       "      <td>Bangladesh</td>\n",
       "      <td>0.55</td>\n",
       "      <td>0.63</td>\n",
       "      <td>87.30</td>\n",
       "      <td>0.49</td>\n",
       "      <td>0.51</td>\n",
       "      <td>NaN</td>\n",
       "      <td>BGD</td>\n",
       "    </tr>\n",
       "    <tr>\n",
       "      <th>4</th>\n",
       "      <td>Brazil</td>\n",
       "      <td>0.28</td>\n",
       "      <td>0.54</td>\n",
       "      <td>51.85</td>\n",
       "      <td>2.06</td>\n",
       "      <td>1.94</td>\n",
       "      <td>NaN</td>\n",
       "      <td>BRA</td>\n",
       "    </tr>\n",
       "    <tr>\n",
       "      <th>5</th>\n",
       "      <td>Burkina Faso</td>\n",
       "      <td>0.00</td>\n",
       "      <td>0.00</td>\n",
       "      <td>NaN</td>\n",
       "      <td>NaN</td>\n",
       "      <td>NaN</td>\n",
       "      <td>NaN</td>\n",
       "      <td>NaN</td>\n",
       "    </tr>\n",
       "    <tr>\n",
       "      <th>6</th>\n",
       "      <td>Canada</td>\n",
       "      <td>21.67</td>\n",
       "      <td>38.70</td>\n",
       "      <td>55.99</td>\n",
       "      <td>15.14</td>\n",
       "      <td>15.25</td>\n",
       "      <td>15.21</td>\n",
       "      <td>CAN</td>\n",
       "    </tr>\n",
       "    <tr>\n",
       "      <th>7</th>\n",
       "      <td>Chile</td>\n",
       "      <td>0.45</td>\n",
       "      <td>3.13</td>\n",
       "      <td>14.38</td>\n",
       "      <td>4.65</td>\n",
       "      <td>4.57</td>\n",
       "      <td>4.95</td>\n",
       "      <td>CHL</td>\n",
       "    </tr>\n",
       "    <tr>\n",
       "      <th>8</th>\n",
       "      <td>China</td>\n",
       "      <td>51.88</td>\n",
       "      <td>427.52</td>\n",
       "      <td>12.14</td>\n",
       "      <td>6.67</td>\n",
       "      <td>6.84</td>\n",
       "      <td>NaN</td>\n",
       "      <td>CHN</td>\n",
       "    </tr>\n",
       "    <tr>\n",
       "      <th>9</th>\n",
       "      <td>Colombia</td>\n",
       "      <td>0.15</td>\n",
       "      <td>0.32</td>\n",
       "      <td>46.88</td>\n",
       "      <td>1.42</td>\n",
       "      <td>1.47</td>\n",
       "      <td>NaN</td>\n",
       "      <td>COL</td>\n",
       "    </tr>\n",
       "    <tr>\n",
       "      <th>10</th>\n",
       "      <td>Cuba</td>\n",
       "      <td>0.00</td>\n",
       "      <td>0.00</td>\n",
       "      <td>NaN</td>\n",
       "      <td>2.21</td>\n",
       "      <td>2.15</td>\n",
       "      <td>NaN</td>\n",
       "      <td>CUB</td>\n",
       "    </tr>\n",
       "    <tr>\n",
       "      <th>11</th>\n",
       "      <td>Denmark</td>\n",
       "      <td>8.24</td>\n",
       "      <td>13.29</td>\n",
       "      <td>62.00</td>\n",
       "      <td>5.54</td>\n",
       "      <td>5.53</td>\n",
       "      <td>4.94</td>\n",
       "      <td>DNK</td>\n",
       "    </tr>\n",
       "    <tr>\n",
       "      <th>12</th>\n",
       "      <td>Dominican Republic</td>\n",
       "      <td>0.00</td>\n",
       "      <td>0.21</td>\n",
       "      <td>0.00</td>\n",
       "      <td>2.04</td>\n",
       "      <td>2.18</td>\n",
       "      <td>NaN</td>\n",
       "      <td>DOM</td>\n",
       "    </tr>\n",
       "    <tr>\n",
       "      <th>13</th>\n",
       "      <td>EIB</td>\n",
       "      <td>238.24</td>\n",
       "      <td>315.63</td>\n",
       "      <td>75.48</td>\n",
       "      <td>NaN</td>\n",
       "      <td>NaN</td>\n",
       "      <td>NaN</td>\n",
       "      <td>NaN</td>\n",
       "    </tr>\n",
       "    <tr>\n",
       "      <th>14</th>\n",
       "      <td>European Union</td>\n",
       "      <td>78.71</td>\n",
       "      <td>793.80</td>\n",
       "      <td>9.92</td>\n",
       "      <td>NaN</td>\n",
       "      <td>NaN</td>\n",
       "      <td>NaN</td>\n",
       "      <td>NaN</td>\n",
       "    </tr>\n",
       "    <tr>\n",
       "      <th>15</th>\n",
       "      <td>Finland</td>\n",
       "      <td>2.79</td>\n",
       "      <td>4.81</td>\n",
       "      <td>58.00</td>\n",
       "      <td>7.70</td>\n",
       "      <td>7.93</td>\n",
       "      <td>7.52</td>\n",
       "      <td>FIN</td>\n",
       "    </tr>\n",
       "    <tr>\n",
       "      <th>16</th>\n",
       "      <td>France</td>\n",
       "      <td>40.01</td>\n",
       "      <td>112.52</td>\n",
       "      <td>35.56</td>\n",
       "      <td>4.62</td>\n",
       "      <td>4.51</td>\n",
       "      <td>4.35</td>\n",
       "      <td>FRA</td>\n",
       "    </tr>\n",
       "    <tr>\n",
       "      <th>17</th>\n",
       "      <td>Germany</td>\n",
       "      <td>47.43</td>\n",
       "      <td>100.22</td>\n",
       "      <td>47.33</td>\n",
       "      <td>8.70</td>\n",
       "      <td>8.40</td>\n",
       "      <td>7.93</td>\n",
       "      <td>DEU</td>\n",
       "    </tr>\n",
       "    <tr>\n",
       "      <th>18</th>\n",
       "      <td>Ghana</td>\n",
       "      <td>0.00</td>\n",
       "      <td>0.05</td>\n",
       "      <td>0.00</td>\n",
       "      <td>0.45</td>\n",
       "      <td>0.49</td>\n",
       "      <td>NaN</td>\n",
       "      <td>GHA</td>\n",
       "    </tr>\n",
       "    <tr>\n",
       "      <th>19</th>\n",
       "      <td>Honduras</td>\n",
       "      <td>0.00</td>\n",
       "      <td>0.09</td>\n",
       "      <td>0.00</td>\n",
       "      <td>0.88</td>\n",
       "      <td>0.95</td>\n",
       "      <td>NaN</td>\n",
       "      <td>HND</td>\n",
       "    </tr>\n",
       "    <tr>\n",
       "      <th>20</th>\n",
       "      <td>India</td>\n",
       "      <td>0.82</td>\n",
       "      <td>16.07</td>\n",
       "      <td>5.10</td>\n",
       "      <td>1.64</td>\n",
       "      <td>1.71</td>\n",
       "      <td>NaN</td>\n",
       "      <td>IND</td>\n",
       "    </tr>\n",
       "    <tr>\n",
       "      <th>21</th>\n",
       "      <td>Iraq</td>\n",
       "      <td>0.00</td>\n",
       "      <td>4.44</td>\n",
       "      <td>0.00</td>\n",
       "      <td>3.71</td>\n",
       "      <td>3.99</td>\n",
       "      <td>NaN</td>\n",
       "      <td>IRQ</td>\n",
       "    </tr>\n",
       "    <tr>\n",
       "      <th>22</th>\n",
       "      <td>Ireland</td>\n",
       "      <td>0.36</td>\n",
       "      <td>5.71</td>\n",
       "      <td>6.30</td>\n",
       "      <td>7.43</td>\n",
       "      <td>7.26</td>\n",
       "      <td>6.78</td>\n",
       "      <td>IRL</td>\n",
       "    </tr>\n",
       "    <tr>\n",
       "      <th>23</th>\n",
       "      <td>Israel</td>\n",
       "      <td>0.62</td>\n",
       "      <td>2.17</td>\n",
       "      <td>28.57</td>\n",
       "      <td>7.31</td>\n",
       "      <td>6.71</td>\n",
       "      <td>7.01</td>\n",
       "      <td>ISR</td>\n",
       "    </tr>\n",
       "    <tr>\n",
       "      <th>24</th>\n",
       "      <td>Italy</td>\n",
       "      <td>0.90</td>\n",
       "      <td>58.66</td>\n",
       "      <td>1.53</td>\n",
       "      <td>5.31</td>\n",
       "      <td>5.25</td>\n",
       "      <td>5.01</td>\n",
       "      <td>ITA</td>\n",
       "    </tr>\n",
       "    <tr>\n",
       "      <th>25</th>\n",
       "      <td>Jamaica</td>\n",
       "      <td>0.05</td>\n",
       "      <td>0.05</td>\n",
       "      <td>100.00</td>\n",
       "      <td>2.34</td>\n",
       "      <td>2.79</td>\n",
       "      <td>NaN</td>\n",
       "      <td>JAM</td>\n",
       "    </tr>\n",
       "    <tr>\n",
       "      <th>26</th>\n",
       "      <td>Japan</td>\n",
       "      <td>23.67</td>\n",
       "      <td>192.83</td>\n",
       "      <td>12.28</td>\n",
       "      <td>8.88</td>\n",
       "      <td>8.55</td>\n",
       "      <td>8.45</td>\n",
       "      <td>JPN</td>\n",
       "    </tr>\n",
       "    <tr>\n",
       "      <th>27</th>\n",
       "      <td>Kenya</td>\n",
       "      <td>0.04</td>\n",
       "      <td>0.18</td>\n",
       "      <td>22.22</td>\n",
       "      <td>0.33</td>\n",
       "      <td>0.31</td>\n",
       "      <td>NaN</td>\n",
       "      <td>KEN</td>\n",
       "    </tr>\n",
       "    <tr>\n",
       "      <th>28</th>\n",
       "      <td>Mauritius</td>\n",
       "      <td>0.01</td>\n",
       "      <td>0.01</td>\n",
       "      <td>100.00</td>\n",
       "      <td>3.30</td>\n",
       "      <td>3.27</td>\n",
       "      <td>NaN</td>\n",
       "      <td>MUS</td>\n",
       "    </tr>\n",
       "    <tr>\n",
       "      <th>29</th>\n",
       "      <td>Mexico</td>\n",
       "      <td>0.00</td>\n",
       "      <td>25.16</td>\n",
       "      <td>0.00</td>\n",
       "      <td>3.62</td>\n",
       "      <td>3.60</td>\n",
       "      <td>3.62</td>\n",
       "      <td>MEX</td>\n",
       "    </tr>\n",
       "    <tr>\n",
       "      <th>30</th>\n",
       "      <td>Netherlands</td>\n",
       "      <td>0.18</td>\n",
       "      <td>27.17</td>\n",
       "      <td>0.66</td>\n",
       "      <td>9.08</td>\n",
       "      <td>8.76</td>\n",
       "      <td>8.23</td>\n",
       "      <td>NLD</td>\n",
       "    </tr>\n",
       "    <tr>\n",
       "      <th>31</th>\n",
       "      <td>Norway</td>\n",
       "      <td>4.42</td>\n",
       "      <td>8.26</td>\n",
       "      <td>53.51</td>\n",
       "      <td>6.74</td>\n",
       "      <td>6.78</td>\n",
       "      <td>4.87</td>\n",
       "      <td>NOR</td>\n",
       "    </tr>\n",
       "    <tr>\n",
       "      <th>32</th>\n",
       "      <td>Pakistan</td>\n",
       "      <td>0.13</td>\n",
       "      <td>2.81</td>\n",
       "      <td>4.63</td>\n",
       "      <td>0.88</td>\n",
       "      <td>0.92</td>\n",
       "      <td>NaN</td>\n",
       "      <td>PAK</td>\n",
       "    </tr>\n",
       "    <tr>\n",
       "      <th>33</th>\n",
       "      <td>Panama</td>\n",
       "      <td>0.18</td>\n",
       "      <td>0.36</td>\n",
       "      <td>50.00</td>\n",
       "      <td>2.29</td>\n",
       "      <td>2.22</td>\n",
       "      <td>NaN</td>\n",
       "      <td>PAN</td>\n",
       "    </tr>\n",
       "    <tr>\n",
       "      <th>34</th>\n",
       "      <td>Peru</td>\n",
       "      <td>0.00</td>\n",
       "      <td>12.88</td>\n",
       "      <td>0.00</td>\n",
       "      <td>1.58</td>\n",
       "      <td>1.56</td>\n",
       "      <td>NaN</td>\n",
       "      <td>PER</td>\n",
       "    </tr>\n",
       "    <tr>\n",
       "      <th>35</th>\n",
       "      <td>Philippines</td>\n",
       "      <td>0.00</td>\n",
       "      <td>13.59</td>\n",
       "      <td>0.00</td>\n",
       "      <td>1.20</td>\n",
       "      <td>1.24</td>\n",
       "      <td>NaN</td>\n",
       "      <td>PHL</td>\n",
       "    </tr>\n",
       "    <tr>\n",
       "      <th>36</th>\n",
       "      <td>Poland</td>\n",
       "      <td>5.24</td>\n",
       "      <td>17.03</td>\n",
       "      <td>30.77</td>\n",
       "      <td>7.96</td>\n",
       "      <td>7.96</td>\n",
       "      <td>7.63</td>\n",
       "      <td>POL</td>\n",
       "    </tr>\n",
       "    <tr>\n",
       "      <th>37</th>\n",
       "      <td>Senegal</td>\n",
       "      <td>0.10</td>\n",
       "      <td>0.53</td>\n",
       "      <td>18.87</td>\n",
       "      <td>0.50</td>\n",
       "      <td>0.51</td>\n",
       "      <td>NaN</td>\n",
       "      <td>SEN</td>\n",
       "    </tr>\n",
       "    <tr>\n",
       "      <th>38</th>\n",
       "      <td>South Korea</td>\n",
       "      <td>53.30</td>\n",
       "      <td>198.91</td>\n",
       "      <td>26.80</td>\n",
       "      <td>11.68</td>\n",
       "      <td>11.74</td>\n",
       "      <td>11.31</td>\n",
       "      <td>KOR</td>\n",
       "    </tr>\n",
       "    <tr>\n",
       "      <th>39</th>\n",
       "      <td>Spain</td>\n",
       "      <td>51.19</td>\n",
       "      <td>219.70</td>\n",
       "      <td>23.30</td>\n",
       "      <td>5.46</td>\n",
       "      <td>5.33</td>\n",
       "      <td>4.88</td>\n",
       "      <td>ESP</td>\n",
       "    </tr>\n",
       "    <tr>\n",
       "      <th>40</th>\n",
       "      <td>Sweden</td>\n",
       "      <td>1.10</td>\n",
       "      <td>2.64</td>\n",
       "      <td>41.67</td>\n",
       "      <td>3.66</td>\n",
       "      <td>3.39</td>\n",
       "      <td>3.16</td>\n",
       "      <td>SWE</td>\n",
       "    </tr>\n",
       "    <tr>\n",
       "      <th>41</th>\n",
       "      <td>Switzerland</td>\n",
       "      <td>1.57</td>\n",
       "      <td>2.93</td>\n",
       "      <td>53.58</td>\n",
       "      <td>4.36</td>\n",
       "      <td>4.20</td>\n",
       "      <td>4.23</td>\n",
       "      <td>CHE</td>\n",
       "    </tr>\n",
       "    <tr>\n",
       "      <th>42</th>\n",
       "      <td>Thailand</td>\n",
       "      <td>0.00</td>\n",
       "      <td>0.70</td>\n",
       "      <td>0.00</td>\n",
       "      <td>3.52</td>\n",
       "      <td>3.47</td>\n",
       "      <td>NaN</td>\n",
       "      <td>THA</td>\n",
       "    </tr>\n",
       "    <tr>\n",
       "      <th>43</th>\n",
       "      <td>Turkey</td>\n",
       "      <td>2.44</td>\n",
       "      <td>2.44</td>\n",
       "      <td>100.00</td>\n",
       "      <td>4.71</td>\n",
       "      <td>4.60</td>\n",
       "      <td>4.51</td>\n",
       "      <td>TUR</td>\n",
       "    </tr>\n",
       "    <tr>\n",
       "      <th>44</th>\n",
       "      <td>United Kingdom</td>\n",
       "      <td>65.67</td>\n",
       "      <td>391.55</td>\n",
       "      <td>16.77</td>\n",
       "      <td>5.45</td>\n",
       "      <td>5.30</td>\n",
       "      <td>5.08</td>\n",
       "      <td>GBR</td>\n",
       "    </tr>\n",
       "    <tr>\n",
       "      <th>45</th>\n",
       "      <td>United States</td>\n",
       "      <td>9.90</td>\n",
       "      <td>122.89</td>\n",
       "      <td>8.06</td>\n",
       "      <td>14.63</td>\n",
       "      <td>15.03</td>\n",
       "      <td>14.49</td>\n",
       "      <td>USA</td>\n",
       "    </tr>\n",
       "    <tr>\n",
       "      <th>46</th>\n",
       "      <td>Vietnam</td>\n",
       "      <td>0.00</td>\n",
       "      <td>0.00</td>\n",
       "      <td>NaN</td>\n",
       "      <td>2.02</td>\n",
       "      <td>2.37</td>\n",
       "      <td>NaN</td>\n",
       "      <td>VNM</td>\n",
       "    </tr>\n",
       "  </tbody>\n",
       "</table>\n",
       "</div>"
      ],
      "text/plain": [
       "               Country  Green recovery spending  Recovery spending  Percent  \\\n",
       "0            Argentina                     0.00               6.82     0.00   \n",
       "1            Australia                     2.30             130.95     1.76   \n",
       "2              Austria                     0.38               1.60    23.75   \n",
       "3           Bangladesh                     0.55               0.63    87.30   \n",
       "4               Brazil                     0.28               0.54    51.85   \n",
       "5         Burkina Faso                     0.00               0.00      NaN   \n",
       "6               Canada                    21.67              38.70    55.99   \n",
       "7                Chile                     0.45               3.13    14.38   \n",
       "8                China                    51.88             427.52    12.14   \n",
       "9             Colombia                     0.15               0.32    46.88   \n",
       "10                Cuba                     0.00               0.00      NaN   \n",
       "11             Denmark                     8.24              13.29    62.00   \n",
       "12  Dominican Republic                     0.00               0.21     0.00   \n",
       "13                 EIB                   238.24             315.63    75.48   \n",
       "14      European Union                    78.71             793.80     9.92   \n",
       "15             Finland                     2.79               4.81    58.00   \n",
       "16              France                    40.01             112.52    35.56   \n",
       "17             Germany                    47.43             100.22    47.33   \n",
       "18               Ghana                     0.00               0.05     0.00   \n",
       "19            Honduras                     0.00               0.09     0.00   \n",
       "20               India                     0.82              16.07     5.10   \n",
       "21                Iraq                     0.00               4.44     0.00   \n",
       "22             Ireland                     0.36               5.71     6.30   \n",
       "23              Israel                     0.62               2.17    28.57   \n",
       "24               Italy                     0.90              58.66     1.53   \n",
       "25             Jamaica                     0.05               0.05   100.00   \n",
       "26               Japan                    23.67             192.83    12.28   \n",
       "27               Kenya                     0.04               0.18    22.22   \n",
       "28           Mauritius                     0.01               0.01   100.00   \n",
       "29              Mexico                     0.00              25.16     0.00   \n",
       "30         Netherlands                     0.18              27.17     0.66   \n",
       "31              Norway                     4.42               8.26    53.51   \n",
       "32            Pakistan                     0.13               2.81     4.63   \n",
       "33              Panama                     0.18               0.36    50.00   \n",
       "34                Peru                     0.00              12.88     0.00   \n",
       "35         Philippines                     0.00              13.59     0.00   \n",
       "36              Poland                     5.24              17.03    30.77   \n",
       "37             Senegal                     0.10               0.53    18.87   \n",
       "38         South Korea                    53.30             198.91    26.80   \n",
       "39               Spain                    51.19             219.70    23.30   \n",
       "40              Sweden                     1.10               2.64    41.67   \n",
       "41         Switzerland                     1.57               2.93    53.58   \n",
       "42            Thailand                     0.00               0.70     0.00   \n",
       "43              Turkey                     2.44               2.44   100.00   \n",
       "44      United Kingdom                    65.67             391.55    16.77   \n",
       "45       United States                     9.90             122.89     8.06   \n",
       "46             Vietnam                     0.00               0.00      NaN   \n",
       "\n",
       "     2017   2018   2019 Code  \n",
       "0    3.95   3.85    NaN  ARG  \n",
       "1   15.60  15.32  15.32  AUS  \n",
       "2    7.29   6.96   7.07  AUT  \n",
       "3    0.49   0.51    NaN  BGD  \n",
       "4    2.06   1.94    NaN  BRA  \n",
       "5     NaN    NaN    NaN  NaN  \n",
       "6   15.14  15.25  15.21  CAN  \n",
       "7    4.65   4.57   4.95  CHL  \n",
       "8    6.67   6.84    NaN  CHN  \n",
       "9    1.42   1.47    NaN  COL  \n",
       "10   2.21   2.15    NaN  CUB  \n",
       "11   5.54   5.53   4.94  DNK  \n",
       "12   2.04   2.18    NaN  DOM  \n",
       "13    NaN    NaN    NaN  NaN  \n",
       "14    NaN    NaN    NaN  NaN  \n",
       "15   7.70   7.93   7.52  FIN  \n",
       "16   4.62   4.51   4.35  FRA  \n",
       "17   8.70   8.40   7.93  DEU  \n",
       "18   0.45   0.49    NaN  GHA  \n",
       "19   0.88   0.95    NaN  HND  \n",
       "20   1.64   1.71    NaN  IND  \n",
       "21   3.71   3.99    NaN  IRQ  \n",
       "22   7.43   7.26   6.78  IRL  \n",
       "23   7.31   6.71   7.01  ISR  \n",
       "24   5.31   5.25   5.01  ITA  \n",
       "25   2.34   2.79    NaN  JAM  \n",
       "26   8.88   8.55   8.45  JPN  \n",
       "27   0.33   0.31    NaN  KEN  \n",
       "28   3.30   3.27    NaN  MUS  \n",
       "29   3.62   3.60   3.62  MEX  \n",
       "30   9.08   8.76   8.23  NLD  \n",
       "31   6.74   6.78   4.87  NOR  \n",
       "32   0.88   0.92    NaN  PAK  \n",
       "33   2.29   2.22    NaN  PAN  \n",
       "34   1.58   1.56    NaN  PER  \n",
       "35   1.20   1.24    NaN  PHL  \n",
       "36   7.96   7.96   7.63  POL  \n",
       "37   0.50   0.51    NaN  SEN  \n",
       "38  11.68  11.74  11.31  KOR  \n",
       "39   5.46   5.33   4.88  ESP  \n",
       "40   3.66   3.39   3.16  SWE  \n",
       "41   4.36   4.20   4.23  CHE  \n",
       "42   3.52   3.47    NaN  THA  \n",
       "43   4.71   4.60   4.51  TUR  \n",
       "44   5.45   5.30   5.08  GBR  \n",
       "45  14.63  15.03  14.49  USA  \n",
       "46   2.02   2.37    NaN  VNM  "
      ]
     },
     "execution_count": 18,
     "metadata": {},
     "output_type": "execute_result"
    }
   ],
   "source": [
    "GROmerge = merge.merge(df, how='left', left_on='Country', right_on='Country')\n",
    "GROmerge"
   ]
  },
  {
   "cell_type": "code",
   "execution_count": 19,
   "metadata": {},
   "outputs": [
    {
     "data": {
      "text/plain": [
       "array([[<AxesSubplot:xlabel='Green recovery spending', ylabel='Green recovery spending'>,\n",
       "        <AxesSubplot:xlabel='Recovery spending', ylabel='Green recovery spending'>,\n",
       "        <AxesSubplot:xlabel='Percent', ylabel='Green recovery spending'>,\n",
       "        <AxesSubplot:xlabel='2017', ylabel='Green recovery spending'>,\n",
       "        <AxesSubplot:xlabel='2018', ylabel='Green recovery spending'>,\n",
       "        <AxesSubplot:xlabel='2019', ylabel='Green recovery spending'>],\n",
       "       [<AxesSubplot:xlabel='Green recovery spending', ylabel='Recovery spending'>,\n",
       "        <AxesSubplot:xlabel='Recovery spending', ylabel='Recovery spending'>,\n",
       "        <AxesSubplot:xlabel='Percent', ylabel='Recovery spending'>,\n",
       "        <AxesSubplot:xlabel='2017', ylabel='Recovery spending'>,\n",
       "        <AxesSubplot:xlabel='2018', ylabel='Recovery spending'>,\n",
       "        <AxesSubplot:xlabel='2019', ylabel='Recovery spending'>],\n",
       "       [<AxesSubplot:xlabel='Green recovery spending', ylabel='Percent'>,\n",
       "        <AxesSubplot:xlabel='Recovery spending', ylabel='Percent'>,\n",
       "        <AxesSubplot:xlabel='Percent', ylabel='Percent'>,\n",
       "        <AxesSubplot:xlabel='2017', ylabel='Percent'>,\n",
       "        <AxesSubplot:xlabel='2018', ylabel='Percent'>,\n",
       "        <AxesSubplot:xlabel='2019', ylabel='Percent'>],\n",
       "       [<AxesSubplot:xlabel='Green recovery spending', ylabel='2017'>,\n",
       "        <AxesSubplot:xlabel='Recovery spending', ylabel='2017'>,\n",
       "        <AxesSubplot:xlabel='Percent', ylabel='2017'>,\n",
       "        <AxesSubplot:xlabel='2017', ylabel='2017'>,\n",
       "        <AxesSubplot:xlabel='2018', ylabel='2017'>,\n",
       "        <AxesSubplot:xlabel='2019', ylabel='2017'>],\n",
       "       [<AxesSubplot:xlabel='Green recovery spending', ylabel='2018'>,\n",
       "        <AxesSubplot:xlabel='Recovery spending', ylabel='2018'>,\n",
       "        <AxesSubplot:xlabel='Percent', ylabel='2018'>,\n",
       "        <AxesSubplot:xlabel='2017', ylabel='2018'>,\n",
       "        <AxesSubplot:xlabel='2018', ylabel='2018'>,\n",
       "        <AxesSubplot:xlabel='2019', ylabel='2018'>],\n",
       "       [<AxesSubplot:xlabel='Green recovery spending', ylabel='2019'>,\n",
       "        <AxesSubplot:xlabel='Recovery spending', ylabel='2019'>,\n",
       "        <AxesSubplot:xlabel='Percent', ylabel='2019'>,\n",
       "        <AxesSubplot:xlabel='2017', ylabel='2019'>,\n",
       "        <AxesSubplot:xlabel='2018', ylabel='2019'>,\n",
       "        <AxesSubplot:xlabel='2019', ylabel='2019'>]], dtype=object)"
      ]
     },
     "execution_count": 19,
     "metadata": {},
     "output_type": "execute_result"
    },
    {
     "data": {
      "image/png": "[encoded data removed]",
      "text/plain": [
       "<Figure size 1080x1080 with 36 Axes>"
      ]
     },
     "metadata": {
      "needs_background": "light"
     },
     "output_type": "display_data"
    }
   ],
   "source": [
    "from pandas.plotting import scatter_matrix\n",
    "\n",
    "scatter_matrix(GROmerge, alpha=0.5, diagonal='kde', figsize=(15,15))"
   ]
  },
  {
   "cell_type": "code",
   "execution_count": 20,
   "metadata": {},
   "outputs": [
    {
     "data": {
      "text/html": [
       "<div>\n",
       "<style scoped>\n",
       "    .dataframe tbody tr th:only-of-type {\n",
       "        vertical-align: middle;\n",
       "    }\n",
       "\n",
       "    .dataframe tbody tr th {\n",
       "        vertical-align: top;\n",
       "    }\n",
       "\n",
       "    .dataframe thead th {\n",
       "        text-align: right;\n",
       "    }\n",
       "</style>\n",
       "<table border=\"1\" class=\"dataframe\">\n",
       "  <thead>\n",
       "    <tr style=\"text-align: right;\">\n",
       "      <th></th>\n",
       "      <th>Green recovery spending</th>\n",
       "      <th>Recovery spending</th>\n",
       "      <th>Percent</th>\n",
       "      <th>2017</th>\n",
       "      <th>2018</th>\n",
       "      <th>2019</th>\n",
       "    </tr>\n",
       "  </thead>\n",
       "  <tbody>\n",
       "    <tr>\n",
       "      <th>Green recovery spending</th>\n",
       "      <td>1.000000</td>\n",
       "      <td>0.651449</td>\n",
       "      <td>0.172324</td>\n",
       "      <td>0.368559</td>\n",
       "      <td>0.366671</td>\n",
       "      <td>0.069849</td>\n",
       "    </tr>\n",
       "    <tr>\n",
       "      <th>Recovery spending</th>\n",
       "      <td>0.651449</td>\n",
       "      <td>1.000000</td>\n",
       "      <td>-0.121912</td>\n",
       "      <td>0.385552</td>\n",
       "      <td>0.385954</td>\n",
       "      <td>0.177777</td>\n",
       "    </tr>\n",
       "    <tr>\n",
       "      <th>Percent</th>\n",
       "      <td>0.172324</td>\n",
       "      <td>-0.121912</td>\n",
       "      <td>1.000000</td>\n",
       "      <td>-0.033965</td>\n",
       "      <td>-0.029180</td>\n",
       "      <td>-0.205024</td>\n",
       "    </tr>\n",
       "    <tr>\n",
       "      <th>2017</th>\n",
       "      <td>0.368559</td>\n",
       "      <td>0.385552</td>\n",
       "      <td>-0.033965</td>\n",
       "      <td>1.000000</td>\n",
       "      <td>0.998704</td>\n",
       "      <td>0.993332</td>\n",
       "    </tr>\n",
       "    <tr>\n",
       "      <th>2018</th>\n",
       "      <td>0.366671</td>\n",
       "      <td>0.385954</td>\n",
       "      <td>-0.029180</td>\n",
       "      <td>0.998704</td>\n",
       "      <td>1.000000</td>\n",
       "      <td>0.992422</td>\n",
       "    </tr>\n",
       "    <tr>\n",
       "      <th>2019</th>\n",
       "      <td>0.069849</td>\n",
       "      <td>0.177777</td>\n",
       "      <td>-0.205024</td>\n",
       "      <td>0.993332</td>\n",
       "      <td>0.992422</td>\n",
       "      <td>1.000000</td>\n",
       "    </tr>\n",
       "  </tbody>\n",
       "</table>\n",
       "</div>"
      ],
      "text/plain": [
       "                         Green recovery spending  Recovery spending   Percent  \\\n",
       "Green recovery spending                 1.000000           0.651449  0.172324   \n",
       "Recovery spending                       0.651449           1.000000 -0.121912   \n",
       "Percent                                 0.172324          -0.121912  1.000000   \n",
       "2017                                    0.368559           0.385552 -0.033965   \n",
       "2018                                    0.366671           0.385954 -0.029180   \n",
       "2019                                    0.069849           0.177777 -0.205024   \n",
       "\n",
       "                             2017      2018      2019  \n",
       "Green recovery spending  0.368559  0.366671  0.069849  \n",
       "Recovery spending        0.385552  0.385954  0.177777  \n",
       "Percent                 -0.033965 -0.029180 -0.205024  \n",
       "2017                     1.000000  0.998704  0.993332  \n",
       "2018                     0.998704  1.000000  0.992422  \n",
       "2019                     0.993332  0.992422  1.000000  "
      ]
     },
     "execution_count": 20,
     "metadata": {},
     "output_type": "execute_result"
    }
   ],
   "source": [
    "corr = GROmerge.corr(method='pearson')\n",
    "corr"
   ]
  },
  {
   "cell_type": "code",
   "execution_count": 21,
   "metadata": {},
   "outputs": [
    {
     "data": {
      "text/plain": [
       "<AxesSubplot:>"
      ]
     },
     "execution_count": 21,
     "metadata": {},
     "output_type": "execute_result"
    },
    {
     "data": {
      "image/png": "[encoded data removed]",
      "text/plain": [
       "<Figure size 432x288 with 2 Axes>"
      ]
     },
     "metadata": {
      "needs_background": "light"
     },
     "output_type": "display_data"
    }
   ],
   "source": [
    "sns.heatmap(corr, xticklabels=corr.columns, yticklabels=corr.columns, annot=True)\n"
   ]
  },
  {
   "cell_type": "code",
   "execution_count": 52,
   "metadata": {},
   "outputs": [
    {
     "data": {
      "application/vnd.plotly.v1+json": {
       "config": {
        "plotlyServerURL": "https://plot.ly"
       },
       "data": [
        {
         "marker": {
          "line": {
           "color": "black",
           "width": 1
          },
          "size": [
           0,
           2.3,
           0.38,
           0.5499999999999999,
           0.28,
           0,
           21.669999999999998,
           0.45,
           51.88,
           0.15,
           0,
           8.24,
           0,
           238.24,
           78.71,
           2.79,
           40.01,
           47.43,
           0,
           0,
           0.82,
           0,
           0.36,
           0.62,
           0.9,
           0.05,
           23.669999999999998,
           0.04,
           0.01,
           0,
           0.18,
           4.42,
           0.13,
           0.18,
           0,
           0,
           5.24,
           0.1,
           53.300000000000004,
           51.190000000000005,
           1.1,
           1.57,
           0,
           2.44,
           65.67,
           9.899999999999999,
           0
          ],
          "sizemode": "area",
          "sizeref": 0.05956
         },
         "mode": "markers",
         "text": [
          "Country: Argentina<br>Green recovery spending as % of recovery spending: 0.0<br>CO2 emissions per capita (tons CO2/population): 3.85<br>Green recovery spending (USD billions): 0.0<br>",
          "Country: Australia<br>Green recovery spending as % of recovery spending: 1.76<br>CO2 emissions per capita (tons CO2/population): 15.32<br>Green recovery spending (USD billions): 2.3<br>",
          "Country: Austria<br>Green recovery spending as % of recovery spending: 23.75<br>CO2 emissions per capita (tons CO2/population): 6.96<br>Green recovery spending (USD billions): 0.38<br>",
          "Country: Bangladesh<br>Green recovery spending as % of recovery spending: 87.3<br>CO2 emissions per capita (tons CO2/population): 0.51<br>Green recovery spending (USD billions): 0.5499999999999999<br>",
          "Country: Brazil<br>Green recovery spending as % of recovery spending: 51.85<br>CO2 emissions per capita (tons CO2/population): 1.94<br>Green recovery spending (USD billions): 0.28<br>",
          "Country: Burkina Faso<br>Green recovery spending as % of recovery spending: nan<br>CO2 emissions per capita (tons CO2/population): nan<br>Green recovery spending (USD billions): 0.0<br>",
          "Country: Canada<br>Green recovery spending as % of recovery spending: 55.99<br>CO2 emissions per capita (tons CO2/population): 15.25<br>Green recovery spending (USD billions): 21.669999999999998<br>",
          "Country: Chile<br>Green recovery spending as % of recovery spending: 14.38<br>CO2 emissions per capita (tons CO2/population): 4.57<br>Green recovery spending (USD billions): 0.45<br>",
          "Country: China<br>Green recovery spending as % of recovery spending: 12.14<br>CO2 emissions per capita (tons CO2/population): 6.84<br>Green recovery spending (USD billions): 51.88<br>",
          "Country: Colombia<br>Green recovery spending as % of recovery spending: 46.88<br>CO2 emissions per capita (tons CO2/population): 1.47<br>Green recovery spending (USD billions): 0.15<br>",
          "Country: Cuba<br>Green recovery spending as % of recovery spending: nan<br>CO2 emissions per capita (tons CO2/population): 2.15<br>Green recovery spending (USD billions): 0.0<br>",
          "Country: Denmark<br>Green recovery spending as % of recovery spending: 62.0<br>CO2 emissions per capita (tons CO2/population): 5.53<br>Green recovery spending (USD billions): 8.24<br>",
          "Country: Dominican Republic<br>Green recovery spending as % of recovery spending: 0.0<br>CO2 emissions per capita (tons CO2/population): 2.18<br>Green recovery spending (USD billions): 0.0<br>",
          "Country: EIB<br>Green recovery spending as % of recovery spending: 75.48<br>CO2 emissions per capita (tons CO2/population): nan<br>Green recovery spending (USD billions): 238.24<br>",
          "Country: European Union<br>Green recovery spending as % of recovery spending: 9.92<br>CO2 emissions per capita (tons CO2/population): nan<br>Green recovery spending (USD billions): 78.71<br>",
          "Country: Finland<br>Green recovery spending as % of recovery spending: 58.0<br>CO2 emissions per capita (tons CO2/population): 7.93<br>Green recovery spending (USD billions): 2.79<br>",
          "Country: France<br>Green recovery spending as % of recovery spending: 35.56<br>CO2 emissions per capita (tons CO2/population): 4.51<br>Green recovery spending (USD billions): 40.01<br>",
          "Country: Germany<br>Green recovery spending as % of recovery spending: 47.33<br>CO2 emissions per capita (tons CO2/population): 8.4<br>Green recovery spending (USD billions): 47.43<br>",
          "Country: Ghana<br>Green recovery spending as % of recovery spending: 0.0<br>CO2 emissions per capita (tons CO2/population): 0.49<br>Green recovery spending (USD billions): 0.0<br>",
          "Country: Honduras<br>Green recovery spending as % of recovery spending: 0.0<br>CO2 emissions per capita (tons CO2/population): 0.95<br>Green recovery spending (USD billions): 0.0<br>",
          "Country: India<br>Green recovery spending as % of recovery spending: 5.1<br>CO2 emissions per capita (tons CO2/population): 1.71<br>Green recovery spending (USD billions): 0.82<br>",
          "Country: Iraq<br>Green recovery spending as % of recovery spending: 0.0<br>CO2 emissions per capita (tons CO2/population): 3.99<br>Green recovery spending (USD billions): 0.0<br>",
          "Country: Ireland<br>Green recovery spending as % of recovery spending: 6.3<br>CO2 emissions per capita (tons CO2/population): 7.26<br>Green recovery spending (USD billions): 0.36<br>",
          "Country: Israel<br>Green recovery spending as % of recovery spending: 28.57<br>CO2 emissions per capita (tons CO2/population): 6.71<br>Green recovery spending (USD billions): 0.62<br>",
          "Country: Italy<br>Green recovery spending as % of recovery spending: 1.53<br>CO2 emissions per capita (tons CO2/population): 5.25<br>Green recovery spending (USD billions): 0.9<br>",
          "Country: Jamaica<br>Green recovery spending as % of recovery spending: 100.0<br>CO2 emissions per capita (tons CO2/population): 2.79<br>Green recovery spending (USD billions): 0.05<br>",
          "Country: Japan<br>Green recovery spending as % of recovery spending: 12.28<br>CO2 emissions per capita (tons CO2/population): 8.55<br>Green recovery spending (USD billions): 23.669999999999998<br>",
          "Country: Kenya<br>Green recovery spending as % of recovery spending: 22.22<br>CO2 emissions per capita (tons CO2/population): 0.31<br>Green recovery spending (USD billions): 0.04<br>",
          "Country: Mauritius<br>Green recovery spending as % of recovery spending: 100.0<br>CO2 emissions per capita (tons CO2/population): 3.27<br>Green recovery spending (USD billions): 0.01<br>",
          "Country: Mexico<br>Green recovery spending as % of recovery spending: 0.0<br>CO2 emissions per capita (tons CO2/population): 3.6<br>Green recovery spending (USD billions): 0.0<br>",
          "Country: Netherlands<br>Green recovery spending as % of recovery spending: 0.66<br>CO2 emissions per capita (tons CO2/population): 8.76<br>Green recovery spending (USD billions): 0.18<br>",
          "Country: Norway<br>Green recovery spending as % of recovery spending: 53.51<br>CO2 emissions per capita (tons CO2/population): 6.78<br>Green recovery spending (USD billions): 4.42<br>",
          "Country: Pakistan<br>Green recovery spending as % of recovery spending: 4.63<br>CO2 emissions per capita (tons CO2/population): 0.92<br>Green recovery spending (USD billions): 0.13<br>",
          "Country: Panama<br>Green recovery spending as % of recovery spending: 50.0<br>CO2 emissions per capita (tons CO2/population): 2.22<br>Green recovery spending (USD billions): 0.18<br>",
          "Country: Peru<br>Green recovery spending as % of recovery spending: 0.0<br>CO2 emissions per capita (tons CO2/population): 1.56<br>Green recovery spending (USD billions): 0.0<br>",
          "Country: Philippines<br>Green recovery spending as % of recovery spending: 0.0<br>CO2 emissions per capita (tons CO2/population): 1.24<br>Green recovery spending (USD billions): 0.0<br>",
          "Country: Poland<br>Green recovery spending as % of recovery spending: 30.77<br>CO2 emissions per capita (tons CO2/population): 7.96<br>Green recovery spending (USD billions): 5.24<br>",
          "Country: Senegal<br>Green recovery spending as % of recovery spending: 18.87<br>CO2 emissions per capita (tons CO2/population): 0.51<br>Green recovery spending (USD billions): 0.1<br>",
          "Country: South Korea<br>Green recovery spending as % of recovery spending: 26.8<br>CO2 emissions per capita (tons CO2/population): 11.74<br>Green recovery spending (USD billions): 53.300000000000004<br>",
          "Country: Spain<br>Green recovery spending as % of recovery spending: 23.3<br>CO2 emissions per capita (tons CO2/population): 5.33<br>Green recovery spending (USD billions): 51.190000000000005<br>",
          "Country: Sweden<br>Green recovery spending as % of recovery spending: 41.67<br>CO2 emissions per capita (tons CO2/population): 3.39<br>Green recovery spending (USD billions): 1.1<br>",
          "Country: Switzerland<br>Green recovery spending as % of recovery spending: 53.58<br>CO2 emissions per capita (tons CO2/population): 4.2<br>Green recovery spending (USD billions): 1.57<br>",
          "Country: Thailand<br>Green recovery spending as % of recovery spending: 0.0<br>CO2 emissions per capita (tons CO2/population): 3.47<br>Green recovery spending (USD billions): 0.0<br>",
          "Country: Turkey<br>Green recovery spending as % of recovery spending: 100.0<br>CO2 emissions per capita (tons CO2/population): 4.6<br>Green recovery spending (USD billions): 2.44<br>",
          "Country: United Kingdom<br>Green recovery spending as % of recovery spending: 16.77<br>CO2 emissions per capita (tons CO2/population): 5.3<br>Green recovery spending (USD billions): 65.67<br>",
          "Country: United States<br>Green recovery spending as % of recovery spending: 8.06<br>CO2 emissions per capita (tons CO2/population): 15.03<br>Green recovery spending (USD billions): 9.899999999999999<br>",
          "Country: Vietnam<br>Green recovery spending as % of recovery spending: nan<br>CO2 emissions per capita (tons CO2/population): 2.37<br>Green recovery spending (USD billions): 0.0<br>"
         ],
         "type": "scatter",
         "x": [
          0,
          1.76,
          23.75,
          87.3,
          51.85,
          null,
          55.99,
          14.38,
          12.14,
          46.88,
          null,
          62,
          0,
          75.48,
          9.92,
          58,
          35.56,
          47.33,
          0,
          0,
          5.1,
          0,
          6.3,
          28.57,
          1.53,
          100,
          12.28,
          22.22,
          100,
          0,
          0.66,
          53.51,
          4.63,
          50,
          0,
          0,
          30.77,
          18.87,
          26.8,
          23.3,
          41.67,
          53.58,
          0,
          100,
          16.77,
          8.06,
          null
         ],
         "y": [
          3.85,
          15.32,
          6.96,
          0.51,
          1.94,
          null,
          15.25,
          4.57,
          6.84,
          1.47,
          2.15,
          5.53,
          2.18,
          null,
          null,
          7.93,
          4.51,
          8.4,
          0.49,
          0.95,
          1.71,
          3.99,
          7.26,
          6.71,
          5.25,
          2.79,
          8.55,
          0.31,
          3.27,
          3.6,
          8.76,
          6.78,
          0.92,
          2.22,
          1.56,
          1.24,
          7.96,
          0.51,
          11.74,
          5.33,
          3.39,
          4.2,
          3.47,
          4.6,
          5.3,
          15.03,
          2.37
         ]
        }
       ],
       "layout": {
        "paper_bgcolor": "rgb(243, 243, 243)",
        "plot_bgcolor": "rgb(243, 243, 243)",
        "template": {
         "data": {
          "bar": [
           {
            "error_x": {
             "color": "#2a3f5f"
            },
            "error_y": {
             "color": "#2a3f5f"
            },
            "marker": {
             "line": {
              "color": "#E5ECF6",
              "width": 0.5
             },
             "pattern": {
              "fillmode": "overlay",
              "size": 10,
              "solidity": 0.2
             }
            },
            "type": "bar"
           }
          ],
          "barpolar": [
           {
            "marker": {
             "line": {
              "color": "#E5ECF6",
              "width": 0.5
             },
             "pattern": {
              "fillmode": "overlay",
              "size": 10,
              "solidity": 0.2
             }
            },
            "type": "barpolar"
           }
          ],
          "carpet": [
           {
            "aaxis": {
             "endlinecolor": "#2a3f5f",
             "gridcolor": "white",
             "linecolor": "white",
             "minorgridcolor": "white",
             "startlinecolor": "#2a3f5f"
            },
            "baxis": {
             "endlinecolor": "#2a3f5f",
             "gridcolor": "white",
             "linecolor": "white",
             "minorgridcolor": "white",
             "startlinecolor": "#2a3f5f"
            },
            "type": "carpet"
           }
          ],
          "choropleth": [
           {
            "colorbar": {
             "outlinewidth": 0,
             "ticks": ""
            },
            "type": "choropleth"
           }
          ],
          "contour": [
           {
            "colorbar": {
             "outlinewidth": 0,
             "ticks": ""
            },
            "colorscale": [
             [
              0,
              "#0d0887"
             ],
             [
              0.1111111111111111,
              "#46039f"
             ],
             [
              0.2222222222222222,
              "#7201a8"
             ],
             [
              0.3333333333333333,
              "#9c179e"
             ],
             [
              0.4444444444444444,
              "#bd3786"
             ],
             [
              0.5555555555555556,
              "#d8576b"
             ],
             [
              0.6666666666666666,
              "#ed7953"
             ],
             [
              0.7777777777777778,
              "#fb9f3a"
             ],
             [
              0.8888888888888888,
              "#fdca26"
             ],
             [
              1,
              "#f0f921"
             ]
            ],
            "type": "contour"
           }
          ],
          "contourcarpet": [
           {
            "colorbar": {
             "outlinewidth": 0,
             "ticks": ""
            },
            "type": "contourcarpet"
           }
          ],
          "heatmap": [
           {
            "colorbar": {
             "outlinewidth": 0,
             "ticks": ""
            },
            "colorscale": [
             [
              0,
              "#0d0887"
             ],
             [
              0.1111111111111111,
              "#46039f"
             ],
             [
              0.2222222222222222,
              "#7201a8"
             ],
             [
              0.3333333333333333,
              "#9c179e"
             ],
             [
              0.4444444444444444,
              "#bd3786"
             ],
             [
              0.5555555555555556,
              "#d8576b"
             ],
             [
              0.6666666666666666,
              "#ed7953"
             ],
             [
              0.7777777777777778,
              "#fb9f3a"
             ],
             [
              0.8888888888888888,
              "#fdca26"
             ],
             [
              1,
              "#f0f921"
             ]
            ],
            "type": "heatmap"
           }
          ],
          "heatmapgl": [
           {
            "colorbar": {
             "outlinewidth": 0,
             "ticks": ""
            },
            "colorscale": [
             [
              0,
              "#0d0887"
             ],
             [
              0.1111111111111111,
              "#46039f"
             ],
             [
              0.2222222222222222,
              "#7201a8"
             ],
             [
              0.3333333333333333,
              "#9c179e"
             ],
             [
              0.4444444444444444,
              "#bd3786"
             ],
             [
              0.5555555555555556,
              "#d8576b"
             ],
             [
              0.6666666666666666,
              "#ed7953"
             ],
             [
              0.7777777777777778,
              "#fb9f3a"
             ],
             [
              0.8888888888888888,
              "#fdca26"
             ],
             [
              1,
              "#f0f921"
             ]
            ],
            "type": "heatmapgl"
           }
          ],
          "histogram": [
           {
            "marker": {
             "pattern": {
              "fillmode": "overlay",
              "size": 10,
              "solidity": 0.2
             }
            },
            "type": "histogram"
           }
          ],
          "histogram2d": [
           {
            "colorbar": {
             "outlinewidth": 0,
             "ticks": ""
            },
            "colorscale": [
             [
              0,
              "#0d0887"
             ],
             [
              0.1111111111111111,
              "#46039f"
             ],
             [
              0.2222222222222222,
              "#7201a8"
             ],
             [
              0.3333333333333333,
              "#9c179e"
             ],
             [
              0.4444444444444444,
              "#bd3786"
             ],
             [
              0.5555555555555556,
              "#d8576b"
             ],
             [
              0.6666666666666666,
              "#ed7953"
             ],
             [
              0.7777777777777778,
              "#fb9f3a"
             ],
             [
              0.8888888888888888,
              "#fdca26"
             ],
             [
              1,
              "#f0f921"
             ]
            ],
            "type": "histogram2d"
           }
          ],
          "histogram2dcontour": [
           {
            "colorbar": {
             "outlinewidth": 0,
             "ticks": ""
            },
            "colorscale": [
             [
              0,
              "#0d0887"
             ],
             [
              0.1111111111111111,
              "#46039f"
             ],
             [
              0.2222222222222222,
              "#7201a8"
             ],
             [
              0.3333333333333333,
              "#9c179e"
             ],
             [
              0.4444444444444444,
              "#bd3786"
             ],
             [
              0.5555555555555556,
              "#d8576b"
             ],
             [
              0.6666666666666666,
              "#ed7953"
             ],
             [
              0.7777777777777778,
              "#fb9f3a"
             ],
             [
              0.8888888888888888,
              "#fdca26"
             ],
             [
              1,
              "#f0f921"
             ]
            ],
            "type": "histogram2dcontour"
           }
          ],
          "mesh3d": [
           {
            "colorbar": {
             "outlinewidth": 0,
             "ticks": ""
            },
            "type": "mesh3d"
           }
          ],
          "parcoords": [
           {
            "line": {
             "colorbar": {
              "outlinewidth": 0,
              "ticks": ""
             }
            },
            "type": "parcoords"
           }
          ],
          "pie": [
           {
            "automargin": true,
            "type": "pie"
           }
          ],
          "scatter": [
           {
            "marker": {
             "colorbar": {
              "outlinewidth": 0,
              "ticks": ""
             }
            },
            "type": "scatter"
           }
          ],
          "scatter3d": [
           {
            "line": {
             "colorbar": {
              "outlinewidth": 0,
              "ticks": ""
             }
            },
            "marker": {
             "colorbar": {
              "outlinewidth": 0,
              "ticks": ""
             }
            },
            "type": "scatter3d"
           }
          ],
          "scattercarpet": [
           {
            "marker": {
             "colorbar": {
              "outlinewidth": 0,
              "ticks": ""
             }
            },
            "type": "scattercarpet"
           }
          ],
          "scattergeo": [
           {
            "marker": {
             "colorbar": {
              "outlinewidth": 0,
              "ticks": ""
             }
            },
            "type": "scattergeo"
           }
          ],
          "scattergl": [
           {
            "marker": {
             "colorbar": {
              "outlinewidth": 0,
              "ticks": ""
             }
            },
            "type": "scattergl"
           }
          ],
          "scattermapbox": [
           {
            "marker": {
             "colorbar": {
              "outlinewidth": 0,
              "ticks": ""
             }
            },
            "type": "scattermapbox"
           }
          ],
          "scatterpolar": [
           {
            "marker": {
             "colorbar": {
              "outlinewidth": 0,
              "ticks": ""
             }
            },
            "type": "scatterpolar"
           }
          ],
          "scatterpolargl": [
           {
            "marker": {
             "colorbar": {
              "outlinewidth": 0,
              "ticks": ""
             }
            },
            "type": "scatterpolargl"
           }
          ],
          "scatterternary": [
           {
            "marker": {
             "colorbar": {
              "outlinewidth": 0,
              "ticks": ""
             }
            },
            "type": "scatterternary"
           }
          ],
          "surface": [
           {
            "colorbar": {
             "outlinewidth": 0,
             "ticks": ""
            },
            "colorscale": [
             [
              0,
              "#0d0887"
             ],
             [
              0.1111111111111111,
              "#46039f"
             ],
             [
              0.2222222222222222,
              "#7201a8"
             ],
             [
              0.3333333333333333,
              "#9c179e"
             ],
             [
              0.4444444444444444,
              "#bd3786"
             ],
             [
              0.5555555555555556,
              "#d8576b"
             ],
             [
              0.6666666666666666,
              "#ed7953"
             ],
             [
              0.7777777777777778,
              "#fb9f3a"
             ],
             [
              0.8888888888888888,
              "#fdca26"
             ],
             [
              1,
              "#f0f921"
             ]
            ],
            "type": "surface"
           }
          ],
          "table": [
           {
            "cells": {
             "fill": {
              "color": "#EBF0F8"
             },
             "line": {
              "color": "white"
             }
            },
            "header": {
             "fill": {
              "color": "#C8D4E3"
             },
             "line": {
              "color": "white"
             }
            },
            "type": "table"
           }
          ]
         },
         "layout": {
          "annotationdefaults": {
           "arrowcolor": "#2a3f5f",
           "arrowhead": 0,
           "arrowwidth": 1
          },
          "autotypenumbers": "strict",
          "coloraxis": {
           "colorbar": {
            "outlinewidth": 0,
            "ticks": ""
           }
          },
          "colorscale": {
           "diverging": [
            [
             0,
             "#8e0152"
            ],
            [
             0.1,
             "#c51b7d"
            ],
            [
             0.2,
             "#de77ae"
            ],
            [
             0.3,
             "#f1b6da"
            ],
            [
             0.4,
             "#fde0ef"
            ],
            [
             0.5,
             "#f7f7f7"
            ],
            [
             0.6,
             "#e6f5d0"
            ],
            [
             0.7,
             "#b8e186"
            ],
            [
             0.8,
             "#7fbc41"
            ],
            [
             0.9,
             "#4d9221"
            ],
            [
             1,
             "#276419"
            ]
           ],
           "sequential": [
            [
             0,
             "#0d0887"
            ],
            [
             0.1111111111111111,
             "#46039f"
            ],
            [
             0.2222222222222222,
             "#7201a8"
            ],
            [
             0.3333333333333333,
             "#9c179e"
            ],
            [
             0.4444444444444444,
             "#bd3786"
            ],
            [
             0.5555555555555556,
             "#d8576b"
            ],
            [
             0.6666666666666666,
             "#ed7953"
            ],
            [
             0.7777777777777778,
             "#fb9f3a"
            ],
            [
             0.8888888888888888,
             "#fdca26"
            ],
            [
             1,
             "#f0f921"
            ]
           ],
           "sequentialminus": [
            [
             0,
             "#0d0887"
            ],
            [
             0.1111111111111111,
             "#46039f"
            ],
            [
             0.2222222222222222,
             "#7201a8"
            ],
            [
             0.3333333333333333,
             "#9c179e"
            ],
            [
             0.4444444444444444,
             "#bd3786"
            ],
            [
             0.5555555555555556,
             "#d8576b"
            ],
            [
             0.6666666666666666,
             "#ed7953"
            ],
            [
             0.7777777777777778,
             "#fb9f3a"
            ],
            [
             0.8888888888888888,
             "#fdca26"
            ],
            [
             1,
             "#f0f921"
            ]
           ]
          },
          "colorway": [
           "#636efa",
           "#EF553B",
           "#00cc96",
           "#ab63fa",
           "#FFA15A",
           "#19d3f3",
           "#FF6692",
           "#B6E880",
           "#FF97FF",
           "#FECB52"
          ],
          "font": {
           "color": "#2a3f5f"
          },
          "geo": {
           "bgcolor": "white",
           "lakecolor": "white",
           "landcolor": "#E5ECF6",
           "showlakes": true,
           "showland": true,
           "subunitcolor": "white"
          },
          "hoverlabel": {
           "align": "left"
          },
          "hovermode": "closest",
          "mapbox": {
           "style": "light"
          },
          "paper_bgcolor": "white",
          "plot_bgcolor": "#E5ECF6",
          "polar": {
           "angularaxis": {
            "gridcolor": "white",
            "linecolor": "white",
            "ticks": ""
           },
           "bgcolor": "#E5ECF6",
           "radialaxis": {
            "gridcolor": "white",
            "linecolor": "white",
            "ticks": ""
           }
          },
          "scene": {
           "xaxis": {
            "backgroundcolor": "#E5ECF6",
            "gridcolor": "white",
            "gridwidth": 2,
            "linecolor": "white",
            "showbackground": true,
            "ticks": "",
            "zerolinecolor": "white"
           },
           "yaxis": {
            "backgroundcolor": "#E5ECF6",
            "gridcolor": "white",
            "gridwidth": 2,
            "linecolor": "white",
            "showbackground": true,
            "ticks": "",
            "zerolinecolor": "white"
           },
           "zaxis": {
            "backgroundcolor": "#E5ECF6",
            "gridcolor": "white",
            "gridwidth": 2,
            "linecolor": "white",
            "showbackground": true,
            "ticks": "",
            "zerolinecolor": "white"
           }
          },
          "shapedefaults": {
           "line": {
            "color": "#2a3f5f"
           }
          },
          "ternary": {
           "aaxis": {
            "gridcolor": "white",
            "linecolor": "white",
            "ticks": ""
           },
           "baxis": {
            "gridcolor": "white",
            "linecolor": "white",
            "ticks": ""
           },
           "bgcolor": "#E5ECF6",
           "caxis": {
            "gridcolor": "white",
            "linecolor": "white",
            "ticks": ""
           }
          },
          "title": {
           "x": 0.05
          },
          "xaxis": {
           "automargin": true,
           "gridcolor": "white",
           "linecolor": "white",
           "ticks": "",
           "title": {
            "standoff": 15
           },
           "zerolinecolor": "white",
           "zerolinewidth": 2
          },
          "yaxis": {
           "automargin": true,
           "gridcolor": "white",
           "linecolor": "white",
           "ticks": "",
           "title": {
            "standoff": 15
           },
           "zerolinecolor": "white",
           "zerolinewidth": 2
          }
         }
        },
        "title": {
         "text": "Green recovery spending vs CO2 emissions per capita 2018"
        },
        "xaxis": {
         "gridcolor": "white",
         "gridwidth": 2,
         "title": {
          "text": "Green recovery spending as % of recovery spending"
         }
        },
        "yaxis": {
         "gridcolor": "white",
         "gridwidth": 2,
         "title": {
          "text": "C02 emissions per capita"
         }
        }
       }
      },
      "text/html": [
       "<div>                            <div id=\"7c953a3f-ca36-462f-b673-ebbd2126fdbf\" class=\"plotly-graph-div\" style=\"height:525px; width:100%;\"></div>            <script type=\"text/javascript\">                require([\"plotly\"], function(Plotly) {                    window.PLOTLYENV=window.PLOTLYENV || {};                                    if (document.getElementById(\"7c953a3f-ca36-462f-b673-ebbd2126fdbf\")) {                    Plotly.newPlot(                        \"7c953a3f-ca36-462f-b673-ebbd2126fdbf\",                        [{\"marker\":{\"line\":{\"color\":\"black\",\"width\":1},\"size\":[0.0,2.3,0.38,0.5499999999999999,0.28,0.0,21.669999999999998,0.45,51.88,0.15,0.0,8.24,0.0,238.24,78.71,2.79,40.01,47.43,0.0,0.0,0.82,0.0,0.36,0.62,0.9,0.05,23.669999999999998,0.04,0.01,0.0,0.18,4.42,0.13,0.18,0.0,0.0,5.24,0.1,53.300000000000004,51.190000000000005,1.1,1.57,0.0,2.44,65.67,9.899999999999999,0.0],\"sizemode\":\"area\",\"sizeref\":0.05956},\"mode\":\"markers\",\"text\":[\"Country: Argentina<br>Green recovery spending as % of recovery spending: 0.0<br>CO2 emissions per capita (tons CO2/population): 3.85<br>Green recovery spending (USD billions): 0.0<br>\",\"Country: Australia<br>Green recovery spending as % of recovery spending: 1.76<br>CO2 emissions per capita (tons CO2/population): 15.32<br>Green recovery spending (USD billions): 2.3<br>\",\"Country: Austria<br>Green recovery spending as % of recovery spending: 23.75<br>CO2 emissions per capita (tons CO2/population): 6.96<br>Green recovery spending (USD billions): 0.38<br>\",\"Country: Bangladesh<br>Green recovery spending as % of recovery spending: 87.3<br>CO2 emissions per capita (tons CO2/population): 0.51<br>Green recovery spending (USD billions): 0.5499999999999999<br>\",\"Country: Brazil<br>Green recovery spending as % of recovery spending: 51.85<br>CO2 emissions per capita (tons CO2/population): 1.94<br>Green recovery spending (USD billions): 0.28<br>\",\"Country: Burkina Faso<br>Green recovery spending as % of recovery spending: nan<br>CO2 emissions per capita (tons CO2/population): nan<br>Green recovery spending (USD billions): 0.0<br>\",\"Country: Canada<br>Green recovery spending as % of recovery spending: 55.99<br>CO2 emissions per capita (tons CO2/population): 15.25<br>Green recovery spending (USD billions): 21.669999999999998<br>\",\"Country: Chile<br>Green recovery spending as % of recovery spending: 14.38<br>CO2 emissions per capita (tons CO2/population): 4.57<br>Green recovery spending (USD billions): 0.45<br>\",\"Country: China<br>Green recovery spending as % of recovery spending: 12.14<br>CO2 emissions per capita (tons CO2/population): 6.84<br>Green recovery spending (USD billions): 51.88<br>\",\"Country: Colombia<br>Green recovery spending as % of recovery spending: 46.88<br>CO2 emissions per capita (tons CO2/population): 1.47<br>Green recovery spending (USD billions): 0.15<br>\",\"Country: Cuba<br>Green recovery spending as % of recovery spending: nan<br>CO2 emissions per capita (tons CO2/population): 2.15<br>Green recovery spending (USD billions): 0.0<br>\",\"Country: Denmark<br>Green recovery spending as % of recovery spending: 62.0<br>CO2 emissions per capita (tons CO2/population): 5.53<br>Green recovery spending (USD billions): 8.24<br>\",\"Country: Dominican Republic<br>Green recovery spending as % of recovery spending: 0.0<br>CO2 emissions per capita (tons CO2/population): 2.18<br>Green recovery spending (USD billions): 0.0<br>\",\"Country: EIB<br>Green recovery spending as % of recovery spending: 75.48<br>CO2 emissions per capita (tons CO2/population): nan<br>Green recovery spending (USD billions): 238.24<br>\",\"Country: European Union<br>Green recovery spending as % of recovery spending: 9.92<br>CO2 emissions per capita (tons CO2/population): nan<br>Green recovery spending (USD billions): 78.71<br>\",\"Country: Finland<br>Green recovery spending as % of recovery spending: 58.0<br>CO2 emissions per capita (tons CO2/population): 7.93<br>Green recovery spending (USD billions): 2.79<br>\",\"Country: France<br>Green recovery spending as % of recovery spending: 35.56<br>CO2 emissions per capita (tons CO2/population): 4.51<br>Green recovery spending (USD billions): 40.01<br>\",\"Country: Germany<br>Green recovery spending as % of recovery spending: 47.33<br>CO2 emissions per capita (tons CO2/population): 8.4<br>Green recovery spending (USD billions): 47.43<br>\",\"Country: Ghana<br>Green recovery spending as % of recovery spending: 0.0<br>CO2 emissions per capita (tons CO2/population): 0.49<br>Green recovery spending (USD billions): 0.0<br>\",\"Country: Honduras<br>Green recovery spending as % of recovery spending: 0.0<br>CO2 emissions per capita (tons CO2/population): 0.95<br>Green recovery spending (USD billions): 0.0<br>\",\"Country: India<br>Green recovery spending as % of recovery spending: 5.1<br>CO2 emissions per capita (tons CO2/population): 1.71<br>Green recovery spending (USD billions): 0.82<br>\",\"Country: Iraq<br>Green recovery spending as % of recovery spending: 0.0<br>CO2 emissions per capita (tons CO2/population): 3.99<br>Green recovery spending (USD billions): 0.0<br>\",\"Country: Ireland<br>Green recovery spending as % of recovery spending: 6.3<br>CO2 emissions per capita (tons CO2/population): 7.26<br>Green recovery spending (USD billions): 0.36<br>\",\"Country: Israel<br>Green recovery spending as % of recovery spending: 28.57<br>CO2 emissions per capita (tons CO2/population): 6.71<br>Green recovery spending (USD billions): 0.62<br>\",\"Country: Italy<br>Green recovery spending as % of recovery spending: 1.53<br>CO2 emissions per capita (tons CO2/population): 5.25<br>Green recovery spending (USD billions): 0.9<br>\",\"Country: Jamaica<br>Green recovery spending as % of recovery spending: 100.0<br>CO2 emissions per capita (tons CO2/population): 2.79<br>Green recovery spending (USD billions): 0.05<br>\",\"Country: Japan<br>Green recovery spending as % of recovery spending: 12.28<br>CO2 emissions per capita (tons CO2/population): 8.55<br>Green recovery spending (USD billions): 23.669999999999998<br>\",\"Country: Kenya<br>Green recovery spending as % of recovery spending: 22.22<br>CO2 emissions per capita (tons CO2/population): 0.31<br>Green recovery spending (USD billions): 0.04<br>\",\"Country: Mauritius<br>Green recovery spending as % of recovery spending: 100.0<br>CO2 emissions per capita (tons CO2/population): 3.27<br>Green recovery spending (USD billions): 0.01<br>\",\"Country: Mexico<br>Green recovery spending as % of recovery spending: 0.0<br>CO2 emissions per capita (tons CO2/population): 3.6<br>Green recovery spending (USD billions): 0.0<br>\",\"Country: Netherlands<br>Green recovery spending as % of recovery spending: 0.66<br>CO2 emissions per capita (tons CO2/population): 8.76<br>Green recovery spending (USD billions): 0.18<br>\",\"Country: Norway<br>Green recovery spending as % of recovery spending: 53.51<br>CO2 emissions per capita (tons CO2/population): 6.78<br>Green recovery spending (USD billions): 4.42<br>\",\"Country: Pakistan<br>Green recovery spending as % of recovery spending: 4.63<br>CO2 emissions per capita (tons CO2/population): 0.92<br>Green recovery spending (USD billions): 0.13<br>\",\"Country: Panama<br>Green recovery spending as % of recovery spending: 50.0<br>CO2 emissions per capita (tons CO2/population): 2.22<br>Green recovery spending (USD billions): 0.18<br>\",\"Country: Peru<br>Green recovery spending as % of recovery spending: 0.0<br>CO2 emissions per capita (tons CO2/population): 1.56<br>Green recovery spending (USD billions): 0.0<br>\",\"Country: Philippines<br>Green recovery spending as % of recovery spending: 0.0<br>CO2 emissions per capita (tons CO2/population): 1.24<br>Green recovery spending (USD billions): 0.0<br>\",\"Country: Poland<br>Green recovery spending as % of recovery spending: 30.77<br>CO2 emissions per capita (tons CO2/population): 7.96<br>Green recovery spending (USD billions): 5.24<br>\",\"Country: Senegal<br>Green recovery spending as % of recovery spending: 18.87<br>CO2 emissions per capita (tons CO2/population): 0.51<br>Green recovery spending (USD billions): 0.1<br>\",\"Country: South Korea<br>Green recovery spending as % of recovery spending: 26.8<br>CO2 emissions per capita (tons CO2/population): 11.74<br>Green recovery spending (USD billions): 53.300000000000004<br>\",\"Country: Spain<br>Green recovery spending as % of recovery spending: 23.3<br>CO2 emissions per capita (tons CO2/population): 5.33<br>Green recovery spending (USD billions): 51.190000000000005<br>\",\"Country: Sweden<br>Green recovery spending as % of recovery spending: 41.67<br>CO2 emissions per capita (tons CO2/population): 3.39<br>Green recovery spending (USD billions): 1.1<br>\",\"Country: Switzerland<br>Green recovery spending as % of recovery spending: 53.58<br>CO2 emissions per capita (tons CO2/population): 4.2<br>Green recovery spending (USD billions): 1.57<br>\",\"Country: Thailand<br>Green recovery spending as % of recovery spending: 0.0<br>CO2 emissions per capita (tons CO2/population): 3.47<br>Green recovery spending (USD billions): 0.0<br>\",\"Country: Turkey<br>Green recovery spending as % of recovery spending: 100.0<br>CO2 emissions per capita (tons CO2/population): 4.6<br>Green recovery spending (USD billions): 2.44<br>\",\"Country: United Kingdom<br>Green recovery spending as % of recovery spending: 16.77<br>CO2 emissions per capita (tons CO2/population): 5.3<br>Green recovery spending (USD billions): 65.67<br>\",\"Country: United States<br>Green recovery spending as % of recovery spending: 8.06<br>CO2 emissions per capita (tons CO2/population): 15.03<br>Green recovery spending (USD billions): 9.899999999999999<br>\",\"Country: Vietnam<br>Green recovery spending as % of recovery spending: nan<br>CO2 emissions per capita (tons CO2/population): 2.37<br>Green recovery spending (USD billions): 0.0<br>\"],\"type\":\"scatter\",\"x\":[0.0,1.76,23.75,87.3,51.85,null,55.99,14.38,12.14,46.88,null,62.0,0.0,75.48,9.92,58.0,35.56,47.33,0.0,0.0,5.1,0.0,6.3,28.57,1.53,100.0,12.28,22.22,100.0,0.0,0.66,53.51,4.63,50.0,0.0,0.0,30.77,18.87,26.8,23.3,41.67,53.58,0.0,100.0,16.77,8.06,null],\"y\":[3.85,15.32,6.96,0.51,1.94,null,15.25,4.57,6.84,1.47,2.15,5.53,2.18,null,null,7.93,4.51,8.4,0.49,0.95,1.71,3.99,7.26,6.71,5.25,2.79,8.55,0.31,3.27,3.6,8.76,6.78,0.92,2.22,1.56,1.24,7.96,0.51,11.74,5.33,3.39,4.2,3.47,4.6,5.3,15.03,2.37]}],                        {\"paper_bgcolor\":\"rgb(243, 243, 243)\",\"plot_bgcolor\":\"rgb(243, 243, 243)\",\"template\":{\"data\":{\"bar\":[{\"error_x\":{\"color\":\"#2a3f5f\"},\"error_y\":{\"color\":\"#2a3f5f\"},\"marker\":{\"line\":{\"color\":\"#E5ECF6\",\"width\":0.5},\"pattern\":{\"fillmode\":\"overlay\",\"size\":10,\"solidity\":0.2}},\"type\":\"bar\"}],\"barpolar\":[{\"marker\":{\"line\":{\"color\":\"#E5ECF6\",\"width\":0.5},\"pattern\":{\"fillmode\":\"overlay\",\"size\":10,\"solidity\":0.2}},\"type\":\"barpolar\"}],\"carpet\":[{\"aaxis\":{\"endlinecolor\":\"#2a3f5f\",\"gridcolor\":\"white\",\"linecolor\":\"white\",\"minorgridcolor\":\"white\",\"startlinecolor\":\"#2a3f5f\"},\"baxis\":{\"endlinecolor\":\"#2a3f5f\",\"gridcolor\":\"white\",\"linecolor\":\"white\",\"minorgridcolor\":\"white\",\"startlinecolor\":\"#2a3f5f\"},\"type\":\"carpet\"}],\"choropleth\":[{\"colorbar\":{\"outlinewidth\":0,\"ticks\":\"\"},\"type\":\"choropleth\"}],\"contour\":[{\"colorbar\":{\"outlinewidth\":0,\"ticks\":\"\"},\"colorscale\":[[0.0,\"#0d0887\"],[0.1111111111111111,\"#46039f\"],[0.2222222222222222,\"#7201a8\"],[0.3333333333333333,\"#9c179e\"],[0.4444444444444444,\"#bd3786\"],[0.5555555555555556,\"#d8576b\"],[0.6666666666666666,\"#ed7953\"],[0.7777777777777778,\"#fb9f3a\"],[0.8888888888888888,\"#fdca26\"],[1.0,\"#f0f921\"]],\"type\":\"contour\"}],\"contourcarpet\":[{\"colorbar\":{\"outlinewidth\":0,\"ticks\":\"\"},\"type\":\"contourcarpet\"}],\"heatmap\":[{\"colorbar\":{\"outlinewidth\":0,\"ticks\":\"\"},\"colorscale\":[[0.0,\"#0d0887\"],[0.1111111111111111,\"#46039f\"],[0.2222222222222222,\"#7201a8\"],[0.3333333333333333,\"#9c179e\"],[0.4444444444444444,\"#bd3786\"],[0.5555555555555556,\"#d8576b\"],[0.6666666666666666,\"#ed7953\"],[0.7777777777777778,\"#fb9f3a\"],[0.8888888888888888,\"#fdca26\"],[1.0,\"#f0f921\"]],\"type\":\"heatmap\"}],\"heatmapgl\":[{\"colorbar\":{\"outlinewidth\":0,\"ticks\":\"\"},\"colorscale\":[[0.0,\"#0d0887\"],[0.1111111111111111,\"#46039f\"],[0.2222222222222222,\"#7201a8\"],[0.3333333333333333,\"#9c179e\"],[0.4444444444444444,\"#bd3786\"],[0.5555555555555556,\"#d8576b\"],[0.6666666666666666,\"#ed7953\"],[0.7777777777777778,\"#fb9f3a\"],[0.8888888888888888,\"#fdca26\"],[1.0,\"#f0f921\"]],\"type\":\"heatmapgl\"}],\"histogram\":[{\"marker\":{\"pattern\":{\"fillmode\":\"overlay\",\"size\":10,\"solidity\":0.2}},\"type\":\"histogram\"}],\"histogram2d\":[{\"colorbar\":{\"outlinewidth\":0,\"ticks\":\"\"},\"colorscale\":[[0.0,\"#0d0887\"],[0.1111111111111111,\"#46039f\"],[0.2222222222222222,\"#7201a8\"],[0.3333333333333333,\"#9c179e\"],[0.4444444444444444,\"#bd3786\"],[0.5555555555555556,\"#d8576b\"],[0.6666666666666666,\"#ed7953\"],[0.7777777777777778,\"#fb9f3a\"],[0.8888888888888888,\"#fdca26\"],[1.0,\"#f0f921\"]],\"type\":\"histogram2d\"}],\"histogram2dcontour\":[{\"colorbar\":{\"outlinewidth\":0,\"ticks\":\"\"},\"colorscale\":[[0.0,\"#0d0887\"],[0.1111111111111111,\"#46039f\"],[0.2222222222222222,\"#7201a8\"],[0.3333333333333333,\"#9c179e\"],[0.4444444444444444,\"#bd3786\"],[0.5555555555555556,\"#d8576b\"],[0.6666666666666666,\"#ed7953\"],[0.7777777777777778,\"#fb9f3a\"],[0.8888888888888888,\"#fdca26\"],[1.0,\"#f0f921\"]],\"type\":\"histogram2dcontour\"}],\"mesh3d\":[{\"colorbar\":{\"outlinewidth\":0,\"ticks\":\"\"},\"type\":\"mesh3d\"}],\"parcoords\":[{\"line\":{\"colorbar\":{\"outlinewidth\":0,\"ticks\":\"\"}},\"type\":\"parcoords\"}],\"pie\":[{\"automargin\":true,\"type\":\"pie\"}],\"scatter\":[{\"marker\":{\"colorbar\":{\"outlinewidth\":0,\"ticks\":\"\"}},\"type\":\"scatter\"}],\"scatter3d\":[{\"line\":{\"colorbar\":{\"outlinewidth\":0,\"ticks\":\"\"}},\"marker\":{\"colorbar\":{\"outlinewidth\":0,\"ticks\":\"\"}},\"type\":\"scatter3d\"}],\"scattercarpet\":[{\"marker\":{\"colorbar\":{\"outlinewidth\":0,\"ticks\":\"\"}},\"type\":\"scattercarpet\"}],\"scattergeo\":[{\"marker\":{\"colorbar\":{\"outlinewidth\":0,\"ticks\":\"\"}},\"type\":\"scattergeo\"}],\"scattergl\":[{\"marker\":{\"colorbar\":{\"outlinewidth\":0,\"ticks\":\"\"}},\"type\":\"scattergl\"}],\"scattermapbox\":[{\"marker\":{\"colorbar\":{\"outlinewidth\":0,\"ticks\":\"\"}},\"type\":\"scattermapbox\"}],\"scatterpolar\":[{\"marker\":{\"colorbar\":{\"outlinewidth\":0,\"ticks\":\"\"}},\"type\":\"scatterpolar\"}],\"scatterpolargl\":[{\"marker\":{\"colorbar\":{\"outlinewidth\":0,\"ticks\":\"\"}},\"type\":\"scatterpolargl\"}],\"scatterternary\":[{\"marker\":{\"colorbar\":{\"outlinewidth\":0,\"ticks\":\"\"}},\"type\":\"scatterternary\"}],\"surface\":[{\"colorbar\":{\"outlinewidth\":0,\"ticks\":\"\"},\"colorscale\":[[0.0,\"#0d0887\"],[0.1111111111111111,\"#46039f\"],[0.2222222222222222,\"#7201a8\"],[0.3333333333333333,\"#9c179e\"],[0.4444444444444444,\"#bd3786\"],[0.5555555555555556,\"#d8576b\"],[0.6666666666666666,\"#ed7953\"],[0.7777777777777778,\"#fb9f3a\"],[0.8888888888888888,\"#fdca26\"],[1.0,\"#f0f921\"]],\"type\":\"surface\"}],\"table\":[{\"cells\":{\"fill\":{\"color\":\"#EBF0F8\"},\"line\":{\"color\":\"white\"}},\"header\":{\"fill\":{\"color\":\"#C8D4E3\"},\"line\":{\"color\":\"white\"}},\"type\":\"table\"}]},\"layout\":{\"annotationdefaults\":{\"arrowcolor\":\"#2a3f5f\",\"arrowhead\":0,\"arrowwidth\":1},\"autotypenumbers\":\"strict\",\"coloraxis\":{\"colorbar\":{\"outlinewidth\":0,\"ticks\":\"\"}},\"colorscale\":{\"diverging\":[[0,\"#8e0152\"],[0.1,\"#c51b7d\"],[0.2,\"#de77ae\"],[0.3,\"#f1b6da\"],[0.4,\"#fde0ef\"],[0.5,\"#f7f7f7\"],[0.6,\"#e6f5d0\"],[0.7,\"#b8e186\"],[0.8,\"#7fbc41\"],[0.9,\"#4d9221\"],[1,\"#276419\"]],\"sequential\":[[0.0,\"#0d0887\"],[0.1111111111111111,\"#46039f\"],[0.2222222222222222,\"#7201a8\"],[0.3333333333333333,\"#9c179e\"],[0.4444444444444444,\"#bd3786\"],[0.5555555555555556,\"#d8576b\"],[0.6666666666666666,\"#ed7953\"],[0.7777777777777778,\"#fb9f3a\"],[0.8888888888888888,\"#fdca26\"],[1.0,\"#f0f921\"]],\"sequentialminus\":[[0.0,\"#0d0887\"],[0.1111111111111111,\"#46039f\"],[0.2222222222222222,\"#7201a8\"],[0.3333333333333333,\"#9c179e\"],[0.4444444444444444,\"#bd3786\"],[0.5555555555555556,\"#d8576b\"],[0.6666666666666666,\"#ed7953\"],[0.7777777777777778,\"#fb9f3a\"],[0.8888888888888888,\"#fdca26\"],[1.0,\"#f0f921\"]]},\"colorway\":[\"#636efa\",\"#EF553B\",\"#00cc96\",\"#ab63fa\",\"#FFA15A\",\"#19d3f3\",\"#FF6692\",\"#B6E880\",\"#FF97FF\",\"#FECB52\"],\"font\":{\"color\":\"#2a3f5f\"},\"geo\":{\"bgcolor\":\"white\",\"lakecolor\":\"white\",\"landcolor\":\"#E5ECF6\",\"showlakes\":true,\"showland\":true,\"subunitcolor\":\"white\"},\"hoverlabel\":{\"align\":\"left\"},\"hovermode\":\"closest\",\"mapbox\":{\"style\":\"light\"},\"paper_bgcolor\":\"white\",\"plot_bgcolor\":\"#E5ECF6\",\"polar\":{\"angularaxis\":{\"gridcolor\":\"white\",\"linecolor\":\"white\",\"ticks\":\"\"},\"bgcolor\":\"#E5ECF6\",\"radialaxis\":{\"gridcolor\":\"white\",\"linecolor\":\"white\",\"ticks\":\"\"}},\"scene\":{\"xaxis\":{\"backgroundcolor\":\"#E5ECF6\",\"gridcolor\":\"white\",\"gridwidth\":2,\"linecolor\":\"white\",\"showbackground\":true,\"ticks\":\"\",\"zerolinecolor\":\"white\"},\"yaxis\":{\"backgroundcolor\":\"#E5ECF6\",\"gridcolor\":\"white\",\"gridwidth\":2,\"linecolor\":\"white\",\"showbackground\":true,\"ticks\":\"\",\"zerolinecolor\":\"white\"},\"zaxis\":{\"backgroundcolor\":\"#E5ECF6\",\"gridcolor\":\"white\",\"gridwidth\":2,\"linecolor\":\"white\",\"showbackground\":true,\"ticks\":\"\",\"zerolinecolor\":\"white\"}},\"shapedefaults\":{\"line\":{\"color\":\"#2a3f5f\"}},\"ternary\":{\"aaxis\":{\"gridcolor\":\"white\",\"linecolor\":\"white\",\"ticks\":\"\"},\"baxis\":{\"gridcolor\":\"white\",\"linecolor\":\"white\",\"ticks\":\"\"},\"bgcolor\":\"#E5ECF6\",\"caxis\":{\"gridcolor\":\"white\",\"linecolor\":\"white\",\"ticks\":\"\"}},\"title\":{\"x\":0.05},\"xaxis\":{\"automargin\":true,\"gridcolor\":\"white\",\"linecolor\":\"white\",\"ticks\":\"\",\"title\":{\"standoff\":15},\"zerolinecolor\":\"white\",\"zerolinewidth\":2},\"yaxis\":{\"automargin\":true,\"gridcolor\":\"white\",\"linecolor\":\"white\",\"ticks\":\"\",\"title\":{\"standoff\":15},\"zerolinecolor\":\"white\",\"zerolinewidth\":2}}},\"title\":{\"text\":\"Green recovery spending vs CO2 emissions per capita 2018\"},\"xaxis\":{\"gridcolor\":\"white\",\"gridwidth\":2,\"title\":{\"text\":\"Green recovery spending as % of recovery spending\"}},\"yaxis\":{\"gridcolor\":\"white\",\"gridwidth\":2,\"title\":{\"text\":\"C02 emissions per capita\"}}},                        {\"responsive\": true}                    ).then(function(){\n",
       "                            \n",
       "var gd = document.getElementById('7c953a3f-ca36-462f-b673-ebbd2126fdbf');\n",
       "var x = new MutationObserver(function (mutations, observer) {{\n",
       "        var display = window.getComputedStyle(gd).display;\n",
       "        if (!display || display === 'none') {{\n",
       "            console.log([gd, 'removed!']);\n",
       "            Plotly.purge(gd);\n",
       "            observer.disconnect();\n",
       "        }}\n",
       "}});\n",
       "\n",
       "// Listen for the removal of the full notebook cells\n",
       "var notebookContainer = gd.closest('#notebook-container');\n",
       "if (notebookContainer) {{\n",
       "    x.observe(notebookContainer, {childList: true});\n",
       "}}\n",
       "\n",
       "// Listen for the clearing of the current output cell\n",
       "var outputEl = gd.closest('.output');\n",
       "if (outputEl) {{\n",
       "    x.observe(outputEl, {childList: true});\n",
       "}}\n",
       "\n",
       "                        })                };                });            </script>        </div>"
      ]
     },
     "metadata": {},
     "output_type": "display_data"
    }
   ],
   "source": [
    "import plotly.graph_objects as go\n",
    "\n",
    "hover_text = []\n",
    "for index, row in GROmerge.iterrows():\n",
    "    hover_text.append(('Country: {country}<br>'+\n",
    "                      'Green recovery spending as % of recovery spending: {percent}<br>'+\n",
    "                      'CO2 emissions per capita (tons CO2/population): {co2}<br>'+\n",
    "                      'Green recovery spending (USD billions): {grs}<br>').format(country=row['Country'],\n",
    "                                            percent=row['Percent'],\n",
    "                                            co2=row['2018'],\n",
    "                                            grs=row['Green recovery spending'],\n",
    "                                            ))\n",
    "fig = go.Figure(data=[go.Scatter(\n",
    "    x=GROmerge['Percent'], y=GROmerge['2018'],\n",
    "    text=hover_text,\n",
    "    mode='markers',\n",
    "      marker=dict(\n",
    "        size=GROmerge['Green recovery spending'])\n",
    ")\n",
    "])\n",
    "\n",
    "fig.update_layout(\n",
    "    title='Green recovery spending vs CO2 emissions per capita 2018',\n",
    "    xaxis=dict(\n",
    "        title='Green recovery spending as % of recovery spending',\n",
    "        gridcolor='white',\n",
    "        ##type='log',\n",
    "        gridwidth=2,\n",
    "    ),\n",
    "    yaxis=dict(\n",
    "        title='C02 emissions per capita',\n",
    "        gridcolor='white',\n",
    "        gridwidth=2,\n",
    "    ),\n",
    "    paper_bgcolor='rgb(243, 243, 243)',\n",
    "    plot_bgcolor='rgb(243, 243, 243)',\n",
    ")\n",
    "\n",
    "sizeref = 0.1 * max(GROmerge['Green recovery spending']) / (20 ** 2)\n",
    "fig.update_traces(mode='markers', marker=dict(sizemode='area',\n",
    "                                              sizeref=sizeref, line_width=1, line_color='black'))\n",
    "\n",
    "fig.show()\n",
    "\n",
    "##really few points because not scaled - others not visible?\n",
    "##https://plotly.com/python/bubble-charts/"
   ]
  },
  {
   "cell_type": "code",
   "execution_count": null,
   "metadata": {},
   "outputs": [],
   "source": []
  }
 ],
 "metadata": {
  "kernelspec": {
   "display_name": "Python 3 (ipykernel)",
   "language": "python",
   "name": "python3"
  },
  "language_info": {
   "codemirror_mode": {
    "name": "ipython",
    "version": 3
   },
   "file_extension": ".py",
   "mimetype": "text/x-python",
   "name": "python",
   "nbconvert_exporter": "python",
   "pygments_lexer": "ipython3",
   "version": "3.9.6"
  }
 },
 "nbformat": 4,
 "nbformat_minor": 1
}
